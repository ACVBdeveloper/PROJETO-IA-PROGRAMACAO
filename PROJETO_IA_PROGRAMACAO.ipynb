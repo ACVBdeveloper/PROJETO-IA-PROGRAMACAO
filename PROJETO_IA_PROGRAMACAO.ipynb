{
  "nbformat": 4,
  "nbformat_minor": 0,
  "metadata": {
    "colab": {
      "provenance": [],
      "collapsed_sections": [
        "PY4hWb5ZYraR",
        "cJwmswguHCHX",
        "2eX36w0fTYYQ",
        "APSnVpt20VK5",
        "DtHunTcK060J",
        "uSFFvSUd0pL8",
        "q9i34huyg_yE",
        "_8A4Qud72F8G",
        "krtaxeN_2M6p",
        "GFRFB2cUhNvi",
        "9bBWlPvGUmFw"
      ],
      "include_colab_link": true
    },
    "kernelspec": {
      "name": "python3",
      "display_name": "Python 3"
    },
    "language_info": {
      "name": "python"
    }
  },
  "cells": [
    {
      "cell_type": "markdown",
      "metadata": {
        "id": "view-in-github",
        "colab_type": "text"
      },
      "source": [
        "<a href=\"https://colab.research.google.com/github/ACVBdeveloper/PROJETO-IA-PROGRAMACAO/blob/main/PROJETO_IA_PROGRAMACAO.ipynb\" target=\"_parent\"><img src=\"https://colab.research.google.com/assets/colab-badge.svg\" alt=\"Open In Colab\"/></a>"
      ]
    },
    {
      "cell_type": "markdown",
      "source": [],
      "metadata": {
        "id": "j998PK6HyYdr"
      }
    },
    {
      "cell_type": "code",
      "metadata": {
        "id": "di55JpcySeG9"
      },
      "source": [
        "fcast = pd.read_csv('/content/drive/MyDrive/IA-DF-CSV-XLSX/Acidentes_por_ocorrencia/CSV/numeros_gigantes.csv', encoding=\"ISO-8859-1\", sep = ';')\n"
      ],
      "execution_count": null,
      "outputs": []
    },
    {
      "cell_type": "code",
      "metadata": {
        "id": "CwzAwpafVUVf"
      },
      "source": [
        "fcast['Dados'] = fcast['Dados'].apply(lambda x: str(x).replace(\",\",\".\"))"
      ],
      "execution_count": null,
      "outputs": []
    },
    {
      "cell_type": "code",
      "metadata": {
        "id": "G_BlKfkDht5t"
      },
      "source": [
        "fcast['Dados'] = fcast['Dados'].astype('float64')"
      ],
      "execution_count": null,
      "outputs": []
    },
    {
      "cell_type": "code",
      "metadata": {
        "id": "PrSlc6fHod4A"
      },
      "source": [
        "fcast['Anos'] = pd.to_datetime(fcast.Anos)"
      ],
      "execution_count": null,
      "outputs": []
    },
    {
      "cell_type": "code",
      "metadata": {
        "colab": {
          "base_uri": "https://localhost:8080/"
        },
        "id": "4gry5WGtUu5c",
        "outputId": "830b8542-7fef-4c15-d01a-474b67ced89a"
      },
      "source": [
        "fcast.info()"
      ],
      "execution_count": null,
      "outputs": [
        {
          "output_type": "stream",
          "name": "stdout",
          "text": [
            "<class 'pandas.core.frame.DataFrame'>\n",
            "RangeIndex: 49 entries, 0 to 48\n",
            "Data columns (total 2 columns):\n",
            " #   Column  Non-Null Count  Dtype         \n",
            "---  ------  --------------  -----         \n",
            " 0   Anos    49 non-null     datetime64[ns]\n",
            " 1   Dados   49 non-null     float64       \n",
            "dtypes: datetime64[ns](1), float64(1)\n",
            "memory usage: 912.0 bytes\n"
          ]
        }
      ]
    },
    {
      "cell_type": "code",
      "metadata": {
        "id": "zoN_w3sNc4C_"
      },
      "source": [
        "#fcast.set_index('Anos')"
      ],
      "execution_count": null,
      "outputs": []
    },
    {
      "cell_type": "markdown",
      "metadata": {
        "id": "eqX8lUQq0FLx"
      },
      "source": [
        "# **Importação de Bibliotecas e Leitura dos Datasets**"
      ]
    },
    {
      "cell_type": "code",
      "metadata": {
        "id": "P7Sf9NiaXu9U"
      },
      "source": [
        "import pandas as pd\n",
        "import numpy as np\n",
        "import datetime #Módulo Datetime fornece as classes para manipulação de datas e horas.\n",
        "import plotly.express as px #Plotly - Biblioteca para visualização de gráficos interativos python.\n",
        "import plotly.graph_objects as go\n",
        "import plotly.figure_factory as ff\n",
        "import seaborn as sn\n",
        "import matplotlib.pyplot as plt"
      ],
      "execution_count": null,
      "outputs": []
    },
    {
      "cell_type": "code",
      "metadata": {
        "colab": {
          "base_uri": "https://localhost:8080/"
        },
        "id": "LCcCMh2okv59",
        "outputId": "7374e8d8-95e5-4962-9e04-a6f8cfcd5278"
      },
      "source": [
        "#Montando o seu drive dentro do pandas.\n",
        "#Clique no link que aparecer e entre com a sua conta. Ele vai te dar um código para ser colado no espaço vazio. Dê \"enter\".\n",
        "from google.colab import drive\n",
        "drive.mount('/content/drive')"
      ],
      "execution_count": null,
      "outputs": [
        {
          "output_type": "stream",
          "name": "stdout",
          "text": [
            "Mounted at /content/drive\n"
          ]
        }
      ]
    },
    {
      "cell_type": "code",
      "metadata": {
        "id": "nKBOpMh9ycvF",
        "colab": {
          "base_uri": "https://localhost:8080/",
          "height": 391
        },
        "outputId": "78a76335-c808-461c-9561-8a93162f4bdd"
      },
      "source": [
        "#dataframes \"Acidentes agrupados por Pessoa\"\n",
        "apessoa2016 = pd.read_csv('/content/drive/MyDrive/IA-DF-CSV-XLSX/Acidentes_por_pessoa/CSV/acidentes2016_data_corrigida.csv', encoding=\"ISO-8859-1\", sep=';')\n",
        "apessoa2017 = pd.read_csv('/content/drive/MyDrive/IA-DF-CSV-XLSX/Acidentes_por_pessoa/CSV/acidentes2017.csv', encoding=\"ISO-8859-1\", sep=';')\n",
        "apessoa2018 = pd.read_csv('/content/drive/MyDrive/IA-DF-CSV-XLSX/Acidentes_por_pessoa/CSV/acidentes2018.csv', encoding=\"ISO-8859-1\", sep=';')\n",
        "apessoa2019 = pd.read_csv('/content/drive/MyDrive/IA-DF-CSV-XLSX/Acidentes_por_pessoa/CSV/acidentes2019.csv', encoding=\"ISO-8859-1\", sep=';')\n",
        "apessoa2020 = pd.read_csv('/content/drive/MyDrive/IA-DF-CSV-XLSX/Acidentes_por_pessoa/CSV/acidentes2020.csv', encoding=\"ISO-8859-1\", sep=';')"
      ],
      "execution_count": null,
      "outputs": [
        {
          "output_type": "error",
          "ename": "FileNotFoundError",
          "evalue": "ignored",
          "traceback": [
            "\u001b[0;31m---------------------------------------------------------------------------\u001b[0m",
            "\u001b[0;31mFileNotFoundError\u001b[0m                         Traceback (most recent call last)",
            "\u001b[0;32m<ipython-input-3-d04f0ad9122a>\u001b[0m in \u001b[0;36m<module>\u001b[0;34m()\u001b[0m\n\u001b[1;32m      1\u001b[0m \u001b[0;31m#dataframes \"Acidentes agrupados por Pessoa\"\u001b[0m\u001b[0;34m\u001b[0m\u001b[0;34m\u001b[0m\u001b[0;34m\u001b[0m\u001b[0m\n\u001b[0;32m----> 2\u001b[0;31m \u001b[0mapessoa2016\u001b[0m \u001b[0;34m=\u001b[0m \u001b[0mpd\u001b[0m\u001b[0;34m.\u001b[0m\u001b[0mread_csv\u001b[0m\u001b[0;34m(\u001b[0m\u001b[0;34m'/content/drive/MyDrive/IA-DF-CSV-XLSX/Acidentes_por_pessoa/CSV/acidentes2016_data_corrigida.csv'\u001b[0m\u001b[0;34m,\u001b[0m \u001b[0mencoding\u001b[0m\u001b[0;34m=\u001b[0m\u001b[0;34m\"ISO-8859-1\"\u001b[0m\u001b[0;34m,\u001b[0m \u001b[0msep\u001b[0m\u001b[0;34m=\u001b[0m\u001b[0;34m';'\u001b[0m\u001b[0;34m)\u001b[0m\u001b[0;34m\u001b[0m\u001b[0;34m\u001b[0m\u001b[0m\n\u001b[0m\u001b[1;32m      3\u001b[0m \u001b[0mapessoa2017\u001b[0m \u001b[0;34m=\u001b[0m \u001b[0mpd\u001b[0m\u001b[0;34m.\u001b[0m\u001b[0mread_csv\u001b[0m\u001b[0;34m(\u001b[0m\u001b[0;34m'/content/drive/MyDrive/IA-DF-CSV-XLSX/Acidentes_por_pessoa/CSV/acidentes2017.csv'\u001b[0m\u001b[0;34m,\u001b[0m \u001b[0mencoding\u001b[0m\u001b[0;34m=\u001b[0m\u001b[0;34m\"ISO-8859-1\"\u001b[0m\u001b[0;34m,\u001b[0m \u001b[0msep\u001b[0m\u001b[0;34m=\u001b[0m\u001b[0;34m';'\u001b[0m\u001b[0;34m)\u001b[0m\u001b[0;34m\u001b[0m\u001b[0;34m\u001b[0m\u001b[0m\n\u001b[1;32m      4\u001b[0m \u001b[0mapessoa2018\u001b[0m \u001b[0;34m=\u001b[0m \u001b[0mpd\u001b[0m\u001b[0;34m.\u001b[0m\u001b[0mread_csv\u001b[0m\u001b[0;34m(\u001b[0m\u001b[0;34m'/content/drive/MyDrive/IA-DF-CSV-XLSX/Acidentes_por_pessoa/CSV/acidentes2018.csv'\u001b[0m\u001b[0;34m,\u001b[0m \u001b[0mencoding\u001b[0m\u001b[0;34m=\u001b[0m\u001b[0;34m\"ISO-8859-1\"\u001b[0m\u001b[0;34m,\u001b[0m \u001b[0msep\u001b[0m\u001b[0;34m=\u001b[0m\u001b[0;34m';'\u001b[0m\u001b[0;34m)\u001b[0m\u001b[0;34m\u001b[0m\u001b[0;34m\u001b[0m\u001b[0m\n\u001b[1;32m      5\u001b[0m \u001b[0mapessoa2019\u001b[0m \u001b[0;34m=\u001b[0m \u001b[0mpd\u001b[0m\u001b[0;34m.\u001b[0m\u001b[0mread_csv\u001b[0m\u001b[0;34m(\u001b[0m\u001b[0;34m'/content/drive/MyDrive/IA-DF-CSV-XLSX/Acidentes_por_pessoa/CSV/acidentes2019.csv'\u001b[0m\u001b[0;34m,\u001b[0m \u001b[0mencoding\u001b[0m\u001b[0;34m=\u001b[0m\u001b[0;34m\"ISO-8859-1\"\u001b[0m\u001b[0;34m,\u001b[0m \u001b[0msep\u001b[0m\u001b[0;34m=\u001b[0m\u001b[0;34m';'\u001b[0m\u001b[0;34m)\u001b[0m\u001b[0;34m\u001b[0m\u001b[0;34m\u001b[0m\u001b[0m\n",
            "\u001b[0;32m/usr/local/lib/python3.7/dist-packages/pandas/io/parsers.py\u001b[0m in \u001b[0;36mread_csv\u001b[0;34m(filepath_or_buffer, sep, delimiter, header, names, index_col, usecols, squeeze, prefix, mangle_dupe_cols, dtype, engine, converters, true_values, false_values, skipinitialspace, skiprows, skipfooter, nrows, na_values, keep_default_na, na_filter, verbose, skip_blank_lines, parse_dates, infer_datetime_format, keep_date_col, date_parser, dayfirst, cache_dates, iterator, chunksize, compression, thousands, decimal, lineterminator, quotechar, quoting, doublequote, escapechar, comment, encoding, dialect, error_bad_lines, warn_bad_lines, delim_whitespace, low_memory, memory_map, float_precision)\u001b[0m\n\u001b[1;32m    686\u001b[0m     )\n\u001b[1;32m    687\u001b[0m \u001b[0;34m\u001b[0m\u001b[0m\n\u001b[0;32m--> 688\u001b[0;31m     \u001b[0;32mreturn\u001b[0m \u001b[0m_read\u001b[0m\u001b[0;34m(\u001b[0m\u001b[0mfilepath_or_buffer\u001b[0m\u001b[0;34m,\u001b[0m \u001b[0mkwds\u001b[0m\u001b[0;34m)\u001b[0m\u001b[0;34m\u001b[0m\u001b[0;34m\u001b[0m\u001b[0m\n\u001b[0m\u001b[1;32m    689\u001b[0m \u001b[0;34m\u001b[0m\u001b[0m\n\u001b[1;32m    690\u001b[0m \u001b[0;34m\u001b[0m\u001b[0m\n",
            "\u001b[0;32m/usr/local/lib/python3.7/dist-packages/pandas/io/parsers.py\u001b[0m in \u001b[0;36m_read\u001b[0;34m(filepath_or_buffer, kwds)\u001b[0m\n\u001b[1;32m    452\u001b[0m \u001b[0;34m\u001b[0m\u001b[0m\n\u001b[1;32m    453\u001b[0m     \u001b[0;31m# Create the parser.\u001b[0m\u001b[0;34m\u001b[0m\u001b[0;34m\u001b[0m\u001b[0;34m\u001b[0m\u001b[0m\n\u001b[0;32m--> 454\u001b[0;31m     \u001b[0mparser\u001b[0m \u001b[0;34m=\u001b[0m \u001b[0mTextFileReader\u001b[0m\u001b[0;34m(\u001b[0m\u001b[0mfp_or_buf\u001b[0m\u001b[0;34m,\u001b[0m \u001b[0;34m**\u001b[0m\u001b[0mkwds\u001b[0m\u001b[0;34m)\u001b[0m\u001b[0;34m\u001b[0m\u001b[0;34m\u001b[0m\u001b[0m\n\u001b[0m\u001b[1;32m    455\u001b[0m \u001b[0;34m\u001b[0m\u001b[0m\n\u001b[1;32m    456\u001b[0m     \u001b[0;32mif\u001b[0m \u001b[0mchunksize\u001b[0m \u001b[0;32mor\u001b[0m \u001b[0miterator\u001b[0m\u001b[0;34m:\u001b[0m\u001b[0;34m\u001b[0m\u001b[0;34m\u001b[0m\u001b[0m\n",
            "\u001b[0;32m/usr/local/lib/python3.7/dist-packages/pandas/io/parsers.py\u001b[0m in \u001b[0;36m__init__\u001b[0;34m(self, f, engine, **kwds)\u001b[0m\n\u001b[1;32m    946\u001b[0m             \u001b[0mself\u001b[0m\u001b[0;34m.\u001b[0m\u001b[0moptions\u001b[0m\u001b[0;34m[\u001b[0m\u001b[0;34m\"has_index_names\"\u001b[0m\u001b[0;34m]\u001b[0m \u001b[0;34m=\u001b[0m \u001b[0mkwds\u001b[0m\u001b[0;34m[\u001b[0m\u001b[0;34m\"has_index_names\"\u001b[0m\u001b[0;34m]\u001b[0m\u001b[0;34m\u001b[0m\u001b[0;34m\u001b[0m\u001b[0m\n\u001b[1;32m    947\u001b[0m \u001b[0;34m\u001b[0m\u001b[0m\n\u001b[0;32m--> 948\u001b[0;31m         \u001b[0mself\u001b[0m\u001b[0;34m.\u001b[0m\u001b[0m_make_engine\u001b[0m\u001b[0;34m(\u001b[0m\u001b[0mself\u001b[0m\u001b[0;34m.\u001b[0m\u001b[0mengine\u001b[0m\u001b[0;34m)\u001b[0m\u001b[0;34m\u001b[0m\u001b[0;34m\u001b[0m\u001b[0m\n\u001b[0m\u001b[1;32m    949\u001b[0m \u001b[0;34m\u001b[0m\u001b[0m\n\u001b[1;32m    950\u001b[0m     \u001b[0;32mdef\u001b[0m \u001b[0mclose\u001b[0m\u001b[0;34m(\u001b[0m\u001b[0mself\u001b[0m\u001b[0;34m)\u001b[0m\u001b[0;34m:\u001b[0m\u001b[0;34m\u001b[0m\u001b[0;34m\u001b[0m\u001b[0m\n",
            "\u001b[0;32m/usr/local/lib/python3.7/dist-packages/pandas/io/parsers.py\u001b[0m in \u001b[0;36m_make_engine\u001b[0;34m(self, engine)\u001b[0m\n\u001b[1;32m   1178\u001b[0m     \u001b[0;32mdef\u001b[0m \u001b[0m_make_engine\u001b[0m\u001b[0;34m(\u001b[0m\u001b[0mself\u001b[0m\u001b[0;34m,\u001b[0m \u001b[0mengine\u001b[0m\u001b[0;34m=\u001b[0m\u001b[0;34m\"c\"\u001b[0m\u001b[0;34m)\u001b[0m\u001b[0;34m:\u001b[0m\u001b[0;34m\u001b[0m\u001b[0;34m\u001b[0m\u001b[0m\n\u001b[1;32m   1179\u001b[0m         \u001b[0;32mif\u001b[0m \u001b[0mengine\u001b[0m \u001b[0;34m==\u001b[0m \u001b[0;34m\"c\"\u001b[0m\u001b[0;34m:\u001b[0m\u001b[0;34m\u001b[0m\u001b[0;34m\u001b[0m\u001b[0m\n\u001b[0;32m-> 1180\u001b[0;31m             \u001b[0mself\u001b[0m\u001b[0;34m.\u001b[0m\u001b[0m_engine\u001b[0m \u001b[0;34m=\u001b[0m \u001b[0mCParserWrapper\u001b[0m\u001b[0;34m(\u001b[0m\u001b[0mself\u001b[0m\u001b[0;34m.\u001b[0m\u001b[0mf\u001b[0m\u001b[0;34m,\u001b[0m \u001b[0;34m**\u001b[0m\u001b[0mself\u001b[0m\u001b[0;34m.\u001b[0m\u001b[0moptions\u001b[0m\u001b[0;34m)\u001b[0m\u001b[0;34m\u001b[0m\u001b[0;34m\u001b[0m\u001b[0m\n\u001b[0m\u001b[1;32m   1181\u001b[0m         \u001b[0;32melse\u001b[0m\u001b[0;34m:\u001b[0m\u001b[0;34m\u001b[0m\u001b[0;34m\u001b[0m\u001b[0m\n\u001b[1;32m   1182\u001b[0m             \u001b[0;32mif\u001b[0m \u001b[0mengine\u001b[0m \u001b[0;34m==\u001b[0m \u001b[0;34m\"python\"\u001b[0m\u001b[0;34m:\u001b[0m\u001b[0;34m\u001b[0m\u001b[0;34m\u001b[0m\u001b[0m\n",
            "\u001b[0;32m/usr/local/lib/python3.7/dist-packages/pandas/io/parsers.py\u001b[0m in \u001b[0;36m__init__\u001b[0;34m(self, src, **kwds)\u001b[0m\n\u001b[1;32m   1991\u001b[0m         \u001b[0;32mif\u001b[0m \u001b[0mkwds\u001b[0m\u001b[0;34m.\u001b[0m\u001b[0mget\u001b[0m\u001b[0;34m(\u001b[0m\u001b[0;34m\"compression\"\u001b[0m\u001b[0;34m)\u001b[0m \u001b[0;32mis\u001b[0m \u001b[0;32mNone\u001b[0m \u001b[0;32mand\u001b[0m \u001b[0mencoding\u001b[0m\u001b[0;34m:\u001b[0m\u001b[0;34m\u001b[0m\u001b[0;34m\u001b[0m\u001b[0m\n\u001b[1;32m   1992\u001b[0m             \u001b[0;32mif\u001b[0m \u001b[0misinstance\u001b[0m\u001b[0;34m(\u001b[0m\u001b[0msrc\u001b[0m\u001b[0;34m,\u001b[0m \u001b[0mstr\u001b[0m\u001b[0;34m)\u001b[0m\u001b[0;34m:\u001b[0m\u001b[0;34m\u001b[0m\u001b[0;34m\u001b[0m\u001b[0m\n\u001b[0;32m-> 1993\u001b[0;31m                 \u001b[0msrc\u001b[0m \u001b[0;34m=\u001b[0m \u001b[0mopen\u001b[0m\u001b[0;34m(\u001b[0m\u001b[0msrc\u001b[0m\u001b[0;34m,\u001b[0m \u001b[0;34m\"rb\"\u001b[0m\u001b[0;34m)\u001b[0m\u001b[0;34m\u001b[0m\u001b[0;34m\u001b[0m\u001b[0m\n\u001b[0m\u001b[1;32m   1994\u001b[0m                 \u001b[0mself\u001b[0m\u001b[0;34m.\u001b[0m\u001b[0mhandles\u001b[0m\u001b[0;34m.\u001b[0m\u001b[0mappend\u001b[0m\u001b[0;34m(\u001b[0m\u001b[0msrc\u001b[0m\u001b[0;34m)\u001b[0m\u001b[0;34m\u001b[0m\u001b[0;34m\u001b[0m\u001b[0m\n\u001b[1;32m   1995\u001b[0m \u001b[0;34m\u001b[0m\u001b[0m\n",
            "\u001b[0;31mFileNotFoundError\u001b[0m: [Errno 2] No such file or directory: '/content/drive/MyDrive/IA-DF-CSV-XLSX/Acidentes_por_pessoa/CSV/acidentes2016_data_corrigida.csv'"
          ]
        }
      ]
    },
    {
      "cell_type": "code",
      "metadata": {
        "id": "9IMLEs47ycvF"
      },
      "source": [
        "#dataframes \"Acidentes agrupados por Ocorrência\"\n",
        "datatran2016 = pd.read_csv('/content/drive/MyDrive/IA-DF-CSV-XLSX/Acidentes_por_ocorrencia/CSV/datatran2016_data_corrigida.csv', encoding=\"ISO-8859-1\", sep=';')\n",
        "datatran2017 = pd.read_csv('/content/drive/MyDrive/IA-DF-CSV-XLSX/Acidentes_por_ocorrencia/CSV/datatran2017.csv', encoding=\"ISO-8859-1\", sep=';')\n",
        "datatran2018 = pd.read_csv('/content/drive/MyDrive/IA-DF-CSV-XLSX/Acidentes_por_ocorrencia/CSV/datatran2018.csv', encoding=\"ISO-8859-1\", sep=';')\n",
        "datatran2019 = pd.read_csv('/content/drive/MyDrive/IA-DF-CSV-XLSX/Acidentes_por_ocorrencia/CSV/datatran2019.csv', encoding=\"ISO-8859-1\", sep=';')\n",
        "datatran2020 = pd.read_csv('/content/drive/MyDrive/IA-DF-CSV-XLSX/Acidentes_por_ocorrencia/CSV/datatran2020.csv', encoding=\"ISO-8859-1\", sep=';')"
      ],
      "execution_count": null,
      "outputs": []
    },
    {
      "cell_type": "markdown",
      "metadata": {
        "id": "Kwd31aoIvwRu"
      },
      "source": [
        "# **Tratamento e Exploração dos Dados**"
      ]
    },
    {
      "cell_type": "markdown",
      "metadata": {
        "id": "ODQB_ADcYVaa"
      },
      "source": [
        "#### **Tratando os dados de Acidentes por Ocorrência - Datatran**"
      ]
    },
    {
      "cell_type": "code",
      "metadata": {
        "id": "zP_twGEvgmv6",
        "colab": {
          "base_uri": "https://localhost:8080/",
          "height": 180
        },
        "outputId": "03e13754-44be-4f9e-82f5-145ff5ac79d6"
      },
      "source": [
        "#Concatenação de todas as ocorrências por ano.\n",
        "datatran_total = pd.concat([datatran2016, datatran2017, datatran2018, datatran2019, datatran2020])"
      ],
      "execution_count": null,
      "outputs": [
        {
          "output_type": "error",
          "ename": "NameError",
          "evalue": "ignored",
          "traceback": [
            "\u001b[0;31m---------------------------------------------------------------------------\u001b[0m",
            "\u001b[0;31mNameError\u001b[0m                                 Traceback (most recent call last)",
            "\u001b[0;32m<ipython-input-4-cc23d029b294>\u001b[0m in \u001b[0;36m<module>\u001b[0;34m()\u001b[0m\n\u001b[1;32m      1\u001b[0m \u001b[0;31m#Concatenação de todas as ocorrências por ano.\u001b[0m\u001b[0;34m\u001b[0m\u001b[0;34m\u001b[0m\u001b[0;34m\u001b[0m\u001b[0m\n\u001b[0;32m----> 2\u001b[0;31m \u001b[0mdatatran_total\u001b[0m \u001b[0;34m=\u001b[0m \u001b[0mpd\u001b[0m\u001b[0;34m.\u001b[0m\u001b[0mconcat\u001b[0m\u001b[0;34m(\u001b[0m\u001b[0;34m[\u001b[0m\u001b[0mdatatran2016\u001b[0m\u001b[0;34m,\u001b[0m \u001b[0mdatatran2017\u001b[0m\u001b[0;34m,\u001b[0m \u001b[0mdatatran2018\u001b[0m\u001b[0;34m,\u001b[0m \u001b[0mdatatran2019\u001b[0m\u001b[0;34m,\u001b[0m \u001b[0mdatatran2020\u001b[0m\u001b[0;34m]\u001b[0m\u001b[0;34m)\u001b[0m\u001b[0;34m\u001b[0m\u001b[0;34m\u001b[0m\u001b[0m\n\u001b[0m",
            "\u001b[0;31mNameError\u001b[0m: name 'datatran2016' is not defined"
          ]
        }
      ]
    },
    {
      "cell_type": "code",
      "metadata": {
        "id": "rw25CeTbgsd8"
      },
      "source": [
        "#Isolando as BRS 381 e 262 - MG\n",
        "x = (datatran_total.uf == 'MG') & (datatran_total.br == 381)\n",
        "y = (datatran_total.uf == 'MG') & (datatran_total.br == 262)\n",
        "datatran_381 = datatran_total[x]\n",
        "datatran_381['CONTAGEM'] = 1 #Adicionando coluna para contagem\n",
        "datatran_262 = datatran_total[y]\n",
        "datatran_262['CONTAGEM'] = 1 #Adicionando coluna para contagem"
      ],
      "execution_count": null,
      "outputs": []
    },
    {
      "cell_type": "code",
      "metadata": {
        "colab": {
          "base_uri": "https://localhost:8080/",
          "height": 326
        },
        "id": "XVCR89vIxcWb",
        "outputId": "5fd359c7-554a-4a72-e012-1e0fe06cc3e0"
      },
      "source": [
        "datatran_381.head()"
      ],
      "execution_count": null,
      "outputs": [
        {
          "output_type": "execute_result",
          "data": {
            "text/html": [
              "<div>\n",
              "<style scoped>\n",
              "    .dataframe tbody tr th:only-of-type {\n",
              "        vertical-align: middle;\n",
              "    }\n",
              "\n",
              "    .dataframe tbody tr th {\n",
              "        vertical-align: top;\n",
              "    }\n",
              "\n",
              "    .dataframe thead th {\n",
              "        text-align: right;\n",
              "    }\n",
              "</style>\n",
              "<table border=\"1\" class=\"dataframe\">\n",
              "  <thead>\n",
              "    <tr style=\"text-align: right;\">\n",
              "      <th></th>\n",
              "      <th>id</th>\n",
              "      <th>data_inversa</th>\n",
              "      <th>dia_semana</th>\n",
              "      <th>horario</th>\n",
              "      <th>uf</th>\n",
              "      <th>br</th>\n",
              "      <th>km</th>\n",
              "      <th>municipio</th>\n",
              "      <th>causa_acidente</th>\n",
              "      <th>tipo_acidente</th>\n",
              "      <th>classificacao_acidente</th>\n",
              "      <th>fase_dia</th>\n",
              "      <th>sentido_via</th>\n",
              "      <th>condicao_metereologica</th>\n",
              "      <th>tipo_pista</th>\n",
              "      <th>tracado_via</th>\n",
              "      <th>uso_solo</th>\n",
              "      <th>pessoas</th>\n",
              "      <th>mortos</th>\n",
              "      <th>feridos_leves</th>\n",
              "      <th>feridos_graves</th>\n",
              "      <th>ilesos</th>\n",
              "      <th>ignorados</th>\n",
              "      <th>feridos</th>\n",
              "      <th>veiculos</th>\n",
              "      <th>ano</th>\n",
              "      <th>latitude</th>\n",
              "      <th>longitude</th>\n",
              "      <th>regional</th>\n",
              "      <th>delegacia</th>\n",
              "      <th>uop</th>\n",
              "      <th>CONTAGEM</th>\n",
              "    </tr>\n",
              "  </thead>\n",
              "  <tbody>\n",
              "    <tr>\n",
              "      <th>33</th>\n",
              "      <td>83425918.0</td>\n",
              "      <td>01/01/16</td>\n",
              "      <td>Sexta</td>\n",
              "      <td>08:30:00</td>\n",
              "      <td>MG</td>\n",
              "      <td>381.0</td>\n",
              "      <td>563</td>\n",
              "      <td>ITAGUARA</td>\n",
              "      <td>Velocidade incompatível</td>\n",
              "      <td>Colisão traseira</td>\n",
              "      <td>Sem Vítimas</td>\n",
              "      <td>Pleno dia</td>\n",
              "      <td>Decrescente</td>\n",
              "      <td>Ceu Claro</td>\n",
              "      <td>Dupla</td>\n",
              "      <td>Curva</td>\n",
              "      <td>Urbano</td>\n",
              "      <td>2</td>\n",
              "      <td>0</td>\n",
              "      <td>0</td>\n",
              "      <td>0</td>\n",
              "      <td>2</td>\n",
              "      <td>0</td>\n",
              "      <td>0</td>\n",
              "      <td>2</td>\n",
              "      <td>2016</td>\n",
              "      <td>NaN</td>\n",
              "      <td>NaN</td>\n",
              "      <td>NaN</td>\n",
              "      <td>NaN</td>\n",
              "      <td>NaN</td>\n",
              "      <td>1</td>\n",
              "    </tr>\n",
              "    <tr>\n",
              "      <th>73</th>\n",
              "      <td>83425990.0</td>\n",
              "      <td>01/01/16</td>\n",
              "      <td>Sexta</td>\n",
              "      <td>14:30:00</td>\n",
              "      <td>MG</td>\n",
              "      <td>381.0</td>\n",
              "      <td>878</td>\n",
              "      <td>ESTIVA</td>\n",
              "      <td>Velocidade incompatível</td>\n",
              "      <td>Tombamento</td>\n",
              "      <td>Com Vítimas Feridas</td>\n",
              "      <td>Pleno dia</td>\n",
              "      <td>Crescente</td>\n",
              "      <td>Chuva</td>\n",
              "      <td>Dupla</td>\n",
              "      <td>Reta</td>\n",
              "      <td>Rural</td>\n",
              "      <td>4</td>\n",
              "      <td>0</td>\n",
              "      <td>4</td>\n",
              "      <td>0</td>\n",
              "      <td>0</td>\n",
              "      <td>0</td>\n",
              "      <td>4</td>\n",
              "      <td>1</td>\n",
              "      <td>2016</td>\n",
              "      <td>NaN</td>\n",
              "      <td>NaN</td>\n",
              "      <td>NaN</td>\n",
              "      <td>NaN</td>\n",
              "      <td>NaN</td>\n",
              "      <td>1</td>\n",
              "    </tr>\n",
              "    <tr>\n",
              "      <th>102</th>\n",
              "      <td>83426027.0</td>\n",
              "      <td>01/01/16</td>\n",
              "      <td>Sexta</td>\n",
              "      <td>16:30:00</td>\n",
              "      <td>MG</td>\n",
              "      <td>381.0</td>\n",
              "      <td>913</td>\n",
              "      <td>CAMANDUCAIA</td>\n",
              "      <td>Velocidade incompatível</td>\n",
              "      <td>Capotamento</td>\n",
              "      <td>Com Vítimas Feridas</td>\n",
              "      <td>Pleno dia</td>\n",
              "      <td>Decrescente</td>\n",
              "      <td>Chuva</td>\n",
              "      <td>Dupla</td>\n",
              "      <td>Curva</td>\n",
              "      <td>Rural</td>\n",
              "      <td>1</td>\n",
              "      <td>0</td>\n",
              "      <td>1</td>\n",
              "      <td>0</td>\n",
              "      <td>0</td>\n",
              "      <td>0</td>\n",
              "      <td>1</td>\n",
              "      <td>1</td>\n",
              "      <td>2016</td>\n",
              "      <td>NaN</td>\n",
              "      <td>NaN</td>\n",
              "      <td>NaN</td>\n",
              "      <td>NaN</td>\n",
              "      <td>NaN</td>\n",
              "      <td>1</td>\n",
              "    </tr>\n",
              "    <tr>\n",
              "      <th>133</th>\n",
              "      <td>83426071.0</td>\n",
              "      <td>01/01/16</td>\n",
              "      <td>Sexta</td>\n",
              "      <td>05:30:00</td>\n",
              "      <td>MG</td>\n",
              "      <td>381.0</td>\n",
              "      <td>406,1</td>\n",
              "      <td>BOM JESUS DO AMPARO</td>\n",
              "      <td>Outras</td>\n",
              "      <td>Saída de Pista</td>\n",
              "      <td>Com Vítimas Feridas</td>\n",
              "      <td>Amanhecer</td>\n",
              "      <td>Crescente</td>\n",
              "      <td>Chuva</td>\n",
              "      <td>Simples</td>\n",
              "      <td>Curva</td>\n",
              "      <td>Rural</td>\n",
              "      <td>2</td>\n",
              "      <td>0</td>\n",
              "      <td>1</td>\n",
              "      <td>0</td>\n",
              "      <td>1</td>\n",
              "      <td>0</td>\n",
              "      <td>1</td>\n",
              "      <td>1</td>\n",
              "      <td>2016</td>\n",
              "      <td>NaN</td>\n",
              "      <td>NaN</td>\n",
              "      <td>NaN</td>\n",
              "      <td>NaN</td>\n",
              "      <td>NaN</td>\n",
              "      <td>1</td>\n",
              "    </tr>\n",
              "    <tr>\n",
              "      <th>140</th>\n",
              "      <td>83426083.0</td>\n",
              "      <td>01/01/16</td>\n",
              "      <td>Sexta</td>\n",
              "      <td>21:15:00</td>\n",
              "      <td>MG</td>\n",
              "      <td>381.0</td>\n",
              "      <td>845</td>\n",
              "      <td>SAO SEBASTIAO DA BELA VISTA</td>\n",
              "      <td>Velocidade incompatível</td>\n",
              "      <td>Saída de Pista</td>\n",
              "      <td>Sem Vítimas</td>\n",
              "      <td>Plena noite</td>\n",
              "      <td>Crescente</td>\n",
              "      <td>Chuva</td>\n",
              "      <td>Dupla</td>\n",
              "      <td>Reta</td>\n",
              "      <td>Rural</td>\n",
              "      <td>1</td>\n",
              "      <td>0</td>\n",
              "      <td>0</td>\n",
              "      <td>0</td>\n",
              "      <td>1</td>\n",
              "      <td>0</td>\n",
              "      <td>0</td>\n",
              "      <td>1</td>\n",
              "      <td>2016</td>\n",
              "      <td>NaN</td>\n",
              "      <td>NaN</td>\n",
              "      <td>NaN</td>\n",
              "      <td>NaN</td>\n",
              "      <td>NaN</td>\n",
              "      <td>1</td>\n",
              "    </tr>\n",
              "  </tbody>\n",
              "</table>\n",
              "</div>"
            ],
            "text/plain": [
              "             id data_inversa dia_semana  ... delegacia  uop  CONTAGEM\n",
              "33   83425918.0     01/01/16      Sexta  ...       NaN  NaN         1\n",
              "73   83425990.0     01/01/16      Sexta  ...       NaN  NaN         1\n",
              "102  83426027.0     01/01/16      Sexta  ...       NaN  NaN         1\n",
              "133  83426071.0     01/01/16      Sexta  ...       NaN  NaN         1\n",
              "140  83426083.0     01/01/16      Sexta  ...       NaN  NaN         1\n",
              "\n",
              "[5 rows x 32 columns]"
            ]
          },
          "metadata": {},
          "execution_count": 10
        }
      ]
    },
    {
      "cell_type": "code",
      "metadata": {
        "colab": {
          "base_uri": "https://localhost:8080/",
          "height": 326
        },
        "id": "ObkdnC6P0k0H",
        "outputId": "f6229353-0f25-4942-9e69-c718523a8801"
      },
      "source": [
        "datatran_262.head()"
      ],
      "execution_count": null,
      "outputs": [
        {
          "output_type": "execute_result",
          "data": {
            "text/html": [
              "<div>\n",
              "<style scoped>\n",
              "    .dataframe tbody tr th:only-of-type {\n",
              "        vertical-align: middle;\n",
              "    }\n",
              "\n",
              "    .dataframe tbody tr th {\n",
              "        vertical-align: top;\n",
              "    }\n",
              "\n",
              "    .dataframe thead th {\n",
              "        text-align: right;\n",
              "    }\n",
              "</style>\n",
              "<table border=\"1\" class=\"dataframe\">\n",
              "  <thead>\n",
              "    <tr style=\"text-align: right;\">\n",
              "      <th></th>\n",
              "      <th>id</th>\n",
              "      <th>data_inversa</th>\n",
              "      <th>dia_semana</th>\n",
              "      <th>horario</th>\n",
              "      <th>uf</th>\n",
              "      <th>br</th>\n",
              "      <th>km</th>\n",
              "      <th>municipio</th>\n",
              "      <th>causa_acidente</th>\n",
              "      <th>tipo_acidente</th>\n",
              "      <th>classificacao_acidente</th>\n",
              "      <th>fase_dia</th>\n",
              "      <th>sentido_via</th>\n",
              "      <th>condicao_metereologica</th>\n",
              "      <th>tipo_pista</th>\n",
              "      <th>tracado_via</th>\n",
              "      <th>uso_solo</th>\n",
              "      <th>pessoas</th>\n",
              "      <th>mortos</th>\n",
              "      <th>feridos_leves</th>\n",
              "      <th>feridos_graves</th>\n",
              "      <th>ilesos</th>\n",
              "      <th>ignorados</th>\n",
              "      <th>feridos</th>\n",
              "      <th>veiculos</th>\n",
              "      <th>ano</th>\n",
              "      <th>latitude</th>\n",
              "      <th>longitude</th>\n",
              "      <th>regional</th>\n",
              "      <th>delegacia</th>\n",
              "      <th>uop</th>\n",
              "      <th>CONTAGEM</th>\n",
              "    </tr>\n",
              "  </thead>\n",
              "  <tbody>\n",
              "    <tr>\n",
              "      <th>30</th>\n",
              "      <td>83425902.0</td>\n",
              "      <td>01/01/16</td>\n",
              "      <td>Sexta</td>\n",
              "      <td>07:30:00</td>\n",
              "      <td>MG</td>\n",
              "      <td>262.0</td>\n",
              "      <td>159,9</td>\n",
              "      <td>SAO DOMINGOS DO PRATA</td>\n",
              "      <td>Velocidade incompatível</td>\n",
              "      <td>Saída de Pista</td>\n",
              "      <td>Com Vítimas Feridas</td>\n",
              "      <td>Pleno dia</td>\n",
              "      <td>Decrescente</td>\n",
              "      <td>Ceu Claro</td>\n",
              "      <td>Simples</td>\n",
              "      <td>Curva</td>\n",
              "      <td>Rural</td>\n",
              "      <td>2</td>\n",
              "      <td>0</td>\n",
              "      <td>1</td>\n",
              "      <td>0</td>\n",
              "      <td>1</td>\n",
              "      <td>0</td>\n",
              "      <td>1</td>\n",
              "      <td>1</td>\n",
              "      <td>2016</td>\n",
              "      <td>NaN</td>\n",
              "      <td>NaN</td>\n",
              "      <td>NaN</td>\n",
              "      <td>NaN</td>\n",
              "      <td>NaN</td>\n",
              "      <td>1</td>\n",
              "    </tr>\n",
              "    <tr>\n",
              "      <th>82</th>\n",
              "      <td>83425999.0</td>\n",
              "      <td>01/01/16</td>\n",
              "      <td>Sexta</td>\n",
              "      <td>08:30:00</td>\n",
              "      <td>MG</td>\n",
              "      <td>262.0</td>\n",
              "      <td>402</td>\n",
              "      <td>PARA DE MINAS</td>\n",
              "      <td>Dormindo</td>\n",
              "      <td>Tombamento</td>\n",
              "      <td>Com Vítimas Feridas</td>\n",
              "      <td>Pleno dia</td>\n",
              "      <td>Decrescente</td>\n",
              "      <td>Sol</td>\n",
              "      <td>Dupla</td>\n",
              "      <td>Reta</td>\n",
              "      <td>Rural</td>\n",
              "      <td>1</td>\n",
              "      <td>0</td>\n",
              "      <td>1</td>\n",
              "      <td>0</td>\n",
              "      <td>0</td>\n",
              "      <td>0</td>\n",
              "      <td>1</td>\n",
              "      <td>1</td>\n",
              "      <td>2016</td>\n",
              "      <td>NaN</td>\n",
              "      <td>NaN</td>\n",
              "      <td>NaN</td>\n",
              "      <td>NaN</td>\n",
              "      <td>NaN</td>\n",
              "      <td>1</td>\n",
              "    </tr>\n",
              "    <tr>\n",
              "      <th>130</th>\n",
              "      <td>83426066.0</td>\n",
              "      <td>01/01/16</td>\n",
              "      <td>Sexta</td>\n",
              "      <td>17:40:00</td>\n",
              "      <td>MG</td>\n",
              "      <td>262.0</td>\n",
              "      <td>878</td>\n",
              "      <td>CAMPO FLORIDO</td>\n",
              "      <td>Falta de atenção</td>\n",
              "      <td>Colisão traseira</td>\n",
              "      <td>Com Vítimas Feridas</td>\n",
              "      <td>Pleno dia</td>\n",
              "      <td>Decrescente</td>\n",
              "      <td>Nublado</td>\n",
              "      <td>Simples</td>\n",
              "      <td>Cruzamento</td>\n",
              "      <td>Urbano</td>\n",
              "      <td>2</td>\n",
              "      <td>0</td>\n",
              "      <td>1</td>\n",
              "      <td>0</td>\n",
              "      <td>0</td>\n",
              "      <td>1</td>\n",
              "      <td>1</td>\n",
              "      <td>2</td>\n",
              "      <td>2016</td>\n",
              "      <td>NaN</td>\n",
              "      <td>NaN</td>\n",
              "      <td>NaN</td>\n",
              "      <td>NaN</td>\n",
              "      <td>NaN</td>\n",
              "      <td>1</td>\n",
              "    </tr>\n",
              "    <tr>\n",
              "      <th>280</th>\n",
              "      <td>83426288.0</td>\n",
              "      <td>02/01/16</td>\n",
              "      <td>Sábado</td>\n",
              "      <td>15:42:00</td>\n",
              "      <td>MG</td>\n",
              "      <td>262.0</td>\n",
              "      <td>381</td>\n",
              "      <td>JUATUBA</td>\n",
              "      <td>Ingestão de álcool</td>\n",
              "      <td>Saída de Pista</td>\n",
              "      <td>Com Vítimas Feridas</td>\n",
              "      <td>Pleno dia</td>\n",
              "      <td>Decrescente</td>\n",
              "      <td>Chuva</td>\n",
              "      <td>Dupla</td>\n",
              "      <td>Curva</td>\n",
              "      <td>Rural</td>\n",
              "      <td>4</td>\n",
              "      <td>0</td>\n",
              "      <td>2</td>\n",
              "      <td>0</td>\n",
              "      <td>2</td>\n",
              "      <td>0</td>\n",
              "      <td>2</td>\n",
              "      <td>1</td>\n",
              "      <td>2016</td>\n",
              "      <td>NaN</td>\n",
              "      <td>NaN</td>\n",
              "      <td>NaN</td>\n",
              "      <td>NaN</td>\n",
              "      <td>NaN</td>\n",
              "      <td>1</td>\n",
              "    </tr>\n",
              "    <tr>\n",
              "      <th>399</th>\n",
              "      <td>83426429.0</td>\n",
              "      <td>02/01/16</td>\n",
              "      <td>Sábado</td>\n",
              "      <td>22:40:00</td>\n",
              "      <td>MG</td>\n",
              "      <td>262.0</td>\n",
              "      <td>615</td>\n",
              "      <td>IBIA</td>\n",
              "      <td>Ultrapassagem indevida</td>\n",
              "      <td>Saída de Pista</td>\n",
              "      <td>Com Vítimas Feridas</td>\n",
              "      <td>Plena noite</td>\n",
              "      <td>Decrescente</td>\n",
              "      <td>Nublado</td>\n",
              "      <td>Simples</td>\n",
              "      <td>Reta</td>\n",
              "      <td>Rural</td>\n",
              "      <td>1</td>\n",
              "      <td>0</td>\n",
              "      <td>1</td>\n",
              "      <td>0</td>\n",
              "      <td>0</td>\n",
              "      <td>0</td>\n",
              "      <td>1</td>\n",
              "      <td>1</td>\n",
              "      <td>2016</td>\n",
              "      <td>NaN</td>\n",
              "      <td>NaN</td>\n",
              "      <td>NaN</td>\n",
              "      <td>NaN</td>\n",
              "      <td>NaN</td>\n",
              "      <td>1</td>\n",
              "    </tr>\n",
              "  </tbody>\n",
              "</table>\n",
              "</div>"
            ],
            "text/plain": [
              "             id data_inversa dia_semana  ... delegacia  uop  CONTAGEM\n",
              "30   83425902.0     01/01/16      Sexta  ...       NaN  NaN         1\n",
              "82   83425999.0     01/01/16      Sexta  ...       NaN  NaN         1\n",
              "130  83426066.0     01/01/16      Sexta  ...       NaN  NaN         1\n",
              "280  83426288.0     02/01/16     Sábado  ...       NaN  NaN         1\n",
              "399  83426429.0     02/01/16     Sábado  ...       NaN  NaN         1\n",
              "\n",
              "[5 rows x 32 columns]"
            ]
          },
          "metadata": {},
          "execution_count": 11
        }
      ]
    },
    {
      "cell_type": "code",
      "metadata": {
        "colab": {
          "base_uri": "https://localhost:8080/"
        },
        "id": "nmID9g_wn4u2",
        "outputId": "3a4268b0-86d1-49bf-c632-d7843e27ca48"
      },
      "source": [
        "#O ano de 2016 não possui as colunas de \"latitude, longitude, regional, delegacia e uop\", por isso aparecem tantos resultados.\n",
        "datatran_381.isnull().sum()"
      ],
      "execution_count": null,
      "outputs": [
        {
          "output_type": "execute_result",
          "data": {
            "text/plain": [
              "id                           0\n",
              "data_inversa                 0\n",
              "dia_semana                   0\n",
              "horario                      0\n",
              "uf                           0\n",
              "br                           0\n",
              "km                           0\n",
              "municipio                    0\n",
              "causa_acidente               0\n",
              "tipo_acidente                0\n",
              "classificacao_acidente       0\n",
              "fase_dia                     0\n",
              "sentido_via                  0\n",
              "condicao_metereologica       1\n",
              "tipo_pista                   0\n",
              "tracado_via                  0\n",
              "uso_solo                     0\n",
              "pessoas                      0\n",
              "mortos                       0\n",
              "feridos_leves                0\n",
              "feridos_graves               0\n",
              "ilesos                       0\n",
              "ignorados                    0\n",
              "feridos                      0\n",
              "veiculos                     0\n",
              "ano                          0\n",
              "latitude                  4616\n",
              "longitude                 4616\n",
              "regional                  4616\n",
              "delegacia                 4616\n",
              "uop                       4634\n",
              "CONTAGEM                     0\n",
              "dtype: int64"
            ]
          },
          "metadata": {},
          "execution_count": 12
        }
      ]
    },
    {
      "cell_type": "code",
      "metadata": {
        "colab": {
          "base_uri": "https://localhost:8080/"
        },
        "id": "0dhe-BP6oMdw",
        "outputId": "5b86fd17-84c6-411d-a14b-ea1dda06a5ec"
      },
      "source": [
        "#Coletando a condicao metereologica mais frequente.\n",
        "print(datatran_381.condicao_metereologica.value_counts())\n",
        "freq = datatran_381.condicao_metereologica.value_counts()[0]"
      ],
      "execution_count": null,
      "outputs": [
        {
          "output_type": "stream",
          "name": "stdout",
          "text": [
            "Céu Claro           5871\n",
            "Chuva               4135\n",
            "Nublado             2853\n",
            "Ceu Claro           1849\n",
            "Sol                 1431\n",
            "Garoa/Chuvisco       289\n",
            "Ignorado             221\n",
            "Ignorada             121\n",
            "Nevoeiro/Neblina      92\n",
            "Nevoeiro/neblina      34\n",
            "Vento                  8\n",
            "Granizo                2\n",
            "Name: condicao_metereologica, dtype: int64\n"
          ]
        }
      ]
    },
    {
      "cell_type": "code",
      "metadata": {
        "id": "c6RpNi9Kor0_"
      },
      "source": [
        "#Substituindo o local onde o valor era nulo com o mais frequente.\n",
        "datatran_381.condicao_metereologica.fillna(freq, inplace=True)"
      ],
      "execution_count": null,
      "outputs": []
    },
    {
      "cell_type": "code",
      "metadata": {
        "id": "oFKDyQ-Po1uL"
      },
      "source": [
        "#Verificando se ele desapareceu.\n",
        "datatran_381.isnull().sum()"
      ],
      "execution_count": null,
      "outputs": []
    },
    {
      "cell_type": "code",
      "metadata": {
        "id": "ihj4U2u6pBXy"
      },
      "source": [
        "datatran_262.isnull().sum()"
      ],
      "execution_count": null,
      "outputs": []
    },
    {
      "cell_type": "code",
      "metadata": {
        "colab": {
          "base_uri": "https://localhost:8080/",
          "height": 643
        },
        "id": "4LqK0CKcrm-2",
        "outputId": "c99420dd-abbe-48e7-e56a-fa98e5e5eb47"
      },
      "source": [
        "#Como nesse estudo não usaremos informacoes de \"latitude, longitude, regional, delegacia e uop\", essas colunas podem ser descartadas.\n",
        "datatran_381.drop([\n",
        "                     'latitude',\n",
        "                     'longitude',\n",
        "                     'regional',\n",
        "                     'delegacia',\n",
        "                     'uop'\n",
        "                 ], axis=1, inplace=True)\n",
        "datatran_381"
      ],
      "execution_count": null,
      "outputs": [
        {
          "output_type": "execute_result",
          "data": {
            "text/html": [
              "<div>\n",
              "<style scoped>\n",
              "    .dataframe tbody tr th:only-of-type {\n",
              "        vertical-align: middle;\n",
              "    }\n",
              "\n",
              "    .dataframe tbody tr th {\n",
              "        vertical-align: top;\n",
              "    }\n",
              "\n",
              "    .dataframe thead th {\n",
              "        text-align: right;\n",
              "    }\n",
              "</style>\n",
              "<table border=\"1\" class=\"dataframe\">\n",
              "  <thead>\n",
              "    <tr style=\"text-align: right;\">\n",
              "      <th></th>\n",
              "      <th>id</th>\n",
              "      <th>data_inversa</th>\n",
              "      <th>dia_semana</th>\n",
              "      <th>horario</th>\n",
              "      <th>uf</th>\n",
              "      <th>br</th>\n",
              "      <th>km</th>\n",
              "      <th>municipio</th>\n",
              "      <th>causa_acidente</th>\n",
              "      <th>tipo_acidente</th>\n",
              "      <th>classificacao_acidente</th>\n",
              "      <th>fase_dia</th>\n",
              "      <th>sentido_via</th>\n",
              "      <th>condicao_metereologica</th>\n",
              "      <th>tipo_pista</th>\n",
              "      <th>tracado_via</th>\n",
              "      <th>uso_solo</th>\n",
              "      <th>pessoas</th>\n",
              "      <th>mortos</th>\n",
              "      <th>feridos_leves</th>\n",
              "      <th>feridos_graves</th>\n",
              "      <th>ilesos</th>\n",
              "      <th>ignorados</th>\n",
              "      <th>feridos</th>\n",
              "      <th>veiculos</th>\n",
              "      <th>ano</th>\n",
              "      <th>CONTAGEM</th>\n",
              "    </tr>\n",
              "  </thead>\n",
              "  <tbody>\n",
              "    <tr>\n",
              "      <th>33</th>\n",
              "      <td>83425918.0</td>\n",
              "      <td>01/01/16</td>\n",
              "      <td>Sexta</td>\n",
              "      <td>08:30:00</td>\n",
              "      <td>MG</td>\n",
              "      <td>381.0</td>\n",
              "      <td>563</td>\n",
              "      <td>ITAGUARA</td>\n",
              "      <td>Velocidade incompatível</td>\n",
              "      <td>Colisão traseira</td>\n",
              "      <td>Sem Vítimas</td>\n",
              "      <td>Pleno dia</td>\n",
              "      <td>Decrescente</td>\n",
              "      <td>Ceu Claro</td>\n",
              "      <td>Dupla</td>\n",
              "      <td>Curva</td>\n",
              "      <td>Urbano</td>\n",
              "      <td>2</td>\n",
              "      <td>0</td>\n",
              "      <td>0</td>\n",
              "      <td>0</td>\n",
              "      <td>2</td>\n",
              "      <td>0</td>\n",
              "      <td>0</td>\n",
              "      <td>2</td>\n",
              "      <td>2016</td>\n",
              "      <td>1</td>\n",
              "    </tr>\n",
              "    <tr>\n",
              "      <th>73</th>\n",
              "      <td>83425990.0</td>\n",
              "      <td>01/01/16</td>\n",
              "      <td>Sexta</td>\n",
              "      <td>14:30:00</td>\n",
              "      <td>MG</td>\n",
              "      <td>381.0</td>\n",
              "      <td>878</td>\n",
              "      <td>ESTIVA</td>\n",
              "      <td>Velocidade incompatível</td>\n",
              "      <td>Tombamento</td>\n",
              "      <td>Com Vítimas Feridas</td>\n",
              "      <td>Pleno dia</td>\n",
              "      <td>Crescente</td>\n",
              "      <td>Chuva</td>\n",
              "      <td>Dupla</td>\n",
              "      <td>Reta</td>\n",
              "      <td>Rural</td>\n",
              "      <td>4</td>\n",
              "      <td>0</td>\n",
              "      <td>4</td>\n",
              "      <td>0</td>\n",
              "      <td>0</td>\n",
              "      <td>0</td>\n",
              "      <td>4</td>\n",
              "      <td>1</td>\n",
              "      <td>2016</td>\n",
              "      <td>1</td>\n",
              "    </tr>\n",
              "    <tr>\n",
              "      <th>102</th>\n",
              "      <td>83426027.0</td>\n",
              "      <td>01/01/16</td>\n",
              "      <td>Sexta</td>\n",
              "      <td>16:30:00</td>\n",
              "      <td>MG</td>\n",
              "      <td>381.0</td>\n",
              "      <td>913</td>\n",
              "      <td>CAMANDUCAIA</td>\n",
              "      <td>Velocidade incompatível</td>\n",
              "      <td>Capotamento</td>\n",
              "      <td>Com Vítimas Feridas</td>\n",
              "      <td>Pleno dia</td>\n",
              "      <td>Decrescente</td>\n",
              "      <td>Chuva</td>\n",
              "      <td>Dupla</td>\n",
              "      <td>Curva</td>\n",
              "      <td>Rural</td>\n",
              "      <td>1</td>\n",
              "      <td>0</td>\n",
              "      <td>1</td>\n",
              "      <td>0</td>\n",
              "      <td>0</td>\n",
              "      <td>0</td>\n",
              "      <td>1</td>\n",
              "      <td>1</td>\n",
              "      <td>2016</td>\n",
              "      <td>1</td>\n",
              "    </tr>\n",
              "    <tr>\n",
              "      <th>133</th>\n",
              "      <td>83426071.0</td>\n",
              "      <td>01/01/16</td>\n",
              "      <td>Sexta</td>\n",
              "      <td>05:30:00</td>\n",
              "      <td>MG</td>\n",
              "      <td>381.0</td>\n",
              "      <td>406,1</td>\n",
              "      <td>BOM JESUS DO AMPARO</td>\n",
              "      <td>Outras</td>\n",
              "      <td>Saída de Pista</td>\n",
              "      <td>Com Vítimas Feridas</td>\n",
              "      <td>Amanhecer</td>\n",
              "      <td>Crescente</td>\n",
              "      <td>Chuva</td>\n",
              "      <td>Simples</td>\n",
              "      <td>Curva</td>\n",
              "      <td>Rural</td>\n",
              "      <td>2</td>\n",
              "      <td>0</td>\n",
              "      <td>1</td>\n",
              "      <td>0</td>\n",
              "      <td>1</td>\n",
              "      <td>0</td>\n",
              "      <td>1</td>\n",
              "      <td>1</td>\n",
              "      <td>2016</td>\n",
              "      <td>1</td>\n",
              "    </tr>\n",
              "    <tr>\n",
              "      <th>140</th>\n",
              "      <td>83426083.0</td>\n",
              "      <td>01/01/16</td>\n",
              "      <td>Sexta</td>\n",
              "      <td>21:15:00</td>\n",
              "      <td>MG</td>\n",
              "      <td>381.0</td>\n",
              "      <td>845</td>\n",
              "      <td>SAO SEBASTIAO DA BELA VISTA</td>\n",
              "      <td>Velocidade incompatível</td>\n",
              "      <td>Saída de Pista</td>\n",
              "      <td>Sem Vítimas</td>\n",
              "      <td>Plena noite</td>\n",
              "      <td>Crescente</td>\n",
              "      <td>Chuva</td>\n",
              "      <td>Dupla</td>\n",
              "      <td>Reta</td>\n",
              "      <td>Rural</td>\n",
              "      <td>1</td>\n",
              "      <td>0</td>\n",
              "      <td>0</td>\n",
              "      <td>0</td>\n",
              "      <td>1</td>\n",
              "      <td>0</td>\n",
              "      <td>0</td>\n",
              "      <td>1</td>\n",
              "      <td>2016</td>\n",
              "      <td>1</td>\n",
              "    </tr>\n",
              "    <tr>\n",
              "      <th>...</th>\n",
              "      <td>...</td>\n",
              "      <td>...</td>\n",
              "      <td>...</td>\n",
              "      <td>...</td>\n",
              "      <td>...</td>\n",
              "      <td>...</td>\n",
              "      <td>...</td>\n",
              "      <td>...</td>\n",
              "      <td>...</td>\n",
              "      <td>...</td>\n",
              "      <td>...</td>\n",
              "      <td>...</td>\n",
              "      <td>...</td>\n",
              "      <td>...</td>\n",
              "      <td>...</td>\n",
              "      <td>...</td>\n",
              "      <td>...</td>\n",
              "      <td>...</td>\n",
              "      <td>...</td>\n",
              "      <td>...</td>\n",
              "      <td>...</td>\n",
              "      <td>...</td>\n",
              "      <td>...</td>\n",
              "      <td>...</td>\n",
              "      <td>...</td>\n",
              "      <td>...</td>\n",
              "      <td>...</td>\n",
              "    </tr>\n",
              "    <tr>\n",
              "      <th>63184</th>\n",
              "      <td>331582.0</td>\n",
              "      <td>2020-12-31</td>\n",
              "      <td>quinta-feira</td>\n",
              "      <td>08:50:00</td>\n",
              "      <td>MG</td>\n",
              "      <td>381.0</td>\n",
              "      <td>200</td>\n",
              "      <td>PERIQUITO</td>\n",
              "      <td>Falta de Atenção à Condução</td>\n",
              "      <td>Colisão transversal</td>\n",
              "      <td>Com Vítimas Feridas</td>\n",
              "      <td>Pleno dia</td>\n",
              "      <td>Decrescente</td>\n",
              "      <td>Céu Claro</td>\n",
              "      <td>Simples</td>\n",
              "      <td>Reta</td>\n",
              "      <td>Não</td>\n",
              "      <td>5</td>\n",
              "      <td>0</td>\n",
              "      <td>5</td>\n",
              "      <td>0</td>\n",
              "      <td>0</td>\n",
              "      <td>0</td>\n",
              "      <td>5</td>\n",
              "      <td>2</td>\n",
              "      <td>2020</td>\n",
              "      <td>1</td>\n",
              "    </tr>\n",
              "    <tr>\n",
              "      <th>63193</th>\n",
              "      <td>331592.0</td>\n",
              "      <td>2020-12-31</td>\n",
              "      <td>quinta-feira</td>\n",
              "      <td>12:38:00</td>\n",
              "      <td>MG</td>\n",
              "      <td>381.0</td>\n",
              "      <td>372</td>\n",
              "      <td>SAO GONCALO DO RIO ABAIXO</td>\n",
              "      <td>Condutor Dormindo</td>\n",
              "      <td>Colisão traseira</td>\n",
              "      <td>Com Vítimas Feridas</td>\n",
              "      <td>Pleno dia</td>\n",
              "      <td>Crescente</td>\n",
              "      <td>Céu Claro</td>\n",
              "      <td>Simples</td>\n",
              "      <td>Curva</td>\n",
              "      <td>Não</td>\n",
              "      <td>4</td>\n",
              "      <td>0</td>\n",
              "      <td>1</td>\n",
              "      <td>0</td>\n",
              "      <td>3</td>\n",
              "      <td>0</td>\n",
              "      <td>1</td>\n",
              "      <td>2</td>\n",
              "      <td>2020</td>\n",
              "      <td>1</td>\n",
              "    </tr>\n",
              "    <tr>\n",
              "      <th>63260</th>\n",
              "      <td>331664.0</td>\n",
              "      <td>2020-12-31</td>\n",
              "      <td>quinta-feira</td>\n",
              "      <td>21:00:00</td>\n",
              "      <td>MG</td>\n",
              "      <td>381.0</td>\n",
              "      <td>888,9</td>\n",
              "      <td>CAMBUI</td>\n",
              "      <td>Velocidade Incompatível</td>\n",
              "      <td>Colisão com objeto estático</td>\n",
              "      <td>Com Vítimas Feridas</td>\n",
              "      <td>Plena Noite</td>\n",
              "      <td>Crescente</td>\n",
              "      <td>Céu Claro</td>\n",
              "      <td>Dupla</td>\n",
              "      <td>Curva</td>\n",
              "      <td>Não</td>\n",
              "      <td>1</td>\n",
              "      <td>0</td>\n",
              "      <td>1</td>\n",
              "      <td>0</td>\n",
              "      <td>0</td>\n",
              "      <td>0</td>\n",
              "      <td>1</td>\n",
              "      <td>1</td>\n",
              "      <td>2020</td>\n",
              "      <td>1</td>\n",
              "    </tr>\n",
              "    <tr>\n",
              "      <th>63393</th>\n",
              "      <td>333968.0</td>\n",
              "      <td>2020-10-16</td>\n",
              "      <td>sexta-feira</td>\n",
              "      <td>08:30:00</td>\n",
              "      <td>MG</td>\n",
              "      <td>381.0</td>\n",
              "      <td>371,7</td>\n",
              "      <td>SAO GONCALO DO RIO ABAIXO</td>\n",
              "      <td>Velocidade Incompatível</td>\n",
              "      <td>Saída de leito carroçável</td>\n",
              "      <td>Com Vítimas Feridas</td>\n",
              "      <td>Pleno dia</td>\n",
              "      <td>Decrescente</td>\n",
              "      <td>Ignorado</td>\n",
              "      <td>Simples</td>\n",
              "      <td>Curva</td>\n",
              "      <td>Não</td>\n",
              "      <td>1</td>\n",
              "      <td>0</td>\n",
              "      <td>1</td>\n",
              "      <td>0</td>\n",
              "      <td>0</td>\n",
              "      <td>0</td>\n",
              "      <td>1</td>\n",
              "      <td>1</td>\n",
              "      <td>2020</td>\n",
              "      <td>1</td>\n",
              "    </tr>\n",
              "    <tr>\n",
              "      <th>63415</th>\n",
              "      <td>334325.0</td>\n",
              "      <td>2020-09-23</td>\n",
              "      <td>quarta-feira</td>\n",
              "      <td>19:00:00</td>\n",
              "      <td>MG</td>\n",
              "      <td>381.0</td>\n",
              "      <td>479</td>\n",
              "      <td>CONTAGEM</td>\n",
              "      <td>Chuva</td>\n",
              "      <td>Tombamento</td>\n",
              "      <td>Com Vítimas Feridas</td>\n",
              "      <td>Anoitecer</td>\n",
              "      <td>Crescente</td>\n",
              "      <td>Chuva</td>\n",
              "      <td>Dupla</td>\n",
              "      <td>Curva</td>\n",
              "      <td>Sim</td>\n",
              "      <td>2</td>\n",
              "      <td>0</td>\n",
              "      <td>1</td>\n",
              "      <td>0</td>\n",
              "      <td>0</td>\n",
              "      <td>1</td>\n",
              "      <td>1</td>\n",
              "      <td>2</td>\n",
              "      <td>2020</td>\n",
              "      <td>1</td>\n",
              "    </tr>\n",
              "  </tbody>\n",
              "</table>\n",
              "<p>16907 rows × 27 columns</p>\n",
              "</div>"
            ],
            "text/plain": [
              "               id data_inversa    dia_semana  ... veiculos   ano  CONTAGEM\n",
              "33     83425918.0     01/01/16         Sexta  ...        2  2016         1\n",
              "73     83425990.0     01/01/16         Sexta  ...        1  2016         1\n",
              "102    83426027.0     01/01/16         Sexta  ...        1  2016         1\n",
              "133    83426071.0     01/01/16         Sexta  ...        1  2016         1\n",
              "140    83426083.0     01/01/16         Sexta  ...        1  2016         1\n",
              "...           ...          ...           ...  ...      ...   ...       ...\n",
              "63184    331582.0   2020-12-31  quinta-feira  ...        2  2020         1\n",
              "63193    331592.0   2020-12-31  quinta-feira  ...        2  2020         1\n",
              "63260    331664.0   2020-12-31  quinta-feira  ...        1  2020         1\n",
              "63393    333968.0   2020-10-16   sexta-feira  ...        1  2020         1\n",
              "63415    334325.0   2020-09-23  quarta-feira  ...        2  2020         1\n",
              "\n",
              "[16907 rows x 27 columns]"
            ]
          },
          "metadata": {},
          "execution_count": 16
        }
      ]
    },
    {
      "cell_type": "code",
      "metadata": {
        "colab": {
          "base_uri": "https://localhost:8080/",
          "height": 248
        },
        "id": "ggRUXdEyr2gF",
        "outputId": "67335433-df35-4cd4-ff44-7c3ecf97c019"
      },
      "source": [
        "#Como nesse estudo não usaremos informacoes de \"latitude, longitude, regional, delegacia e uop\", essas colunas podem ser descartadas.\n",
        "datatran_262.drop([\n",
        "                     'latitude',\n",
        "                     'longitude',\n",
        "                     'regional',\n",
        "                     'delegacia',\n",
        "                     'uop'\n",
        "                 ], axis=1, inplace=True)\n",
        "datatran_262"
      ],
      "execution_count": null,
      "outputs": [
        {
          "output_type": "error",
          "ename": "NameError",
          "evalue": "ignored",
          "traceback": [
            "\u001b[0;31m---------------------------------------------------------------------------\u001b[0m",
            "\u001b[0;31mNameError\u001b[0m                                 Traceback (most recent call last)",
            "\u001b[0;32m<ipython-input-1-a86ca312b034>\u001b[0m in \u001b[0;36m<module>\u001b[0;34m()\u001b[0m\n\u001b[1;32m      1\u001b[0m \u001b[0;31m#Como nesse estudo não usaremos informacoes de \"latitude, longitude, regional, delegacia e uop\", essas colunas podem ser descartadas.\u001b[0m\u001b[0;34m\u001b[0m\u001b[0;34m\u001b[0m\u001b[0;34m\u001b[0m\u001b[0m\n\u001b[0;32m----> 2\u001b[0;31m datatran_262.drop([\n\u001b[0m\u001b[1;32m      3\u001b[0m                      \u001b[0;34m'latitude'\u001b[0m\u001b[0;34m,\u001b[0m\u001b[0;34m\u001b[0m\u001b[0;34m\u001b[0m\u001b[0m\n\u001b[1;32m      4\u001b[0m                      \u001b[0;34m'longitude'\u001b[0m\u001b[0;34m,\u001b[0m\u001b[0;34m\u001b[0m\u001b[0;34m\u001b[0m\u001b[0m\n\u001b[1;32m      5\u001b[0m                      \u001b[0;34m'regional'\u001b[0m\u001b[0;34m,\u001b[0m\u001b[0;34m\u001b[0m\u001b[0;34m\u001b[0m\u001b[0m\n",
            "\u001b[0;31mNameError\u001b[0m: name 'datatran_262' is not defined"
          ]
        }
      ]
    },
    {
      "cell_type": "code",
      "metadata": {
        "id": "JDs0nPLen8XI"
      },
      "source": [
        "#Concatenacao da filtragem de br's\n",
        "datatran_381_262 = pd.concat([datatran_381, datatran_262])"
      ],
      "execution_count": null,
      "outputs": []
    },
    {
      "cell_type": "code",
      "metadata": {
        "colab": {
          "base_uri": "https://localhost:8080/"
        },
        "id": "nqy8tShgjHOp",
        "outputId": "d41d3983-2b3c-49a1-e4e2-b7f9083e453b"
      },
      "source": [
        "datatran_381.CONTAGEM.sum()"
      ],
      "execution_count": null,
      "outputs": [
        {
          "output_type": "execute_result",
          "data": {
            "text/plain": [
              "16907"
            ]
          },
          "metadata": {},
          "execution_count": 20
        }
      ]
    },
    {
      "cell_type": "code",
      "metadata": {
        "colab": {
          "base_uri": "https://localhost:8080/"
        },
        "id": "EV66U_1zjO_k",
        "outputId": "d4e43d9c-f9b1-419d-de58-39040a36b164"
      },
      "source": [
        "datatran_262.CONTAGEM.sum()"
      ],
      "execution_count": null,
      "outputs": [
        {
          "output_type": "execute_result",
          "data": {
            "text/plain": [
              "5852"
            ]
          },
          "metadata": {},
          "execution_count": 21
        }
      ]
    },
    {
      "cell_type": "code",
      "metadata": {
        "colab": {
          "base_uri": "https://localhost:8080/"
        },
        "id": "tXXV2daxlNhO",
        "outputId": "ac7407cc-e1c3-4e93-a60e-518e8614b181"
      },
      "source": [
        "16907+5852"
      ],
      "execution_count": null,
      "outputs": [
        {
          "output_type": "execute_result",
          "data": {
            "text/plain": [
              "22759"
            ]
          },
          "metadata": {},
          "execution_count": 22
        }
      ]
    },
    {
      "cell_type": "code",
      "metadata": {
        "colab": {
          "base_uri": "https://localhost:8080/",
          "height": 180
        },
        "id": "o6qWY7npzamM",
        "outputId": "c6389449-a35b-41e2-ff4d-6a287ea81a46"
      },
      "source": [
        "#Retorna um resumo estatístico das variáveis numéricas.\n",
        "datatran_381_262.describe()"
      ],
      "execution_count": null,
      "outputs": [
        {
          "output_type": "error",
          "ename": "NameError",
          "evalue": "ignored",
          "traceback": [
            "\u001b[0;31m---------------------------------------------------------------------------\u001b[0m",
            "\u001b[0;31mNameError\u001b[0m                                 Traceback (most recent call last)",
            "\u001b[0;32m<ipython-input-2-f52110bc0753>\u001b[0m in \u001b[0;36m<module>\u001b[0;34m()\u001b[0m\n\u001b[1;32m      1\u001b[0m \u001b[0;31m#Retorna um resumo estatístico das variáveis numéricas.\u001b[0m\u001b[0;34m\u001b[0m\u001b[0;34m\u001b[0m\u001b[0;34m\u001b[0m\u001b[0m\n\u001b[0;32m----> 2\u001b[0;31m \u001b[0mdatatran_381_262\u001b[0m\u001b[0;34m.\u001b[0m\u001b[0mdescribe\u001b[0m\u001b[0;34m(\u001b[0m\u001b[0;34m)\u001b[0m\u001b[0;34m\u001b[0m\u001b[0;34m\u001b[0m\u001b[0m\n\u001b[0m",
            "\u001b[0;31mNameError\u001b[0m: name 'datatran_381_262' is not defined"
          ]
        }
      ]
    },
    {
      "cell_type": "code",
      "metadata": {
        "colab": {
          "base_uri": "https://localhost:8080/",
          "height": 197
        },
        "id": "XkBXjA6WEcW-",
        "outputId": "4265e9d9-e591-4c89-b440-17c9cc13eb0e"
      },
      "source": [
        "#Verificando se há duplicatas no dataframe.\n",
        "duplicados = datatran_381_262[datatran_381_262.duplicated(keep='first')]\n",
        "print(duplicados)"
      ],
      "execution_count": null,
      "outputs": [
        {
          "output_type": "error",
          "ename": "NameError",
          "evalue": "ignored",
          "traceback": [
            "\u001b[0;31m---------------------------------------------------------------------------\u001b[0m",
            "\u001b[0;31mNameError\u001b[0m                                 Traceback (most recent call last)",
            "\u001b[0;32m<ipython-input-3-d906c5d00639>\u001b[0m in \u001b[0;36m<module>\u001b[0;34m()\u001b[0m\n\u001b[1;32m      1\u001b[0m \u001b[0;31m#Verificando se há duplicatas no dataframe.\u001b[0m\u001b[0;34m\u001b[0m\u001b[0;34m\u001b[0m\u001b[0;34m\u001b[0m\u001b[0m\n\u001b[0;32m----> 2\u001b[0;31m \u001b[0mduplicados\u001b[0m \u001b[0;34m=\u001b[0m \u001b[0mdatatran_381_262\u001b[0m\u001b[0;34m[\u001b[0m\u001b[0mdatatran_381_262\u001b[0m\u001b[0;34m.\u001b[0m\u001b[0mduplicated\u001b[0m\u001b[0;34m(\u001b[0m\u001b[0mkeep\u001b[0m\u001b[0;34m=\u001b[0m\u001b[0;34m'first'\u001b[0m\u001b[0;34m)\u001b[0m\u001b[0;34m]\u001b[0m\u001b[0;34m\u001b[0m\u001b[0;34m\u001b[0m\u001b[0m\n\u001b[0m\u001b[1;32m      3\u001b[0m \u001b[0mprint\u001b[0m\u001b[0;34m(\u001b[0m\u001b[0mduplicados\u001b[0m\u001b[0;34m)\u001b[0m\u001b[0;34m\u001b[0m\u001b[0;34m\u001b[0m\u001b[0m\n",
            "\u001b[0;31mNameError\u001b[0m: name 'datatran_381_262' is not defined"
          ]
        }
      ]
    },
    {
      "cell_type": "code",
      "metadata": {
        "colab": {
          "base_uri": "https://localhost:8080/"
        },
        "id": "99IkgIgP-MzX",
        "outputId": "99bcd756-d7b0-474b-bf61-9401d32aa3f4"
      },
      "source": [
        "#Retorna um resumo dos valores \"não nulos\" encontrados e os datatypes de cara coluna.\n",
        "datatran_381_262.info()"
      ],
      "execution_count": null,
      "outputs": [
        {
          "output_type": "stream",
          "name": "stdout",
          "text": [
            "<class 'pandas.core.frame.DataFrame'>\n",
            "Int64Index: 22759 entries, 33 to 63259\n",
            "Data columns (total 27 columns):\n",
            " #   Column                  Non-Null Count  Dtype  \n",
            "---  ------                  --------------  -----  \n",
            " 0   id                      22759 non-null  float64\n",
            " 1   data_inversa            22759 non-null  object \n",
            " 2   dia_semana              22759 non-null  object \n",
            " 3   horario                 22759 non-null  object \n",
            " 4   uf                      22759 non-null  object \n",
            " 5   br                      22759 non-null  float64\n",
            " 6   km                      22759 non-null  object \n",
            " 7   municipio               22759 non-null  object \n",
            " 8   causa_acidente          22759 non-null  object \n",
            " 9   tipo_acidente           22759 non-null  object \n",
            " 10  classificacao_acidente  22759 non-null  object \n",
            " 11  fase_dia                22759 non-null  object \n",
            " 12  sentido_via             22759 non-null  object \n",
            " 13  condicao_metereologica  22759 non-null  object \n",
            " 14  tipo_pista              22759 non-null  object \n",
            " 15  tracado_via             22759 non-null  object \n",
            " 16  uso_solo                22759 non-null  object \n",
            " 17  pessoas                 22759 non-null  int64  \n",
            " 18  mortos                  22759 non-null  int64  \n",
            " 19  feridos_leves           22759 non-null  int64  \n",
            " 20  feridos_graves          22759 non-null  int64  \n",
            " 21  ilesos                  22759 non-null  int64  \n",
            " 22  ignorados               22759 non-null  int64  \n",
            " 23  feridos                 22759 non-null  int64  \n",
            " 24  veiculos                22759 non-null  int64  \n",
            " 25  ano                     22759 non-null  int64  \n",
            " 26  CONTAGEM                22759 non-null  int64  \n",
            "dtypes: float64(2), int64(10), object(15)\n",
            "memory usage: 4.9+ MB\n"
          ]
        }
      ]
    },
    {
      "cell_type": "code",
      "metadata": {
        "colab": {
          "base_uri": "https://localhost:8080/",
          "height": 326
        },
        "id": "oj__P3ASDQ53",
        "outputId": "9c8e9d42-50dc-465c-a29b-ad3d82eddaba"
      },
      "source": [
        "datatran_381_262.head(5)"
      ],
      "execution_count": null,
      "outputs": [
        {
          "output_type": "execute_result",
          "data": {
            "text/html": [
              "<div>\n",
              "<style scoped>\n",
              "    .dataframe tbody tr th:only-of-type {\n",
              "        vertical-align: middle;\n",
              "    }\n",
              "\n",
              "    .dataframe tbody tr th {\n",
              "        vertical-align: top;\n",
              "    }\n",
              "\n",
              "    .dataframe thead th {\n",
              "        text-align: right;\n",
              "    }\n",
              "</style>\n",
              "<table border=\"1\" class=\"dataframe\">\n",
              "  <thead>\n",
              "    <tr style=\"text-align: right;\">\n",
              "      <th></th>\n",
              "      <th>id</th>\n",
              "      <th>data_inversa</th>\n",
              "      <th>dia_semana</th>\n",
              "      <th>horario</th>\n",
              "      <th>uf</th>\n",
              "      <th>br</th>\n",
              "      <th>km</th>\n",
              "      <th>municipio</th>\n",
              "      <th>causa_acidente</th>\n",
              "      <th>tipo_acidente</th>\n",
              "      <th>classificacao_acidente</th>\n",
              "      <th>fase_dia</th>\n",
              "      <th>sentido_via</th>\n",
              "      <th>condicao_metereologica</th>\n",
              "      <th>tipo_pista</th>\n",
              "      <th>tracado_via</th>\n",
              "      <th>uso_solo</th>\n",
              "      <th>pessoas</th>\n",
              "      <th>mortos</th>\n",
              "      <th>feridos_leves</th>\n",
              "      <th>feridos_graves</th>\n",
              "      <th>ilesos</th>\n",
              "      <th>ignorados</th>\n",
              "      <th>feridos</th>\n",
              "      <th>veiculos</th>\n",
              "      <th>ano</th>\n",
              "      <th>CONTAGEM</th>\n",
              "    </tr>\n",
              "  </thead>\n",
              "  <tbody>\n",
              "    <tr>\n",
              "      <th>33</th>\n",
              "      <td>83425918.0</td>\n",
              "      <td>01/01/16</td>\n",
              "      <td>Sexta</td>\n",
              "      <td>08:30:00</td>\n",
              "      <td>MG</td>\n",
              "      <td>381.0</td>\n",
              "      <td>563</td>\n",
              "      <td>ITAGUARA</td>\n",
              "      <td>Velocidade incompatível</td>\n",
              "      <td>Colisão traseira</td>\n",
              "      <td>Sem Vítimas</td>\n",
              "      <td>Pleno dia</td>\n",
              "      <td>Decrescente</td>\n",
              "      <td>Ceu Claro</td>\n",
              "      <td>Dupla</td>\n",
              "      <td>Curva</td>\n",
              "      <td>Urbano</td>\n",
              "      <td>2</td>\n",
              "      <td>0</td>\n",
              "      <td>0</td>\n",
              "      <td>0</td>\n",
              "      <td>2</td>\n",
              "      <td>0</td>\n",
              "      <td>0</td>\n",
              "      <td>2</td>\n",
              "      <td>2016</td>\n",
              "      <td>1</td>\n",
              "    </tr>\n",
              "    <tr>\n",
              "      <th>73</th>\n",
              "      <td>83425990.0</td>\n",
              "      <td>01/01/16</td>\n",
              "      <td>Sexta</td>\n",
              "      <td>14:30:00</td>\n",
              "      <td>MG</td>\n",
              "      <td>381.0</td>\n",
              "      <td>878</td>\n",
              "      <td>ESTIVA</td>\n",
              "      <td>Velocidade incompatível</td>\n",
              "      <td>Tombamento</td>\n",
              "      <td>Com Vítimas Feridas</td>\n",
              "      <td>Pleno dia</td>\n",
              "      <td>Crescente</td>\n",
              "      <td>Chuva</td>\n",
              "      <td>Dupla</td>\n",
              "      <td>Reta</td>\n",
              "      <td>Rural</td>\n",
              "      <td>4</td>\n",
              "      <td>0</td>\n",
              "      <td>4</td>\n",
              "      <td>0</td>\n",
              "      <td>0</td>\n",
              "      <td>0</td>\n",
              "      <td>4</td>\n",
              "      <td>1</td>\n",
              "      <td>2016</td>\n",
              "      <td>1</td>\n",
              "    </tr>\n",
              "    <tr>\n",
              "      <th>102</th>\n",
              "      <td>83426027.0</td>\n",
              "      <td>01/01/16</td>\n",
              "      <td>Sexta</td>\n",
              "      <td>16:30:00</td>\n",
              "      <td>MG</td>\n",
              "      <td>381.0</td>\n",
              "      <td>913</td>\n",
              "      <td>CAMANDUCAIA</td>\n",
              "      <td>Velocidade incompatível</td>\n",
              "      <td>Capotamento</td>\n",
              "      <td>Com Vítimas Feridas</td>\n",
              "      <td>Pleno dia</td>\n",
              "      <td>Decrescente</td>\n",
              "      <td>Chuva</td>\n",
              "      <td>Dupla</td>\n",
              "      <td>Curva</td>\n",
              "      <td>Rural</td>\n",
              "      <td>1</td>\n",
              "      <td>0</td>\n",
              "      <td>1</td>\n",
              "      <td>0</td>\n",
              "      <td>0</td>\n",
              "      <td>0</td>\n",
              "      <td>1</td>\n",
              "      <td>1</td>\n",
              "      <td>2016</td>\n",
              "      <td>1</td>\n",
              "    </tr>\n",
              "    <tr>\n",
              "      <th>133</th>\n",
              "      <td>83426071.0</td>\n",
              "      <td>01/01/16</td>\n",
              "      <td>Sexta</td>\n",
              "      <td>05:30:00</td>\n",
              "      <td>MG</td>\n",
              "      <td>381.0</td>\n",
              "      <td>406,1</td>\n",
              "      <td>BOM JESUS DO AMPARO</td>\n",
              "      <td>Outras</td>\n",
              "      <td>Saída de Pista</td>\n",
              "      <td>Com Vítimas Feridas</td>\n",
              "      <td>Amanhecer</td>\n",
              "      <td>Crescente</td>\n",
              "      <td>Chuva</td>\n",
              "      <td>Simples</td>\n",
              "      <td>Curva</td>\n",
              "      <td>Rural</td>\n",
              "      <td>2</td>\n",
              "      <td>0</td>\n",
              "      <td>1</td>\n",
              "      <td>0</td>\n",
              "      <td>1</td>\n",
              "      <td>0</td>\n",
              "      <td>1</td>\n",
              "      <td>1</td>\n",
              "      <td>2016</td>\n",
              "      <td>1</td>\n",
              "    </tr>\n",
              "    <tr>\n",
              "      <th>140</th>\n",
              "      <td>83426083.0</td>\n",
              "      <td>01/01/16</td>\n",
              "      <td>Sexta</td>\n",
              "      <td>21:15:00</td>\n",
              "      <td>MG</td>\n",
              "      <td>381.0</td>\n",
              "      <td>845</td>\n",
              "      <td>SAO SEBASTIAO DA BELA VISTA</td>\n",
              "      <td>Velocidade incompatível</td>\n",
              "      <td>Saída de Pista</td>\n",
              "      <td>Sem Vítimas</td>\n",
              "      <td>Plena noite</td>\n",
              "      <td>Crescente</td>\n",
              "      <td>Chuva</td>\n",
              "      <td>Dupla</td>\n",
              "      <td>Reta</td>\n",
              "      <td>Rural</td>\n",
              "      <td>1</td>\n",
              "      <td>0</td>\n",
              "      <td>0</td>\n",
              "      <td>0</td>\n",
              "      <td>1</td>\n",
              "      <td>0</td>\n",
              "      <td>0</td>\n",
              "      <td>1</td>\n",
              "      <td>2016</td>\n",
              "      <td>1</td>\n",
              "    </tr>\n",
              "  </tbody>\n",
              "</table>\n",
              "</div>"
            ],
            "text/plain": [
              "             id data_inversa dia_semana  ... veiculos   ano  CONTAGEM\n",
              "33   83425918.0     01/01/16      Sexta  ...        2  2016         1\n",
              "73   83425990.0     01/01/16      Sexta  ...        1  2016         1\n",
              "102  83426027.0     01/01/16      Sexta  ...        1  2016         1\n",
              "133  83426071.0     01/01/16      Sexta  ...        1  2016         1\n",
              "140  83426083.0     01/01/16      Sexta  ...        1  2016         1\n",
              "\n",
              "[5 rows x 27 columns]"
            ]
          },
          "metadata": {},
          "execution_count": 22
        }
      ]
    },
    {
      "cell_type": "code",
      "metadata": {
        "id": "CEizZ8Dl_zTA"
      },
      "source": [
        "#Retorna a soma dos valores nulos encontrados.\n",
        "datatran_381_262.isnull().sum()"
      ],
      "execution_count": null,
      "outputs": []
    },
    {
      "cell_type": "code",
      "metadata": {
        "colab": {
          "base_uri": "https://localhost:8080/",
          "height": 585
        },
        "id": "qoCa-dkEMJ-S",
        "outputId": "2735004e-bfe5-47ae-a999-d47e4cc86a93"
      },
      "source": [
        "datatran_381_262.hist(figsize=(10,8));\n",
        "plt.tight_layout()"
      ],
      "execution_count": null,
      "outputs": [
        {
          "output_type": "display_data",
          "data": {
            "image/png": "[encoded data removed]",
            "text/plain": [
              "<Figure size 720x576 with 12 Axes>"
            ]
          },
          "metadata": {
            "needs_background": "light"
          }
        }
      ]
    },
    {
      "cell_type": "markdown",
      "metadata": {
        "id": "4rWhnOd602Ke"
      },
      "source": [
        "falta fazer ====="
      ]
    },
    {
      "cell_type": "code",
      "metadata": {
        "id": "ImATk7NA0CMO"
      },
      "source": [
        "datatran_381_262.causa_acidente.value_counts()"
      ],
      "execution_count": null,
      "outputs": []
    },
    {
      "cell_type": "code",
      "metadata": {
        "id": "ekgEnCzKh_Hf"
      },
      "source": [
        "#A partir do ano de 2017, algumas causas de acidente foram renomeadas. Deixando em maiúscula algumas letras, por isso foi necessário fazer a renomeação dessas palavras no dataset de 2016, para evitar duplicatas.\n",
        "datatran_381_262 = datatran_381_262.replace({'Velocidade incompatível': 'Velocidade Incompatível'})\n",
        "datatran_381_262 = datatran_381_262.replace({'Ingestão de álcool': 'Ingestão de Álcool'})\n",
        "datatran_381_262 = datatran_381_262.replace({'Defeito mecânico em veículo': 'Defeito Mecânico no Veículo'})\n",
        "datatran_381_262 = datatran_381_262.replace({'Ultrapassagem indevida': 'Ultrapassagem Indevida'})\n",
        "datatran_381_262 = datatran_381_262.replace({'Defeito na via': 'Defeito na Via'})\n",
        "datatran_381_262 = datatran_381_262.replace({'Dormindo': 'Condutor Dormindo'})\n",
        "datatran_381_262 = datatran_381_262.replace({'Falta de atenção': 'Falta de Atenção à Condução'})\n",
        "datatran_381_262 = datatran_381_262.replace({'Ausência de sinalização': 'Sinalização da via insuficiente ou inadequada'})\n",
        "#Coluna \"tipo_acidente\"\n",
        "#datatran2016 = datatran2016.replace({'Colisão Transversal': 'Colisão transversal'})\n",
        "#datatran2016 = datatran2016.replace({'Atropelamento de animal': 'Atropelamento de Animal'})\n",
        "#datatran2016 = datatran2016.replace({'Derramamento de Carga': 'Derramamento de carga'})\n",
        "#datatran2016 = datatran2016.replace({'Atropelamento de pessoa': 'Atropelamento de Pedestre'})\n",
        "#datatran2016 = datatran2016.replace({'Danos Eventuais': 'Danos eventuais'})"
      ],
      "execution_count": null,
      "outputs": []
    },
    {
      "cell_type": "markdown",
      "metadata": {
        "id": "YBazhcB8Tb28"
      },
      "source": [
        "Identificando Outliers ==== falta fazer"
      ]
    },
    {
      "cell_type": "markdown",
      "metadata": {
        "id": "PY4hWb5ZYraR"
      },
      "source": [
        "#### **Trantando os dados de Acidentes por Pessoa**"
      ]
    },
    {
      "cell_type": "code",
      "metadata": {
        "id": "flgHhztKYz5V"
      },
      "source": [
        "#Criando uma nova coluna \"ano\".\n",
        "apessoa2016['ano'] = 2016\n",
        "apessoa2017['ano'] = 2017\n",
        "apessoa2018['ano'] = 2018\n",
        "apessoa2019['ano'] = 2019\n",
        "apessoa2020['ano'] = 2020"
      ],
      "execution_count": null,
      "outputs": []
    },
    {
      "cell_type": "code",
      "metadata": {
        "id": "_GY11ee0ZXTw"
      },
      "source": [
        "#Concatenação de todos os dataframes de acidentes por pessoa.\n",
        "apessoa_total = pd.concat([apessoa2016, apessoa2017, apessoa2018, apessoa2019, apessoa2020])"
      ],
      "execution_count": null,
      "outputs": []
    },
    {
      "cell_type": "code",
      "metadata": {
        "id": "zM3J-5_FPX68"
      },
      "source": [
        "#Isolando as BRS 381 e 262 - MG\n",
        "x = (apessoa_total.uf == 'MG') & (apessoa_total.br == 381)\n",
        "y = (apessoa_total.uf == 'MG') & (apessoa_total.br == 262)\n",
        "apessoa_381 = apessoa_total[x]\n",
        "apessoa_381['CONTAGEM'] = 1 #Adicionando coluna para contagem\n",
        "apessoa_262 = apessoa_total[y]\n",
        "apessoa_262['CONTAGEM'] = 1 #Adicionando coluna para contagem"
      ],
      "execution_count": null,
      "outputs": []
    },
    {
      "cell_type": "code",
      "metadata": {
        "id": "vVOUNA82Ql9H"
      },
      "source": [
        "apessoa_381_262 = pd.concat([apessoa_381, apessoa_262])"
      ],
      "execution_count": null,
      "outputs": []
    },
    {
      "cell_type": "code",
      "metadata": {
        "colab": {
          "base_uri": "https://localhost:8080/",
          "height": 745
        },
        "id": "WaL-mFdGZ_6N",
        "outputId": "bc04e560-4b12-42c4-83d9-7394634bd2fd"
      },
      "source": [
        "apessoa_total"
      ],
      "execution_count": null,
      "outputs": [
        {
          "output_type": "execute_result",
          "data": {
            "text/html": [
              "<div>\n",
              "<style scoped>\n",
              "    .dataframe tbody tr th:only-of-type {\n",
              "        vertical-align: middle;\n",
              "    }\n",
              "\n",
              "    .dataframe tbody tr th {\n",
              "        vertical-align: top;\n",
              "    }\n",
              "\n",
              "    .dataframe thead th {\n",
              "        text-align: right;\n",
              "    }\n",
              "</style>\n",
              "<table border=\"1\" class=\"dataframe\">\n",
              "  <thead>\n",
              "    <tr style=\"text-align: right;\">\n",
              "      <th></th>\n",
              "      <th>id</th>\n",
              "      <th>pesid</th>\n",
              "      <th>data_inversa</th>\n",
              "      <th>dia_semana</th>\n",
              "      <th>horario</th>\n",
              "      <th>uf</th>\n",
              "      <th>br</th>\n",
              "      <th>km</th>\n",
              "      <th>municipio</th>\n",
              "      <th>causa_acidente</th>\n",
              "      <th>tipo_acidente</th>\n",
              "      <th>classificacao_acidente</th>\n",
              "      <th>fase_dia</th>\n",
              "      <th>sentido_via</th>\n",
              "      <th>condicao_metereologica</th>\n",
              "      <th>tipo_pista</th>\n",
              "      <th>tracado_via</th>\n",
              "      <th>uso_solo</th>\n",
              "      <th>id_veiculo</th>\n",
              "      <th>tipo_veiculo</th>\n",
              "      <th>marca</th>\n",
              "      <th>ano_fabricacao_veiculo</th>\n",
              "      <th>tipo_envolvido</th>\n",
              "      <th>estado_fisico</th>\n",
              "      <th>idade</th>\n",
              "      <th>sexo</th>\n",
              "      <th>nacionalidade</th>\n",
              "      <th>naturalidade</th>\n",
              "      <th>ano</th>\n",
              "      <th>ilesos</th>\n",
              "      <th>feridos_leves</th>\n",
              "      <th>feridos_graves</th>\n",
              "      <th>mortos</th>\n",
              "      <th>latitude</th>\n",
              "      <th>longitude</th>\n",
              "      <th>regional</th>\n",
              "      <th>delegacia</th>\n",
              "      <th>uop</th>\n",
              "    </tr>\n",
              "  </thead>\n",
              "  <tbody>\n",
              "    <tr>\n",
              "      <th>0</th>\n",
              "      <td>83426197.0</td>\n",
              "      <td>83627330.0</td>\n",
              "      <td>01/01/16</td>\n",
              "      <td>Sexta</td>\n",
              "      <td>00:10:00</td>\n",
              "      <td>SP</td>\n",
              "      <td>116.0</td>\n",
              "      <td>212</td>\n",
              "      <td>GUARULHOS</td>\n",
              "      <td>Ingestão de álcool</td>\n",
              "      <td>Colisão frontal</td>\n",
              "      <td>Com Vítimas Fatais</td>\n",
              "      <td>Plena noite</td>\n",
              "      <td>Crescente</td>\n",
              "      <td>Ceu Claro</td>\n",
              "      <td>Múltipla</td>\n",
              "      <td>Reta</td>\n",
              "      <td>Urbano</td>\n",
              "      <td>19016831.0</td>\n",
              "      <td>Automóvel</td>\n",
              "      <td>FIAT/UNO CS IE</td>\n",
              "      <td>1994.0</td>\n",
              "      <td>Condutor</td>\n",
              "      <td>Morto</td>\n",
              "      <td>48.0</td>\n",
              "      <td>M</td>\n",
              "      <td>BRASIL</td>\n",
              "      <td>NaN</td>\n",
              "      <td>2016</td>\n",
              "      <td>NaN</td>\n",
              "      <td>NaN</td>\n",
              "      <td>NaN</td>\n",
              "      <td>NaN</td>\n",
              "      <td>NaN</td>\n",
              "      <td>NaN</td>\n",
              "      <td>NaN</td>\n",
              "      <td>NaN</td>\n",
              "      <td>NaN</td>\n",
              "    </tr>\n",
              "    <tr>\n",
              "      <th>1</th>\n",
              "      <td>83426197.0</td>\n",
              "      <td>83627344.0</td>\n",
              "      <td>01/01/16</td>\n",
              "      <td>Sexta</td>\n",
              "      <td>00:10:00</td>\n",
              "      <td>SP</td>\n",
              "      <td>116.0</td>\n",
              "      <td>212</td>\n",
              "      <td>GUARULHOS</td>\n",
              "      <td>Ingestão de álcool</td>\n",
              "      <td>Colisão frontal</td>\n",
              "      <td>Com Vítimas Fatais</td>\n",
              "      <td>Plena noite</td>\n",
              "      <td>Crescente</td>\n",
              "      <td>Ceu Claro</td>\n",
              "      <td>Múltipla</td>\n",
              "      <td>Reta</td>\n",
              "      <td>Urbano</td>\n",
              "      <td>19016830.0</td>\n",
              "      <td>Camioneta</td>\n",
              "      <td>I/CHEV TRACKER LTZ AT</td>\n",
              "      <td>2015.0</td>\n",
              "      <td>Condutor</td>\n",
              "      <td>Ileso</td>\n",
              "      <td>25.0</td>\n",
              "      <td>M</td>\n",
              "      <td>BOLIVIA</td>\n",
              "      <td>NaN</td>\n",
              "      <td>2016</td>\n",
              "      <td>NaN</td>\n",
              "      <td>NaN</td>\n",
              "      <td>NaN</td>\n",
              "      <td>NaN</td>\n",
              "      <td>NaN</td>\n",
              "      <td>NaN</td>\n",
              "      <td>NaN</td>\n",
              "      <td>NaN</td>\n",
              "      <td>NaN</td>\n",
              "    </tr>\n",
              "    <tr>\n",
              "      <th>2</th>\n",
              "      <td>83426151.0</td>\n",
              "      <td>83627107.0</td>\n",
              "      <td>01/01/16</td>\n",
              "      <td>Sexta</td>\n",
              "      <td>00:30:00</td>\n",
              "      <td>MG</td>\n",
              "      <td>116.0</td>\n",
              "      <td>366,1</td>\n",
              "      <td>FREI INOCENCIO</td>\n",
              "      <td>Desobediência à sinalização</td>\n",
              "      <td>Colisão frontal</td>\n",
              "      <td>Com Vítimas Feridas</td>\n",
              "      <td>Plena noite</td>\n",
              "      <td>Decrescente</td>\n",
              "      <td>Ceu Claro</td>\n",
              "      <td>Simples</td>\n",
              "      <td>Reta</td>\n",
              "      <td>Rural</td>\n",
              "      <td>19016718.0</td>\n",
              "      <td>Automóvel</td>\n",
              "      <td>VW/VOYAGE 1.6 COMFORTL</td>\n",
              "      <td>2011.0</td>\n",
              "      <td>Condutor</td>\n",
              "      <td>Ileso</td>\n",
              "      <td>51.0</td>\n",
              "      <td>M</td>\n",
              "      <td>BRASIL</td>\n",
              "      <td>FREI INOCENCIO</td>\n",
              "      <td>2016</td>\n",
              "      <td>NaN</td>\n",
              "      <td>NaN</td>\n",
              "      <td>NaN</td>\n",
              "      <td>NaN</td>\n",
              "      <td>NaN</td>\n",
              "      <td>NaN</td>\n",
              "      <td>NaN</td>\n",
              "      <td>NaN</td>\n",
              "      <td>NaN</td>\n",
              "    </tr>\n",
              "    <tr>\n",
              "      <th>3</th>\n",
              "      <td>83426151.0</td>\n",
              "      <td>83627113.0</td>\n",
              "      <td>01/01/16</td>\n",
              "      <td>Sexta</td>\n",
              "      <td>00:30:00</td>\n",
              "      <td>MG</td>\n",
              "      <td>116.0</td>\n",
              "      <td>366,1</td>\n",
              "      <td>FREI INOCENCIO</td>\n",
              "      <td>Desobediência à sinalização</td>\n",
              "      <td>Colisão frontal</td>\n",
              "      <td>Com Vítimas Feridas</td>\n",
              "      <td>Plena noite</td>\n",
              "      <td>Decrescente</td>\n",
              "      <td>Ceu Claro</td>\n",
              "      <td>Simples</td>\n",
              "      <td>Reta</td>\n",
              "      <td>Rural</td>\n",
              "      <td>19016721.0</td>\n",
              "      <td>Motocicletas</td>\n",
              "      <td>HONDA/CG 150 TITAN KS</td>\n",
              "      <td>2004.0</td>\n",
              "      <td>Condutor</td>\n",
              "      <td>Ferido Grave</td>\n",
              "      <td>21.0</td>\n",
              "      <td>M</td>\n",
              "      <td>BRASIL</td>\n",
              "      <td>MATHIAS LOBATO</td>\n",
              "      <td>2016</td>\n",
              "      <td>NaN</td>\n",
              "      <td>NaN</td>\n",
              "      <td>NaN</td>\n",
              "      <td>NaN</td>\n",
              "      <td>NaN</td>\n",
              "      <td>NaN</td>\n",
              "      <td>NaN</td>\n",
              "      <td>NaN</td>\n",
              "      <td>NaN</td>\n",
              "    </tr>\n",
              "    <tr>\n",
              "      <th>4</th>\n",
              "      <td>83426151.0</td>\n",
              "      <td>83627172.0</td>\n",
              "      <td>01/01/16</td>\n",
              "      <td>Sexta</td>\n",
              "      <td>00:30:00</td>\n",
              "      <td>MG</td>\n",
              "      <td>116.0</td>\n",
              "      <td>366,1</td>\n",
              "      <td>FREI INOCENCIO</td>\n",
              "      <td>Desobediência à sinalização</td>\n",
              "      <td>Colisão frontal</td>\n",
              "      <td>Com Vítimas Feridas</td>\n",
              "      <td>Plena noite</td>\n",
              "      <td>Decrescente</td>\n",
              "      <td>Ceu Claro</td>\n",
              "      <td>Simples</td>\n",
              "      <td>Reta</td>\n",
              "      <td>Rural</td>\n",
              "      <td>19016721.0</td>\n",
              "      <td>Motocicletas</td>\n",
              "      <td>HONDA/CG 150 TITAN KS</td>\n",
              "      <td>2004.0</td>\n",
              "      <td>Passageiro</td>\n",
              "      <td>Ferido Grave</td>\n",
              "      <td>24.0</td>\n",
              "      <td>F</td>\n",
              "      <td>BRASIL</td>\n",
              "      <td>GOVERNADOR VALADARES</td>\n",
              "      <td>2016</td>\n",
              "      <td>NaN</td>\n",
              "      <td>NaN</td>\n",
              "      <td>NaN</td>\n",
              "      <td>NaN</td>\n",
              "      <td>NaN</td>\n",
              "      <td>NaN</td>\n",
              "      <td>NaN</td>\n",
              "      <td>NaN</td>\n",
              "      <td>NaN</td>\n",
              "    </tr>\n",
              "    <tr>\n",
              "      <th>...</th>\n",
              "      <td>...</td>\n",
              "      <td>...</td>\n",
              "      <td>...</td>\n",
              "      <td>...</td>\n",
              "      <td>...</td>\n",
              "      <td>...</td>\n",
              "      <td>...</td>\n",
              "      <td>...</td>\n",
              "      <td>...</td>\n",
              "      <td>...</td>\n",
              "      <td>...</td>\n",
              "      <td>...</td>\n",
              "      <td>...</td>\n",
              "      <td>...</td>\n",
              "      <td>...</td>\n",
              "      <td>...</td>\n",
              "      <td>...</td>\n",
              "      <td>...</td>\n",
              "      <td>...</td>\n",
              "      <td>...</td>\n",
              "      <td>...</td>\n",
              "      <td>...</td>\n",
              "      <td>...</td>\n",
              "      <td>...</td>\n",
              "      <td>...</td>\n",
              "      <td>...</td>\n",
              "      <td>...</td>\n",
              "      <td>...</td>\n",
              "      <td>...</td>\n",
              "      <td>...</td>\n",
              "      <td>...</td>\n",
              "      <td>...</td>\n",
              "      <td>...</td>\n",
              "      <td>...</td>\n",
              "      <td>...</td>\n",
              "      <td>...</td>\n",
              "      <td>...</td>\n",
              "      <td>...</td>\n",
              "    </tr>\n",
              "    <tr>\n",
              "      <th>147637</th>\n",
              "      <td>352311.0</td>\n",
              "      <td>784912.0</td>\n",
              "      <td>2020-08-15</td>\n",
              "      <td>sÃ¡bado</td>\n",
              "      <td>18:30:00</td>\n",
              "      <td>RS</td>\n",
              "      <td>116.0</td>\n",
              "      <td>156,6</td>\n",
              "      <td>CAXIAS DO SUL</td>\n",
              "      <td>DesobediÃªncia Ã s normas de trÃ¢nsito pelo co...</td>\n",
              "      <td>ColisÃ£o lateral</td>\n",
              "      <td>Com VÃ­timas Feridas</td>\n",
              "      <td>Anoitecer</td>\n",
              "      <td>Decrescente</td>\n",
              "      <td>CÃ©u Claro</td>\n",
              "      <td>Simples</td>\n",
              "      <td>Curva</td>\n",
              "      <td>NÃ£o</td>\n",
              "      <td>633801.0</td>\n",
              "      <td>AutomÃ³vel</td>\n",
              "      <td>FORD/KA FLEX</td>\n",
              "      <td>2012.0</td>\n",
              "      <td>Condutor</td>\n",
              "      <td>Ileso</td>\n",
              "      <td>58.0</td>\n",
              "      <td>Masculino</td>\n",
              "      <td>NaN</td>\n",
              "      <td>NaN</td>\n",
              "      <td>2020</td>\n",
              "      <td>1.0</td>\n",
              "      <td>0.0</td>\n",
              "      <td>0.0</td>\n",
              "      <td>0.0</td>\n",
              "      <td>-29,20731013</td>\n",
              "      <td>-51,17757864</td>\n",
              "      <td>SR-RS</td>\n",
              "      <td>UOP01</td>\n",
              "      <td>DEL05</td>\n",
              "    </tr>\n",
              "    <tr>\n",
              "      <th>147638</th>\n",
              "      <td>352395.0</td>\n",
              "      <td>785081.0</td>\n",
              "      <td>2020-12-30</td>\n",
              "      <td>quarta</td>\n",
              "      <td>11:00:00</td>\n",
              "      <td>PI</td>\n",
              "      <td>343.0</td>\n",
              "      <td>20</td>\n",
              "      <td>PARNAIBA</td>\n",
              "      <td>Falta de AtenÃ§Ã£o Ã  ConduÃ§Ã£o</td>\n",
              "      <td>ColisÃ£o transversal</td>\n",
              "      <td>Com VÃ­timas Feridas</td>\n",
              "      <td>Pleno dia</td>\n",
              "      <td>Crescente</td>\n",
              "      <td>CÃ©u Claro</td>\n",
              "      <td>Simples</td>\n",
              "      <td>Reta</td>\n",
              "      <td>NÃ£o</td>\n",
              "      <td>633956.0</td>\n",
              "      <td>AutomÃ³vel</td>\n",
              "      <td>I/VW SPACEFOX COMFORT</td>\n",
              "      <td>2008.0</td>\n",
              "      <td>Condutor</td>\n",
              "      <td>LesÃµes Leves</td>\n",
              "      <td>19.0</td>\n",
              "      <td>Masculino</td>\n",
              "      <td>NaN</td>\n",
              "      <td>NaN</td>\n",
              "      <td>2020</td>\n",
              "      <td>0.0</td>\n",
              "      <td>1.0</td>\n",
              "      <td>0.0</td>\n",
              "      <td>0.0</td>\n",
              "      <td>-2,981128</td>\n",
              "      <td>-41,762501</td>\n",
              "      <td>SR-PI</td>\n",
              "      <td>UOP01</td>\n",
              "      <td>DEL05</td>\n",
              "    </tr>\n",
              "    <tr>\n",
              "      <th>147639</th>\n",
              "      <td>352395.0</td>\n",
              "      <td>785080.0</td>\n",
              "      <td>2020-12-30</td>\n",
              "      <td>quarta</td>\n",
              "      <td>11:00:00</td>\n",
              "      <td>PI</td>\n",
              "      <td>343.0</td>\n",
              "      <td>20</td>\n",
              "      <td>PARNAIBA</td>\n",
              "      <td>Falta de AtenÃ§Ã£o Ã  ConduÃ§Ã£o</td>\n",
              "      <td>ColisÃ£o transversal</td>\n",
              "      <td>Com VÃ­timas Feridas</td>\n",
              "      <td>Pleno dia</td>\n",
              "      <td>Crescente</td>\n",
              "      <td>CÃ©u Claro</td>\n",
              "      <td>Simples</td>\n",
              "      <td>Reta</td>\n",
              "      <td>NÃ£o</td>\n",
              "      <td>633955.0</td>\n",
              "      <td>AutomÃ³vel</td>\n",
              "      <td>VW/GOL 1.0</td>\n",
              "      <td>2011.0</td>\n",
              "      <td>Condutor</td>\n",
              "      <td>Ileso</td>\n",
              "      <td>30.0</td>\n",
              "      <td>Masculino</td>\n",
              "      <td>NaN</td>\n",
              "      <td>NaN</td>\n",
              "      <td>2020</td>\n",
              "      <td>1.0</td>\n",
              "      <td>0.0</td>\n",
              "      <td>0.0</td>\n",
              "      <td>0.0</td>\n",
              "      <td>-2,981128</td>\n",
              "      <td>-41,762501</td>\n",
              "      <td>SR-PI</td>\n",
              "      <td>UOP01</td>\n",
              "      <td>DEL05</td>\n",
              "    </tr>\n",
              "    <tr>\n",
              "      <th>147640</th>\n",
              "      <td>352488.0</td>\n",
              "      <td>785255.0</td>\n",
              "      <td>2020-12-31</td>\n",
              "      <td>quinta</td>\n",
              "      <td>08:00:00</td>\n",
              "      <td>MA</td>\n",
              "      <td>135.0</td>\n",
              "      <td>95</td>\n",
              "      <td>ITAPECURU MIRIM</td>\n",
              "      <td>Falta de AtenÃ§Ã£o Ã  ConduÃ§Ã£o</td>\n",
              "      <td>ColisÃ£o lateral</td>\n",
              "      <td>Com VÃ­timas Feridas</td>\n",
              "      <td>Amanhecer</td>\n",
              "      <td>Decrescente</td>\n",
              "      <td>CÃ©u Claro</td>\n",
              "      <td>Simples</td>\n",
              "      <td>InterseÃ§Ã£o de vias</td>\n",
              "      <td>NÃ£o</td>\n",
              "      <td>634129.0</td>\n",
              "      <td>Caminhonete</td>\n",
              "      <td>FIAT/STRADA WORKING CE</td>\n",
              "      <td>2013.0</td>\n",
              "      <td>Condutor</td>\n",
              "      <td>NÃ£o Informado</td>\n",
              "      <td>NaN</td>\n",
              "      <td>NÃ£o Informado</td>\n",
              "      <td>NaN</td>\n",
              "      <td>NaN</td>\n",
              "      <td>2020</td>\n",
              "      <td>0.0</td>\n",
              "      <td>0.0</td>\n",
              "      <td>0.0</td>\n",
              "      <td>0.0</td>\n",
              "      <td>-3,3279719</td>\n",
              "      <td>-44,44236412</td>\n",
              "      <td>SR-MA</td>\n",
              "      <td>UOP02</td>\n",
              "      <td>DEL01</td>\n",
              "    </tr>\n",
              "    <tr>\n",
              "      <th>147641</th>\n",
              "      <td>352488.0</td>\n",
              "      <td>785254.0</td>\n",
              "      <td>2020-12-31</td>\n",
              "      <td>quinta</td>\n",
              "      <td>08:00:00</td>\n",
              "      <td>MA</td>\n",
              "      <td>135.0</td>\n",
              "      <td>95</td>\n",
              "      <td>ITAPECURU MIRIM</td>\n",
              "      <td>Falta de AtenÃ§Ã£o Ã  ConduÃ§Ã£o</td>\n",
              "      <td>ColisÃ£o lateral</td>\n",
              "      <td>Com VÃ­timas Feridas</td>\n",
              "      <td>Amanhecer</td>\n",
              "      <td>Decrescente</td>\n",
              "      <td>CÃ©u Claro</td>\n",
              "      <td>Simples</td>\n",
              "      <td>InterseÃ§Ã£o de vias</td>\n",
              "      <td>NÃ£o</td>\n",
              "      <td>634128.0</td>\n",
              "      <td>AutomÃ³vel</td>\n",
              "      <td>VW/VOYAGE 1.6L AF5</td>\n",
              "      <td>2019.0</td>\n",
              "      <td>Condutor</td>\n",
              "      <td>LesÃµes Leves</td>\n",
              "      <td>44.0</td>\n",
              "      <td>Masculino</td>\n",
              "      <td>NaN</td>\n",
              "      <td>NaN</td>\n",
              "      <td>2020</td>\n",
              "      <td>0.0</td>\n",
              "      <td>1.0</td>\n",
              "      <td>0.0</td>\n",
              "      <td>0.0</td>\n",
              "      <td>-3,3279719</td>\n",
              "      <td>-44,44236412</td>\n",
              "      <td>SR-MA</td>\n",
              "      <td>UOP02</td>\n",
              "      <td>DEL01</td>\n",
              "    </tr>\n",
              "  </tbody>\n",
              "</table>\n",
              "<p>895373 rows × 38 columns</p>\n",
              "</div>"
            ],
            "text/plain": [
              "                id       pesid data_inversa  ... regional delegacia    uop\n",
              "0       83426197.0  83627330.0     01/01/16  ...      NaN       NaN    NaN\n",
              "1       83426197.0  83627344.0     01/01/16  ...      NaN       NaN    NaN\n",
              "2       83426151.0  83627107.0     01/01/16  ...      NaN       NaN    NaN\n",
              "3       83426151.0  83627113.0     01/01/16  ...      NaN       NaN    NaN\n",
              "4       83426151.0  83627172.0     01/01/16  ...      NaN       NaN    NaN\n",
              "...            ...         ...          ...  ...      ...       ...    ...\n",
              "147637    352311.0    784912.0   2020-08-15  ...    SR-RS     UOP01  DEL05\n",
              "147638    352395.0    785081.0   2020-12-30  ...    SR-PI     UOP01  DEL05\n",
              "147639    352395.0    785080.0   2020-12-30  ...    SR-PI     UOP01  DEL05\n",
              "147640    352488.0    785255.0   2020-12-31  ...    SR-MA     UOP02  DEL01\n",
              "147641    352488.0    785254.0   2020-12-31  ...    SR-MA     UOP02  DEL01\n",
              "\n",
              "[895373 rows x 38 columns]"
            ]
          },
          "metadata": {},
          "execution_count": 28
        }
      ]
    },
    {
      "cell_type": "code",
      "metadata": {
        "colab": {
          "base_uri": "https://localhost:8080/"
        },
        "id": "6Fyi7mYcZycb",
        "outputId": "abbfe091-f70e-46e0-9bcf-fd4b68138525"
      },
      "source": [
        "apessoa_total.columns"
      ],
      "execution_count": null,
      "outputs": [
        {
          "output_type": "execute_result",
          "data": {
            "text/plain": [
              "Index(['id', 'pesid', 'data_inversa', 'dia_semana', 'horario', 'uf', 'br',\n",
              "       'km', 'municipio', 'causa_acidente', 'tipo_acidente',\n",
              "       'classificacao_acidente', 'fase_dia', 'sentido_via',\n",
              "       'condicao_metereologica', 'tipo_pista', 'tracado_via', 'uso_solo',\n",
              "       'id_veiculo', 'tipo_veiculo', 'marca', 'ano_fabricacao_veiculo',\n",
              "       'tipo_envolvido', 'estado_fisico', 'idade', 'sexo', 'nacionalidade',\n",
              "       'naturalidade', 'ano', 'ilesos', 'feridos_leves', 'feridos_graves',\n",
              "       'mortos', 'latitude', 'longitude', 'regional', 'delegacia', 'uop'],\n",
              "      dtype='object')"
            ]
          },
          "metadata": {},
          "execution_count": 29
        }
      ]
    },
    {
      "cell_type": "code",
      "metadata": {
        "colab": {
          "base_uri": "https://localhost:8080/"
        },
        "id": "wAsqyxciPvoq",
        "outputId": "f75f0eee-786c-4356-f6d6-12d39a8c1efb"
      },
      "source": [
        "apessoa_381_262.isnull().sum()"
      ],
      "execution_count": null,
      "outputs": [
        {
          "output_type": "execute_result",
          "data": {
            "text/plain": [
              "id                            0\n",
              "pesid                         0\n",
              "data_inversa                  0\n",
              "dia_semana                    0\n",
              "horario                       0\n",
              "uf                            0\n",
              "br                            0\n",
              "km                            0\n",
              "municipio                     0\n",
              "causa_acidente                0\n",
              "tipo_acidente                 0\n",
              "classificacao_acidente        0\n",
              "fase_dia                      0\n",
              "sentido_via                   0\n",
              "condicao_metereologica        3\n",
              "tipo_pista                    0\n",
              "tracado_via                   0\n",
              "uso_solo                      0\n",
              "id_veiculo                  166\n",
              "tipo_veiculo                166\n",
              "marca                      2874\n",
              "ano_fabricacao_veiculo     1652\n",
              "tipo_envolvido                0\n",
              "estado_fisico                 0\n",
              "idade                      4234\n",
              "sexo                          0\n",
              "nacionalidade             38918\n",
              "naturalidade              46845\n",
              "ano                           0\n",
              "ilesos                    12779\n",
              "feridos_leves             12779\n",
              "feridos_graves            12779\n",
              "mortos                    12779\n",
              "latitude                  12779\n",
              "longitude                 12779\n",
              "regional                  12779\n",
              "delegacia                 12779\n",
              "uop                       12862\n",
              "CONTAGEM                      0\n",
              "dtype: int64"
            ]
          },
          "metadata": {},
          "execution_count": 33
        }
      ]
    },
    {
      "cell_type": "code",
      "metadata": {
        "colab": {
          "base_uri": "https://localhost:8080/",
          "height": 297
        },
        "id": "PJbA-TdGQAXS",
        "outputId": "2e5486e3-736c-4414-923a-7700ffd168f5"
      },
      "source": [
        "apessoa_381_262.describe()"
      ],
      "execution_count": null,
      "outputs": [
        {
          "output_type": "execute_result",
          "data": {
            "text/html": [
              "<div>\n",
              "<style scoped>\n",
              "    .dataframe tbody tr th:only-of-type {\n",
              "        vertical-align: middle;\n",
              "    }\n",
              "\n",
              "    .dataframe tbody tr th {\n",
              "        vertical-align: top;\n",
              "    }\n",
              "\n",
              "    .dataframe thead th {\n",
              "        text-align: right;\n",
              "    }\n",
              "</style>\n",
              "<table border=\"1\" class=\"dataframe\">\n",
              "  <thead>\n",
              "    <tr style=\"text-align: right;\">\n",
              "      <th></th>\n",
              "      <th>id</th>\n",
              "      <th>pesid</th>\n",
              "      <th>br</th>\n",
              "      <th>id_veiculo</th>\n",
              "      <th>ano_fabricacao_veiculo</th>\n",
              "      <th>idade</th>\n",
              "      <th>ano</th>\n",
              "      <th>ilesos</th>\n",
              "      <th>feridos_leves</th>\n",
              "      <th>feridos_graves</th>\n",
              "      <th>mortos</th>\n",
              "      <th>CONTAGEM</th>\n",
              "    </tr>\n",
              "  </thead>\n",
              "  <tbody>\n",
              "    <tr>\n",
              "      <th>count</th>\n",
              "      <td>5.139400e+04</td>\n",
              "      <td>5.139400e+04</td>\n",
              "      <td>51394.000000</td>\n",
              "      <td>5.122800e+04</td>\n",
              "      <td>49742.000000</td>\n",
              "      <td>47160.000000</td>\n",
              "      <td>51394.000000</td>\n",
              "      <td>38615.000000</td>\n",
              "      <td>38615.000000</td>\n",
              "      <td>38615.000000</td>\n",
              "      <td>38615.000000</td>\n",
              "      <td>51394.0</td>\n",
              "    </tr>\n",
              "    <tr>\n",
              "      <th>mean</th>\n",
              "      <td>2.088037e+07</td>\n",
              "      <td>2.111303e+07</td>\n",
              "      <td>350.734813</td>\n",
              "      <td>4.924605e+06</td>\n",
              "      <td>2008.330747</td>\n",
              "      <td>40.392345</td>\n",
              "      <td>2017.755263</td>\n",
              "      <td>0.429703</td>\n",
              "      <td>0.404169</td>\n",
              "      <td>0.092192</td>\n",
              "      <td>0.027735</td>\n",
              "      <td>1.0</td>\n",
              "    </tr>\n",
              "    <tr>\n",
              "      <th>std</th>\n",
              "      <td>3.601183e+07</td>\n",
              "      <td>3.607075e+07</td>\n",
              "      <td>51.823044</td>\n",
              "      <td>8.105794e+06</td>\n",
              "      <td>7.447631</td>\n",
              "      <td>65.705437</td>\n",
              "      <td>1.407274</td>\n",
              "      <td>0.495040</td>\n",
              "      <td>0.490737</td>\n",
              "      <td>0.289301</td>\n",
              "      <td>0.164216</td>\n",
              "      <td>0.0</td>\n",
              "    </tr>\n",
              "    <tr>\n",
              "      <th>min</th>\n",
              "      <td>4.700000e+01</td>\n",
              "      <td>3.800000e+01</td>\n",
              "      <td>262.000000</td>\n",
              "      <td>4.400000e+01</td>\n",
              "      <td>1946.000000</td>\n",
              "      <td>0.000000</td>\n",
              "      <td>2016.000000</td>\n",
              "      <td>0.000000</td>\n",
              "      <td>0.000000</td>\n",
              "      <td>0.000000</td>\n",
              "      <td>0.000000</td>\n",
              "      <td>1.0</td>\n",
              "    </tr>\n",
              "    <tr>\n",
              "      <th>25%</th>\n",
              "      <td>1.047920e+05</td>\n",
              "      <td>2.289278e+05</td>\n",
              "      <td>262.000000</td>\n",
              "      <td>1.860800e+05</td>\n",
              "      <td>2005.000000</td>\n",
              "      <td>27.000000</td>\n",
              "      <td>2017.000000</td>\n",
              "      <td>0.000000</td>\n",
              "      <td>0.000000</td>\n",
              "      <td>0.000000</td>\n",
              "      <td>0.000000</td>\n",
              "      <td>1.0</td>\n",
              "    </tr>\n",
              "    <tr>\n",
              "      <th>50%</th>\n",
              "      <td>2.208780e+05</td>\n",
              "      <td>4.908505e+05</td>\n",
              "      <td>381.000000</td>\n",
              "      <td>3.930935e+05</td>\n",
              "      <td>2010.000000</td>\n",
              "      <td>37.000000</td>\n",
              "      <td>2018.000000</td>\n",
              "      <td>0.000000</td>\n",
              "      <td>0.000000</td>\n",
              "      <td>0.000000</td>\n",
              "      <td>0.000000</td>\n",
              "      <td>1.0</td>\n",
              "    </tr>\n",
              "    <tr>\n",
              "      <th>75%</th>\n",
              "      <td>3.315080e+05</td>\n",
              "      <td>7.387868e+05</td>\n",
              "      <td>381.000000</td>\n",
              "      <td>5.932660e+05</td>\n",
              "      <td>2013.000000</td>\n",
              "      <td>48.000000</td>\n",
              "      <td>2019.000000</td>\n",
              "      <td>1.000000</td>\n",
              "      <td>1.000000</td>\n",
              "      <td>0.000000</td>\n",
              "      <td>0.000000</td>\n",
              "      <td>1.0</td>\n",
              "    </tr>\n",
              "    <tr>\n",
              "      <th>max</th>\n",
              "      <td>8.352984e+07</td>\n",
              "      <td>8.398793e+07</td>\n",
              "      <td>381.000000</td>\n",
              "      <td>1.918633e+07</td>\n",
              "      <td>2020.000000</td>\n",
              "      <td>2019.000000</td>\n",
              "      <td>2020.000000</td>\n",
              "      <td>1.000000</td>\n",
              "      <td>1.000000</td>\n",
              "      <td>1.000000</td>\n",
              "      <td>1.000000</td>\n",
              "      <td>1.0</td>\n",
              "    </tr>\n",
              "  </tbody>\n",
              "</table>\n",
              "</div>"
            ],
            "text/plain": [
              "                 id         pesid  ...        mortos  CONTAGEM\n",
              "count  5.139400e+04  5.139400e+04  ...  38615.000000   51394.0\n",
              "mean   2.088037e+07  2.111303e+07  ...      0.027735       1.0\n",
              "std    3.601183e+07  3.607075e+07  ...      0.164216       0.0\n",
              "min    4.700000e+01  3.800000e+01  ...      0.000000       1.0\n",
              "25%    1.047920e+05  2.289278e+05  ...      0.000000       1.0\n",
              "50%    2.208780e+05  4.908505e+05  ...      0.000000       1.0\n",
              "75%    3.315080e+05  7.387868e+05  ...      0.000000       1.0\n",
              "max    8.352984e+07  8.398793e+07  ...      1.000000       1.0\n",
              "\n",
              "[8 rows x 12 columns]"
            ]
          },
          "metadata": {},
          "execution_count": 34
        }
      ]
    },
    {
      "cell_type": "code",
      "metadata": {
        "colab": {
          "base_uri": "https://localhost:8080/",
          "height": 711
        },
        "id": "X4FjoRKSZtb7",
        "outputId": "91a92561-3571-4887-f499-b52d7cdaaace"
      },
      "source": [
        "apessoa_total.drop([\n",
        "                     'dia_semana',\n",
        "                     'horario', \n",
        "                     'km', \n",
        "                     'municipio', \n",
        "                     'fase_dia', \n",
        "                     'sentido_via', \n",
        "                     'condicao_metereologica',\n",
        "                     'tipo_pista',\n",
        "                     'tracado_via',\n",
        "                     'uso_solo',\n",
        "                     'marca',\n",
        "                     'ano_fabricacao_veiculo',\n",
        "                     'tipo_envolvido',\n",
        "                     'idade',\n",
        "                     'nacionalidade',\n",
        "                     'naturalidade',\n",
        "                     'ilesos',\n",
        "                     'feridos_leves',\n",
        "                     'feridos_graves',\n",
        "                     'mortos',\n",
        "                     'latitude',\n",
        "                     'longitude',\n",
        "                     'regional',\n",
        "                     'delegacia',\n",
        "                     'uop'\n",
        "                 ], axis=1, inplace=True)\n",
        "apessoa_total"
      ],
      "execution_count": null,
      "outputs": [
        {
          "output_type": "execute_result",
          "data": {
            "text/html": [
              "<div>\n",
              "<style scoped>\n",
              "    .dataframe tbody tr th:only-of-type {\n",
              "        vertical-align: middle;\n",
              "    }\n",
              "\n",
              "    .dataframe tbody tr th {\n",
              "        vertical-align: top;\n",
              "    }\n",
              "\n",
              "    .dataframe thead th {\n",
              "        text-align: right;\n",
              "    }\n",
              "</style>\n",
              "<table border=\"1\" class=\"dataframe\">\n",
              "  <thead>\n",
              "    <tr style=\"text-align: right;\">\n",
              "      <th></th>\n",
              "      <th>id</th>\n",
              "      <th>pesid</th>\n",
              "      <th>data_inversa</th>\n",
              "      <th>uf</th>\n",
              "      <th>br</th>\n",
              "      <th>causa_acidente</th>\n",
              "      <th>tipo_acidente</th>\n",
              "      <th>classificacao_acidente</th>\n",
              "      <th>id_veiculo</th>\n",
              "      <th>tipo_veiculo</th>\n",
              "      <th>estado_fisico</th>\n",
              "      <th>sexo</th>\n",
              "      <th>ano</th>\n",
              "    </tr>\n",
              "  </thead>\n",
              "  <tbody>\n",
              "    <tr>\n",
              "      <th>0</th>\n",
              "      <td>83426197.0</td>\n",
              "      <td>83627330.0</td>\n",
              "      <td>01/01/16</td>\n",
              "      <td>SP</td>\n",
              "      <td>116.0</td>\n",
              "      <td>Ingestão de álcool</td>\n",
              "      <td>Colisão frontal</td>\n",
              "      <td>Com Vítimas Fatais</td>\n",
              "      <td>19016831.0</td>\n",
              "      <td>Automóvel</td>\n",
              "      <td>Morto</td>\n",
              "      <td>M</td>\n",
              "      <td>2016</td>\n",
              "    </tr>\n",
              "    <tr>\n",
              "      <th>1</th>\n",
              "      <td>83426197.0</td>\n",
              "      <td>83627344.0</td>\n",
              "      <td>01/01/16</td>\n",
              "      <td>SP</td>\n",
              "      <td>116.0</td>\n",
              "      <td>Ingestão de álcool</td>\n",
              "      <td>Colisão frontal</td>\n",
              "      <td>Com Vítimas Fatais</td>\n",
              "      <td>19016830.0</td>\n",
              "      <td>Camioneta</td>\n",
              "      <td>Ileso</td>\n",
              "      <td>M</td>\n",
              "      <td>2016</td>\n",
              "    </tr>\n",
              "    <tr>\n",
              "      <th>2</th>\n",
              "      <td>83426151.0</td>\n",
              "      <td>83627107.0</td>\n",
              "      <td>01/01/16</td>\n",
              "      <td>MG</td>\n",
              "      <td>116.0</td>\n",
              "      <td>Desobediência à sinalização</td>\n",
              "      <td>Colisão frontal</td>\n",
              "      <td>Com Vítimas Feridas</td>\n",
              "      <td>19016718.0</td>\n",
              "      <td>Automóvel</td>\n",
              "      <td>Ileso</td>\n",
              "      <td>M</td>\n",
              "      <td>2016</td>\n",
              "    </tr>\n",
              "    <tr>\n",
              "      <th>3</th>\n",
              "      <td>83426151.0</td>\n",
              "      <td>83627113.0</td>\n",
              "      <td>01/01/16</td>\n",
              "      <td>MG</td>\n",
              "      <td>116.0</td>\n",
              "      <td>Desobediência à sinalização</td>\n",
              "      <td>Colisão frontal</td>\n",
              "      <td>Com Vítimas Feridas</td>\n",
              "      <td>19016721.0</td>\n",
              "      <td>Motocicletas</td>\n",
              "      <td>Ferido Grave</td>\n",
              "      <td>M</td>\n",
              "      <td>2016</td>\n",
              "    </tr>\n",
              "    <tr>\n",
              "      <th>4</th>\n",
              "      <td>83426151.0</td>\n",
              "      <td>83627172.0</td>\n",
              "      <td>01/01/16</td>\n",
              "      <td>MG</td>\n",
              "      <td>116.0</td>\n",
              "      <td>Desobediência à sinalização</td>\n",
              "      <td>Colisão frontal</td>\n",
              "      <td>Com Vítimas Feridas</td>\n",
              "      <td>19016721.0</td>\n",
              "      <td>Motocicletas</td>\n",
              "      <td>Ferido Grave</td>\n",
              "      <td>F</td>\n",
              "      <td>2016</td>\n",
              "    </tr>\n",
              "    <tr>\n",
              "      <th>...</th>\n",
              "      <td>...</td>\n",
              "      <td>...</td>\n",
              "      <td>...</td>\n",
              "      <td>...</td>\n",
              "      <td>...</td>\n",
              "      <td>...</td>\n",
              "      <td>...</td>\n",
              "      <td>...</td>\n",
              "      <td>...</td>\n",
              "      <td>...</td>\n",
              "      <td>...</td>\n",
              "      <td>...</td>\n",
              "      <td>...</td>\n",
              "    </tr>\n",
              "    <tr>\n",
              "      <th>147637</th>\n",
              "      <td>352311.0</td>\n",
              "      <td>784912.0</td>\n",
              "      <td>2020-08-15</td>\n",
              "      <td>RS</td>\n",
              "      <td>116.0</td>\n",
              "      <td>DesobediÃªncia Ã s normas de trÃ¢nsito pelo co...</td>\n",
              "      <td>ColisÃ£o lateral</td>\n",
              "      <td>Com VÃ­timas Feridas</td>\n",
              "      <td>633801.0</td>\n",
              "      <td>AutomÃ³vel</td>\n",
              "      <td>Ileso</td>\n",
              "      <td>Masculino</td>\n",
              "      <td>2020</td>\n",
              "    </tr>\n",
              "    <tr>\n",
              "      <th>147638</th>\n",
              "      <td>352395.0</td>\n",
              "      <td>785081.0</td>\n",
              "      <td>2020-12-30</td>\n",
              "      <td>PI</td>\n",
              "      <td>343.0</td>\n",
              "      <td>Falta de AtenÃ§Ã£o Ã  ConduÃ§Ã£o</td>\n",
              "      <td>ColisÃ£o transversal</td>\n",
              "      <td>Com VÃ­timas Feridas</td>\n",
              "      <td>633956.0</td>\n",
              "      <td>AutomÃ³vel</td>\n",
              "      <td>LesÃµes Leves</td>\n",
              "      <td>Masculino</td>\n",
              "      <td>2020</td>\n",
              "    </tr>\n",
              "    <tr>\n",
              "      <th>147639</th>\n",
              "      <td>352395.0</td>\n",
              "      <td>785080.0</td>\n",
              "      <td>2020-12-30</td>\n",
              "      <td>PI</td>\n",
              "      <td>343.0</td>\n",
              "      <td>Falta de AtenÃ§Ã£o Ã  ConduÃ§Ã£o</td>\n",
              "      <td>ColisÃ£o transversal</td>\n",
              "      <td>Com VÃ­timas Feridas</td>\n",
              "      <td>633955.0</td>\n",
              "      <td>AutomÃ³vel</td>\n",
              "      <td>Ileso</td>\n",
              "      <td>Masculino</td>\n",
              "      <td>2020</td>\n",
              "    </tr>\n",
              "    <tr>\n",
              "      <th>147640</th>\n",
              "      <td>352488.0</td>\n",
              "      <td>785255.0</td>\n",
              "      <td>2020-12-31</td>\n",
              "      <td>MA</td>\n",
              "      <td>135.0</td>\n",
              "      <td>Falta de AtenÃ§Ã£o Ã  ConduÃ§Ã£o</td>\n",
              "      <td>ColisÃ£o lateral</td>\n",
              "      <td>Com VÃ­timas Feridas</td>\n",
              "      <td>634129.0</td>\n",
              "      <td>Caminhonete</td>\n",
              "      <td>NÃ£o Informado</td>\n",
              "      <td>NÃ£o Informado</td>\n",
              "      <td>2020</td>\n",
              "    </tr>\n",
              "    <tr>\n",
              "      <th>147641</th>\n",
              "      <td>352488.0</td>\n",
              "      <td>785254.0</td>\n",
              "      <td>2020-12-31</td>\n",
              "      <td>MA</td>\n",
              "      <td>135.0</td>\n",
              "      <td>Falta de AtenÃ§Ã£o Ã  ConduÃ§Ã£o</td>\n",
              "      <td>ColisÃ£o lateral</td>\n",
              "      <td>Com VÃ­timas Feridas</td>\n",
              "      <td>634128.0</td>\n",
              "      <td>AutomÃ³vel</td>\n",
              "      <td>LesÃµes Leves</td>\n",
              "      <td>Masculino</td>\n",
              "      <td>2020</td>\n",
              "    </tr>\n",
              "  </tbody>\n",
              "</table>\n",
              "<p>895373 rows × 13 columns</p>\n",
              "</div>"
            ],
            "text/plain": [
              "                id       pesid  ...            sexo   ano\n",
              "0       83426197.0  83627330.0  ...               M  2016\n",
              "1       83426197.0  83627344.0  ...               M  2016\n",
              "2       83426151.0  83627107.0  ...               M  2016\n",
              "3       83426151.0  83627113.0  ...               M  2016\n",
              "4       83426151.0  83627172.0  ...               F  2016\n",
              "...            ...         ...  ...             ...   ...\n",
              "147637    352311.0    784912.0  ...       Masculino  2020\n",
              "147638    352395.0    785081.0  ...       Masculino  2020\n",
              "147639    352395.0    785080.0  ...       Masculino  2020\n",
              "147640    352488.0    785255.0  ...  NÃ£o Informado  2020\n",
              "147641    352488.0    785254.0  ...       Masculino  2020\n",
              "\n",
              "[895373 rows x 13 columns]"
            ]
          },
          "metadata": {},
          "execution_count": 66
        }
      ]
    },
    {
      "cell_type": "code",
      "metadata": {
        "id": "jJjXCAuA-wCg"
      },
      "source": [
        "#Arrumando alguns nomes\n",
        "#tipo_veiculo\n",
        "apessoa_total = apessoa_total.replace({'CaminhÃ£o': 'Caminhão'})\n",
        "apessoa_total = apessoa_total.replace({'CaminhÃ£o-trator': 'Caminhão-trator'})\n",
        "apessoa_total = apessoa_total.replace({'Caminhão-Trator': 'Caminhão-trator'})\n",
        "apessoa_total = apessoa_total.replace({'AutomÃ³vel': 'Automóvel'})\n",
        "apessoa_total = apessoa_total.replace({'Ãnibus': 'Ônibus'})\n",
        "apessoa_total = apessoa_total.replace({'UtilitÃ¡rio': 'Utilitário'})\n",
        "apessoa_total = apessoa_total.replace({'NÃ£o Informado': 'Não Informado'})\n",
        "apessoa_total = apessoa_total.replace({'Micro-Ã´nibus': 'Micro-ônibus'})\n",
        "apessoa_total = apessoa_total.replace({'Microônibus': 'Micro-ônibus'})\n",
        "apessoa_total = apessoa_total.replace({'CarroÃ§a-charrete': 'Carroça-charrete'})\n",
        "apessoa_total = apessoa_total.replace({'Semi-Reboque': 'Semireboque'})\n",
        "#estado_fisico\n",
        "apessoa_total = apessoa_total.replace({'LesÃµes Leves': 'Lesões Leves'})\n",
        "apessoa_total = apessoa_total.replace({'LesÃµes Graves': 'Lesões Graves'})\n",
        "apessoa_total = apessoa_total.replace({'NÃ£o Informado': 'Não Informado'})\n",
        "apessoa_total = apessoa_total.replace({'Ãbito': 'Óbito'})"
      ],
      "execution_count": null,
      "outputs": []
    },
    {
      "cell_type": "code",
      "metadata": {
        "id": "O2X9qLZv7yu9"
      },
      "source": [
        "#Isolando as BRS 381 e 262 - MG\n",
        "x = (apessoa_total.uf == 'MG') & (apessoa_total.br == 381)\n",
        "y = (apessoa_total.uf == 'MG') & (apessoa_total.br == 262)\n",
        "apessoa_381 = apessoa_total[x]\n",
        "apessoa_381['CONTAGEM'] = 1 #Adicionando coluna para contagem\n",
        "apessoa_262 = apessoa_total[y]\n",
        "apessoa_262['CONTAGEM'] = 1 #Adicionando coluna para contagem\n",
        "apessoa_381_262 = pd.merge(apessoa_381, apessoa_262, how = 'outer')"
      ],
      "execution_count": null,
      "outputs": []
    },
    {
      "cell_type": "code",
      "metadata": {
        "colab": {
          "base_uri": "https://localhost:8080/",
          "height": 711
        },
        "id": "2p-fwx-N8Vqr",
        "outputId": "e0d84405-4b5f-4ca1-e493-2f65e455a865"
      },
      "source": [
        "apessoa_381_262"
      ],
      "execution_count": null,
      "outputs": [
        {
          "output_type": "execute_result",
          "data": {
            "text/html": [
              "<div>\n",
              "<style scoped>\n",
              "    .dataframe tbody tr th:only-of-type {\n",
              "        vertical-align: middle;\n",
              "    }\n",
              "\n",
              "    .dataframe tbody tr th {\n",
              "        vertical-align: top;\n",
              "    }\n",
              "\n",
              "    .dataframe thead th {\n",
              "        text-align: right;\n",
              "    }\n",
              "</style>\n",
              "<table border=\"1\" class=\"dataframe\">\n",
              "  <thead>\n",
              "    <tr style=\"text-align: right;\">\n",
              "      <th></th>\n",
              "      <th>id</th>\n",
              "      <th>pesid</th>\n",
              "      <th>data_inversa</th>\n",
              "      <th>uf</th>\n",
              "      <th>br</th>\n",
              "      <th>causa_acidente</th>\n",
              "      <th>tipo_acidente</th>\n",
              "      <th>classificacao_acidente</th>\n",
              "      <th>id_veiculo</th>\n",
              "      <th>tipo_veiculo</th>\n",
              "      <th>estado_fisico</th>\n",
              "      <th>sexo</th>\n",
              "      <th>ano</th>\n",
              "      <th>CONTAGEM</th>\n",
              "    </tr>\n",
              "  </thead>\n",
              "  <tbody>\n",
              "    <tr>\n",
              "      <th>0</th>\n",
              "      <td>83427079.0</td>\n",
              "      <td>83630995.0</td>\n",
              "      <td>01/01/16</td>\n",
              "      <td>MG</td>\n",
              "      <td>381.0</td>\n",
              "      <td>Ingestão de álcool</td>\n",
              "      <td>Colisão lateral</td>\n",
              "      <td>Com Vítimas Feridas</td>\n",
              "      <td>19018161.0</td>\n",
              "      <td>Utilitário</td>\n",
              "      <td>Ferido Leve</td>\n",
              "      <td>M</td>\n",
              "      <td>2016</td>\n",
              "      <td>1</td>\n",
              "    </tr>\n",
              "    <tr>\n",
              "      <th>1</th>\n",
              "      <td>83427079.0</td>\n",
              "      <td>83631013.0</td>\n",
              "      <td>01/01/16</td>\n",
              "      <td>MG</td>\n",
              "      <td>381.0</td>\n",
              "      <td>Ingestão de álcool</td>\n",
              "      <td>Colisão lateral</td>\n",
              "      <td>Com Vítimas Feridas</td>\n",
              "      <td>19018232.0</td>\n",
              "      <td>Automóvel</td>\n",
              "      <td>Ferido Leve</td>\n",
              "      <td>M</td>\n",
              "      <td>2016</td>\n",
              "      <td>1</td>\n",
              "    </tr>\n",
              "    <tr>\n",
              "      <th>2</th>\n",
              "      <td>83426071.0</td>\n",
              "      <td>83626828.0</td>\n",
              "      <td>01/01/16</td>\n",
              "      <td>MG</td>\n",
              "      <td>381.0</td>\n",
              "      <td>Outras</td>\n",
              "      <td>Saída de Pista</td>\n",
              "      <td>Com Vítimas Feridas</td>\n",
              "      <td>19016602.0</td>\n",
              "      <td>Automóvel</td>\n",
              "      <td>Ileso</td>\n",
              "      <td>M</td>\n",
              "      <td>2016</td>\n",
              "      <td>1</td>\n",
              "    </tr>\n",
              "    <tr>\n",
              "      <th>3</th>\n",
              "      <td>83426071.0</td>\n",
              "      <td>83626831.0</td>\n",
              "      <td>01/01/16</td>\n",
              "      <td>MG</td>\n",
              "      <td>381.0</td>\n",
              "      <td>Outras</td>\n",
              "      <td>Saída de Pista</td>\n",
              "      <td>Com Vítimas Feridas</td>\n",
              "      <td>19016602.0</td>\n",
              "      <td>Automóvel</td>\n",
              "      <td>Ferido Leve</td>\n",
              "      <td>M</td>\n",
              "      <td>2016</td>\n",
              "      <td>1</td>\n",
              "    </tr>\n",
              "    <tr>\n",
              "      <th>4</th>\n",
              "      <td>83425918.0</td>\n",
              "      <td>83635176.0</td>\n",
              "      <td>01/01/16</td>\n",
              "      <td>MG</td>\n",
              "      <td>381.0</td>\n",
              "      <td>Velocidade incompatível</td>\n",
              "      <td>Colisão traseira</td>\n",
              "      <td>Sem Vítimas</td>\n",
              "      <td>19016356.0</td>\n",
              "      <td>Automóvel</td>\n",
              "      <td>Ileso</td>\n",
              "      <td>M</td>\n",
              "      <td>2016</td>\n",
              "      <td>1</td>\n",
              "    </tr>\n",
              "    <tr>\n",
              "      <th>...</th>\n",
              "      <td>...</td>\n",
              "      <td>...</td>\n",
              "      <td>...</td>\n",
              "      <td>...</td>\n",
              "      <td>...</td>\n",
              "      <td>...</td>\n",
              "      <td>...</td>\n",
              "      <td>...</td>\n",
              "      <td>...</td>\n",
              "      <td>...</td>\n",
              "      <td>...</td>\n",
              "      <td>...</td>\n",
              "      <td>...</td>\n",
              "      <td>...</td>\n",
              "    </tr>\n",
              "    <tr>\n",
              "      <th>51389</th>\n",
              "      <td>345223.0</td>\n",
              "      <td>769032.0</td>\n",
              "      <td>2020-12-17</td>\n",
              "      <td>MG</td>\n",
              "      <td>262.0</td>\n",
              "      <td>Falta de AtenÃ§Ã£o Ã  ConduÃ§Ã£o</td>\n",
              "      <td>ColisÃ£o transversal</td>\n",
              "      <td>Com VÃ­timas Feridas</td>\n",
              "      <td>620191.0</td>\n",
              "      <td>Bicicleta</td>\n",
              "      <td>Lesões Graves</td>\n",
              "      <td>Masculino</td>\n",
              "      <td>2020</td>\n",
              "      <td>1</td>\n",
              "    </tr>\n",
              "    <tr>\n",
              "      <th>51390</th>\n",
              "      <td>345223.0</td>\n",
              "      <td>769031.0</td>\n",
              "      <td>2020-12-17</td>\n",
              "      <td>MG</td>\n",
              "      <td>262.0</td>\n",
              "      <td>Falta de AtenÃ§Ã£o Ã  ConduÃ§Ã£o</td>\n",
              "      <td>ColisÃ£o transversal</td>\n",
              "      <td>Com VÃ­timas Feridas</td>\n",
              "      <td>620190.0</td>\n",
              "      <td>Caminhonete</td>\n",
              "      <td>Lesões Leves</td>\n",
              "      <td>Masculino</td>\n",
              "      <td>2020</td>\n",
              "      <td>1</td>\n",
              "    </tr>\n",
              "    <tr>\n",
              "      <th>51391</th>\n",
              "      <td>350237.0</td>\n",
              "      <td>780269.0</td>\n",
              "      <td>2020-09-26</td>\n",
              "      <td>MG</td>\n",
              "      <td>262.0</td>\n",
              "      <td>DesobediÃªncia Ã s normas de trÃ¢nsito pelo co...</td>\n",
              "      <td>ColisÃ£o frontal</td>\n",
              "      <td>Com VÃ­timas Feridas</td>\n",
              "      <td>629883.0</td>\n",
              "      <td>Motocicleta</td>\n",
              "      <td>Lesões Graves</td>\n",
              "      <td>Feminino</td>\n",
              "      <td>2020</td>\n",
              "      <td>1</td>\n",
              "    </tr>\n",
              "    <tr>\n",
              "      <th>51392</th>\n",
              "      <td>350237.0</td>\n",
              "      <td>780268.0</td>\n",
              "      <td>2020-09-26</td>\n",
              "      <td>MG</td>\n",
              "      <td>262.0</td>\n",
              "      <td>DesobediÃªncia Ã s normas de trÃ¢nsito pelo co...</td>\n",
              "      <td>ColisÃ£o frontal</td>\n",
              "      <td>Com VÃ­timas Feridas</td>\n",
              "      <td>629883.0</td>\n",
              "      <td>Motocicleta</td>\n",
              "      <td>Lesões Graves</td>\n",
              "      <td>Masculino</td>\n",
              "      <td>2020</td>\n",
              "      <td>1</td>\n",
              "    </tr>\n",
              "    <tr>\n",
              "      <th>51393</th>\n",
              "      <td>350237.0</td>\n",
              "      <td>780267.0</td>\n",
              "      <td>2020-09-26</td>\n",
              "      <td>MG</td>\n",
              "      <td>262.0</td>\n",
              "      <td>DesobediÃªncia Ã s normas de trÃ¢nsito pelo co...</td>\n",
              "      <td>ColisÃ£o frontal</td>\n",
              "      <td>Com VÃ­timas Feridas</td>\n",
              "      <td>629882.0</td>\n",
              "      <td>Caminhonete</td>\n",
              "      <td>Não Informado</td>\n",
              "      <td>Não Informado</td>\n",
              "      <td>2020</td>\n",
              "      <td>1</td>\n",
              "    </tr>\n",
              "  </tbody>\n",
              "</table>\n",
              "<p>51394 rows × 14 columns</p>\n",
              "</div>"
            ],
            "text/plain": [
              "               id       pesid data_inversa  ...           sexo   ano CONTAGEM\n",
              "0      83427079.0  83630995.0     01/01/16  ...              M  2016        1\n",
              "1      83427079.0  83631013.0     01/01/16  ...              M  2016        1\n",
              "2      83426071.0  83626828.0     01/01/16  ...              M  2016        1\n",
              "3      83426071.0  83626831.0     01/01/16  ...              M  2016        1\n",
              "4      83425918.0  83635176.0     01/01/16  ...              M  2016        1\n",
              "...           ...         ...          ...  ...            ...   ...      ...\n",
              "51389    345223.0    769032.0   2020-12-17  ...      Masculino  2020        1\n",
              "51390    345223.0    769031.0   2020-12-17  ...      Masculino  2020        1\n",
              "51391    350237.0    780269.0   2020-09-26  ...       Feminino  2020        1\n",
              "51392    350237.0    780268.0   2020-09-26  ...      Masculino  2020        1\n",
              "51393    350237.0    780267.0   2020-09-26  ...  Não Informado  2020        1\n",
              "\n",
              "[51394 rows x 14 columns]"
            ]
          },
          "metadata": {},
          "execution_count": 69
        }
      ]
    },
    {
      "cell_type": "code",
      "metadata": {
        "id": "982VhekNRVPx",
        "colab": {
          "base_uri": "https://localhost:8080/",
          "height": 585
        },
        "outputId": "af705e78-d941-4501-9bf2-9fca1ad2a3fe"
      },
      "source": [
        "apessoa_381_262.hist(figsize=(10,8));\n",
        "plt.tight_layout()"
      ],
      "execution_count": null,
      "outputs": [
        {
          "output_type": "display_data",
          "data": {
            "image/png": "[encoded data removed]",
            "text/plain": [
              "<Figure size 720x576 with 12 Axes>"
            ]
          },
          "metadata": {
            "needs_background": "light"
          }
        }
      ]
    },
    {
      "cell_type": "markdown",
      "metadata": {
        "id": "zfU1lqywgbNI"
      },
      "source": [
        "# **Questionário**"
      ]
    },
    {
      "cell_type": "markdown",
      "metadata": {
        "id": "pbtkFGNZgoJb"
      },
      "source": [
        "### **Questão 1 - Quais são as causas presumíveis de ocorrências?**"
      ]
    },
    {
      "cell_type": "code",
      "metadata": {
        "id": "JfS3jllB14u9"
      },
      "source": [
        "for causa_acidente in datatran_381_262['causa_acidente'].unique():\n",
        "  print(causa_acidente)"
      ],
      "execution_count": null,
      "outputs": []
    },
    {
      "cell_type": "code",
      "metadata": {
        "id": "dimTwUulGg9d"
      },
      "source": [
        "datatran_381_262['causa_acidente'].value_counts().rename_axis('Causa Acidente').reset_index(name='Quantidade')"
      ],
      "execution_count": null,
      "outputs": []
    },
    {
      "cell_type": "code",
      "metadata": {
        "id": "pVQ6Ju95KHOU"
      },
      "source": [
        "df = datatran_381_262"
      ],
      "execution_count": null,
      "outputs": []
    },
    {
      "cell_type": "code",
      "metadata": {
        "id": "KwqeoFHJcFbT"
      },
      "source": [
        "df = df.groupby(['causa_acidente'], as_index=False)[['mortos', 'feridos_leves', 'feridos_graves', 'ilesos', 'ignorados', 'CONTAGEM']].sum()"
      ],
      "execution_count": null,
      "outputs": []
    },
    {
      "cell_type": "code",
      "metadata": {
        "id": "Vm-Jj-BE7loF"
      },
      "source": [
        "df = df.rename_axis('causa_acidente_id').reset_index()"
      ],
      "execution_count": null,
      "outputs": []
    },
    {
      "cell_type": "code",
      "metadata": {
        "id": "hPYbjSltzmEd"
      },
      "source": [
        "df"
      ],
      "execution_count": null,
      "outputs": []
    },
    {
      "cell_type": "code",
      "metadata": {
        "id": "RUQ_h4j_e7kP"
      },
      "source": [
        "correlation = df.corr()"
      ],
      "execution_count": null,
      "outputs": []
    },
    {
      "cell_type": "code",
      "metadata": {
        "id": "fqDiL5VOfHPf"
      },
      "source": [
        "# plot da matriz de correlação\n",
        "\n",
        "plt.figure(figsize=(10,5))\n",
        "plot = sn.heatmap(correlation, annot = True, fmt=\".1f\", linewidths=.6)"
      ],
      "execution_count": null,
      "outputs": []
    },
    {
      "cell_type": "code",
      "metadata": {
        "id": "KlvyUPulkJED"
      },
      "source": [
        "#A partir do ano de 2017, algumas causas de acidente foram renomeadas. Deixando em maiúscula algumas letras, por isso foi necessário fazer a renomeação dessas palavras no dataset de 2016, para evitar duplicatas.\n",
        "datatran_381_262 = datatran_381_262.replace({'segunda-feira': 'Segunda'})\n",
        "datatran_381_262 = datatran_381_262.replace({'terça-feira': 'Terça'})\n",
        "datatran_381_262 = datatran_381_262.replace({'quarta-feira': 'Quarta'})\n",
        "datatran_381_262 = datatran_381_262.replace({'quinta-feira': 'Quinta'})\n",
        "datatran_381_262 = datatran_381_262.replace({'sexta-feira': 'Sexta'})\n",
        "datatran_381_262 = datatran_381_262.replace({'sábado': 'Sábado'})\n",
        "datatran_381_262 = datatran_381_262.replace({'domingo': 'Domingo'})"
      ],
      "execution_count": null,
      "outputs": []
    },
    {
      "cell_type": "code",
      "metadata": {
        "id": "BuU4n7P6kR9R"
      },
      "source": [
        "for dia_semana in datatran_381_262['dia_semana'].unique():\n",
        "  print(dia_semana)"
      ],
      "execution_count": null,
      "outputs": []
    },
    {
      "cell_type": "code",
      "metadata": {
        "id": "Ucp0CGorkUd4"
      },
      "source": [
        "datatran_381_262['dia_semana'].value_counts().rename_axis('Dia da Semana').reset_index(name='Quantidade')"
      ],
      "execution_count": null,
      "outputs": []
    },
    {
      "cell_type": "code",
      "metadata": {
        "id": "p5Ja2Z11kcZP"
      },
      "source": [
        "ds = datatran_381_262"
      ],
      "execution_count": null,
      "outputs": []
    },
    {
      "cell_type": "code",
      "metadata": {
        "id": "_o70cq7VkhiV"
      },
      "source": [
        "datatran_381_262.dia_semana.value_counts()"
      ],
      "execution_count": null,
      "outputs": []
    },
    {
      "cell_type": "code",
      "metadata": {
        "id": "QxrNpjn_mQ85"
      },
      "source": [
        "correlation = ds.corr()"
      ],
      "execution_count": null,
      "outputs": []
    },
    {
      "cell_type": "code",
      "metadata": {
        "id": "WzXF9f6cmU1u"
      },
      "source": [
        "# plot da matriz de correlação\n",
        "\n",
        "plt.figure(figsize=(10,5))\n",
        "plot = sn.heatmap(correlation, annot = True, fmt=\".1f\", linewidths=.6)"
      ],
      "execution_count": null,
      "outputs": []
    },
    {
      "cell_type": "markdown",
      "metadata": {
        "id": "cJwmswguHCHX"
      },
      "source": [
        "### **Questão 2 - Como tem sido a progressão desses casos nos últimos 5 anos? Tiveram menos ocorrências ou mais? As ocorrências estão mais fatais?**"
      ]
    },
    {
      "cell_type": "markdown",
      "metadata": {
        "id": "2eX36w0fTYYQ"
      },
      "source": [
        "#### Código gráfico 1"
      ]
    },
    {
      "cell_type": "code",
      "metadata": {
        "id": "ZcoHmSf4TpOS"
      },
      "source": [
        "df1 = datatran_381.groupby(['causa_acidente', 'ano'], as_index=False)[['mortos', 'CONTAGEM']].sum()\n",
        "df1 = df1.groupby(['ano'], as_index=False)[['mortos', 'CONTAGEM']].apply(sum)\n",
        "\n",
        "ano = df1['ano'].tolist()\n",
        "contagem = df1['CONTAGEM'].tolist()\n",
        "mortos = df1['mortos'].tolist()\n",
        "\n",
        "fig = go.Figure(data=[\n",
        "                    go.Bar(name='Ocorrências', x=ano, y=contagem),\n",
        "                    go.Bar(name='Vítimas Fatais', x=ano, y=mortos)\n",
        "])\n",
        "fig.update_layout(yaxis={'title': 'Quantidade'})\n",
        "fig.update_layout(xaxis={'title': 'Ano'})\n",
        "fig.update_layout(title={'text': 'Progessão de Ocorrências BR 381 - MG'})"
      ],
      "execution_count": null,
      "outputs": []
    },
    {
      "cell_type": "code",
      "metadata": {
        "colab": {
          "base_uri": "https://localhost:8080/",
          "height": 204
        },
        "id": "-Xd7QWE2b6wu",
        "outputId": "32e17a8d-f9ed-4cc5-d508-79c184926258"
      },
      "source": [
        "df1"
      ],
      "execution_count": null,
      "outputs": [
        {
          "output_type": "execute_result",
          "data": {
            "text/html": [
              "<div>\n",
              "<style scoped>\n",
              "    .dataframe tbody tr th:only-of-type {\n",
              "        vertical-align: middle;\n",
              "    }\n",
              "\n",
              "    .dataframe tbody tr th {\n",
              "        vertical-align: top;\n",
              "    }\n",
              "\n",
              "    .dataframe thead th {\n",
              "        text-align: right;\n",
              "    }\n",
              "</style>\n",
              "<table border=\"1\" class=\"dataframe\">\n",
              "  <thead>\n",
              "    <tr style=\"text-align: right;\">\n",
              "      <th></th>\n",
              "      <th>ano</th>\n",
              "      <th>mortos</th>\n",
              "      <th>CONTAGEM</th>\n",
              "    </tr>\n",
              "  </thead>\n",
              "  <tbody>\n",
              "    <tr>\n",
              "      <th>0</th>\n",
              "      <td>2016</td>\n",
              "      <td>192</td>\n",
              "      <td>4616</td>\n",
              "    </tr>\n",
              "    <tr>\n",
              "      <th>1</th>\n",
              "      <td>2017</td>\n",
              "      <td>222</td>\n",
              "      <td>4180</td>\n",
              "    </tr>\n",
              "    <tr>\n",
              "      <th>2</th>\n",
              "      <td>2018</td>\n",
              "      <td>171</td>\n",
              "      <td>2944</td>\n",
              "    </tr>\n",
              "    <tr>\n",
              "      <th>3</th>\n",
              "      <td>2019</td>\n",
              "      <td>144</td>\n",
              "      <td>2650</td>\n",
              "    </tr>\n",
              "    <tr>\n",
              "      <th>4</th>\n",
              "      <td>2020</td>\n",
              "      <td>178</td>\n",
              "      <td>2517</td>\n",
              "    </tr>\n",
              "  </tbody>\n",
              "</table>\n",
              "</div>"
            ],
            "text/plain": [
              "    ano  mortos  CONTAGEM\n",
              "0  2016     192      4616\n",
              "1  2017     222      4180\n",
              "2  2018     171      2944\n",
              "3  2019     144      2650\n",
              "4  2020     178      2517"
            ]
          },
          "metadata": {},
          "execution_count": 39
        }
      ]
    },
    {
      "cell_type": "markdown",
      "metadata": {
        "id": "APSnVpt20VK5"
      },
      "source": [
        "#### Gráfico 1 BR 381 MG"
      ]
    },
    {
      "cell_type": "code",
      "metadata": {
        "colab": {
          "base_uri": "https://localhost:8080/",
          "height": 542
        },
        "id": "tSqdTOSs1U-6",
        "outputId": "2d3bf1d8-72a9-4e50-bc35-6991b54196ed"
      },
      "source": [
        "fig.show()"
      ],
      "execution_count": null,
      "outputs": [
        {
          "output_type": "display_data",
          "data": {
            "text/html": [
              "<html>\n",
              "<head><meta charset=\"utf-8\" /></head>\n",
              "<body>\n",
              "    <div>\n",
              "            <script src=\"https://cdnjs.cloudflare.com/ajax/libs/mathjax/2.7.5/MathJax.js?config=TeX-AMS-MML_SVG\"></script><script type=\"text/javascript\">if (window.MathJax) {MathJax.Hub.Config({SVG: {font: \"STIX-Web\"}});}</script>\n",
              "                <script type=\"text/javascript\">window.PlotlyConfig = {MathJaxConfig: 'local'};</script>\n",
              "        <script src=\"https://cdn.plot.ly/plotly-latest.min.js\"></script>    \n",
              "            <div id=\"c8497b58-1fc9-4e0f-addc-b22ee1086819\" class=\"plotly-graph-div\" style=\"height:525px; width:100%;\"></div>\n",
              "            <script type=\"text/javascript\">\n",
              "                \n",
              "                    window.PLOTLYENV=window.PLOTLYENV || {};\n",
              "                    \n",
              "                if (document.getElementById(\"c8497b58-1fc9-4e0f-addc-b22ee1086819\")) {\n",
              "                    Plotly.newPlot(\n",
              "                        'c8497b58-1fc9-4e0f-addc-b22ee1086819',\n",
              "                        [{\"name\": \"Ocorr\\u00eancias\", \"type\": \"bar\", \"x\": [2016, 2017, 2018, 2019, 2020], \"y\": [4616, 4180, 2944, 2650, 2517]}, {\"name\": \"V\\u00edtimas Fatais\", \"type\": \"bar\", \"x\": [2016, 2017, 2018, 2019, 2020], \"y\": [192, 222, 171, 144, 178]}],\n",
              "                        {\"template\": {\"data\": {\"bar\": [{\"error_x\": {\"color\": \"#2a3f5f\"}, \"error_y\": {\"color\": \"#2a3f5f\"}, \"marker\": {\"line\": {\"color\": \"#E5ECF6\", \"width\": 0.5}}, \"type\": \"bar\"}], \"barpolar\": [{\"marker\": {\"line\": {\"color\": \"#E5ECF6\", \"width\": 0.5}}, \"type\": \"barpolar\"}], \"carpet\": [{\"aaxis\": {\"endlinecolor\": \"#2a3f5f\", \"gridcolor\": \"white\", \"linecolor\": \"white\", \"minorgridcolor\": \"white\", \"startlinecolor\": \"#2a3f5f\"}, \"baxis\": {\"endlinecolor\": \"#2a3f5f\", \"gridcolor\": \"white\", \"linecolor\": \"white\", \"minorgridcolor\": \"white\", \"startlinecolor\": \"#2a3f5f\"}, \"type\": \"carpet\"}], \"choropleth\": [{\"colorbar\": {\"outlinewidth\": 0, \"ticks\": \"\"}, \"type\": \"choropleth\"}], \"contour\": [{\"colorbar\": {\"outlinewidth\": 0, \"ticks\": \"\"}, \"colorscale\": [[0.0, \"#0d0887\"], [0.1111111111111111, \"#46039f\"], [0.2222222222222222, \"#7201a8\"], [0.3333333333333333, \"#9c179e\"], [0.4444444444444444, \"#bd3786\"], [0.5555555555555556, \"#d8576b\"], [0.6666666666666666, \"#ed7953\"], [0.7777777777777778, \"#fb9f3a\"], [0.8888888888888888, \"#fdca26\"], [1.0, \"#f0f921\"]], \"type\": \"contour\"}], \"contourcarpet\": [{\"colorbar\": {\"outlinewidth\": 0, \"ticks\": \"\"}, \"type\": \"contourcarpet\"}], \"heatmap\": [{\"colorbar\": {\"outlinewidth\": 0, \"ticks\": \"\"}, \"colorscale\": [[0.0, \"#0d0887\"], [0.1111111111111111, \"#46039f\"], [0.2222222222222222, \"#7201a8\"], [0.3333333333333333, \"#9c179e\"], [0.4444444444444444, \"#bd3786\"], [0.5555555555555556, \"#d8576b\"], [0.6666666666666666, \"#ed7953\"], [0.7777777777777778, \"#fb9f3a\"], [0.8888888888888888, \"#fdca26\"], [1.0, \"#f0f921\"]], \"type\": \"heatmap\"}], \"heatmapgl\": [{\"colorbar\": {\"outlinewidth\": 0, \"ticks\": \"\"}, \"colorscale\": [[0.0, \"#0d0887\"], [0.1111111111111111, \"#46039f\"], [0.2222222222222222, \"#7201a8\"], [0.3333333333333333, \"#9c179e\"], [0.4444444444444444, \"#bd3786\"], [0.5555555555555556, \"#d8576b\"], [0.6666666666666666, \"#ed7953\"], [0.7777777777777778, \"#fb9f3a\"], [0.8888888888888888, \"#fdca26\"], [1.0, \"#f0f921\"]], \"type\": \"heatmapgl\"}], \"histogram\": [{\"marker\": {\"colorbar\": {\"outlinewidth\": 0, \"ticks\": \"\"}}, \"type\": \"histogram\"}], \"histogram2d\": [{\"colorbar\": {\"outlinewidth\": 0, \"ticks\": \"\"}, \"colorscale\": [[0.0, \"#0d0887\"], [0.1111111111111111, \"#46039f\"], [0.2222222222222222, \"#7201a8\"], [0.3333333333333333, \"#9c179e\"], [0.4444444444444444, \"#bd3786\"], [0.5555555555555556, \"#d8576b\"], [0.6666666666666666, \"#ed7953\"], [0.7777777777777778, \"#fb9f3a\"], [0.8888888888888888, \"#fdca26\"], [1.0, \"#f0f921\"]], \"type\": \"histogram2d\"}], \"histogram2dcontour\": [{\"colorbar\": {\"outlinewidth\": 0, \"ticks\": \"\"}, \"colorscale\": [[0.0, \"#0d0887\"], [0.1111111111111111, \"#46039f\"], [0.2222222222222222, \"#7201a8\"], [0.3333333333333333, \"#9c179e\"], [0.4444444444444444, \"#bd3786\"], [0.5555555555555556, \"#d8576b\"], [0.6666666666666666, \"#ed7953\"], [0.7777777777777778, \"#fb9f3a\"], [0.8888888888888888, \"#fdca26\"], [1.0, \"#f0f921\"]], \"type\": \"histogram2dcontour\"}], \"mesh3d\": [{\"colorbar\": {\"outlinewidth\": 0, \"ticks\": \"\"}, \"type\": \"mesh3d\"}], \"parcoords\": [{\"line\": {\"colorbar\": {\"outlinewidth\": 0, \"ticks\": \"\"}}, \"type\": \"parcoords\"}], \"pie\": [{\"automargin\": true, \"type\": \"pie\"}], \"scatter\": [{\"marker\": {\"colorbar\": {\"outlinewidth\": 0, \"ticks\": \"\"}}, \"type\": \"scatter\"}], \"scatter3d\": [{\"line\": {\"colorbar\": {\"outlinewidth\": 0, \"ticks\": \"\"}}, \"marker\": {\"colorbar\": {\"outlinewidth\": 0, \"ticks\": \"\"}}, \"type\": \"scatter3d\"}], \"scattercarpet\": [{\"marker\": {\"colorbar\": {\"outlinewidth\": 0, \"ticks\": \"\"}}, \"type\": \"scattercarpet\"}], \"scattergeo\": [{\"marker\": {\"colorbar\": {\"outlinewidth\": 0, \"ticks\": \"\"}}, \"type\": \"scattergeo\"}], \"scattergl\": [{\"marker\": {\"colorbar\": {\"outlinewidth\": 0, \"ticks\": \"\"}}, \"type\": \"scattergl\"}], \"scattermapbox\": [{\"marker\": {\"colorbar\": {\"outlinewidth\": 0, \"ticks\": \"\"}}, \"type\": \"scattermapbox\"}], \"scatterpolar\": [{\"marker\": {\"colorbar\": {\"outlinewidth\": 0, \"ticks\": \"\"}}, \"type\": \"scatterpolar\"}], \"scatterpolargl\": [{\"marker\": {\"colorbar\": {\"outlinewidth\": 0, \"ticks\": \"\"}}, \"type\": \"scatterpolargl\"}], \"scatterternary\": [{\"marker\": {\"colorbar\": {\"outlinewidth\": 0, \"ticks\": \"\"}}, \"type\": \"scatterternary\"}], \"surface\": [{\"colorbar\": {\"outlinewidth\": 0, \"ticks\": \"\"}, \"colorscale\": [[0.0, \"#0d0887\"], [0.1111111111111111, \"#46039f\"], [0.2222222222222222, \"#7201a8\"], [0.3333333333333333, \"#9c179e\"], [0.4444444444444444, \"#bd3786\"], [0.5555555555555556, \"#d8576b\"], [0.6666666666666666, \"#ed7953\"], [0.7777777777777778, \"#fb9f3a\"], [0.8888888888888888, \"#fdca26\"], [1.0, \"#f0f921\"]], \"type\": \"surface\"}], \"table\": [{\"cells\": {\"fill\": {\"color\": \"#EBF0F8\"}, \"line\": {\"color\": \"white\"}}, \"header\": {\"fill\": {\"color\": \"#C8D4E3\"}, \"line\": {\"color\": \"white\"}}, \"type\": \"table\"}]}, \"layout\": {\"annotationdefaults\": {\"arrowcolor\": \"#2a3f5f\", \"arrowhead\": 0, \"arrowwidth\": 1}, \"coloraxis\": {\"colorbar\": {\"outlinewidth\": 0, \"ticks\": \"\"}}, \"colorscale\": {\"diverging\": [[0, \"#8e0152\"], [0.1, \"#c51b7d\"], [0.2, \"#de77ae\"], [0.3, \"#f1b6da\"], [0.4, \"#fde0ef\"], [0.5, \"#f7f7f7\"], [0.6, \"#e6f5d0\"], [0.7, \"#b8e186\"], [0.8, \"#7fbc41\"], [0.9, \"#4d9221\"], [1, \"#276419\"]], \"sequential\": [[0.0, \"#0d0887\"], [0.1111111111111111, \"#46039f\"], [0.2222222222222222, \"#7201a8\"], [0.3333333333333333, \"#9c179e\"], [0.4444444444444444, \"#bd3786\"], [0.5555555555555556, \"#d8576b\"], [0.6666666666666666, \"#ed7953\"], [0.7777777777777778, \"#fb9f3a\"], [0.8888888888888888, \"#fdca26\"], [1.0, \"#f0f921\"]], \"sequentialminus\": [[0.0, \"#0d0887\"], [0.1111111111111111, \"#46039f\"], [0.2222222222222222, \"#7201a8\"], [0.3333333333333333, \"#9c179e\"], [0.4444444444444444, \"#bd3786\"], [0.5555555555555556, \"#d8576b\"], [0.6666666666666666, \"#ed7953\"], [0.7777777777777778, \"#fb9f3a\"], [0.8888888888888888, \"#fdca26\"], [1.0, \"#f0f921\"]]}, \"colorway\": [\"#636efa\", \"#EF553B\", \"#00cc96\", \"#ab63fa\", \"#FFA15A\", \"#19d3f3\", \"#FF6692\", \"#B6E880\", \"#FF97FF\", \"#FECB52\"], \"font\": {\"color\": \"#2a3f5f\"}, \"geo\": {\"bgcolor\": \"white\", \"lakecolor\": \"white\", \"landcolor\": \"#E5ECF6\", \"showlakes\": true, \"showland\": true, \"subunitcolor\": \"white\"}, \"hoverlabel\": {\"align\": \"left\"}, \"hovermode\": \"closest\", \"mapbox\": {\"style\": \"light\"}, \"paper_bgcolor\": \"white\", \"plot_bgcolor\": \"#E5ECF6\", \"polar\": {\"angularaxis\": {\"gridcolor\": \"white\", \"linecolor\": \"white\", \"ticks\": \"\"}, \"bgcolor\": \"#E5ECF6\", \"radialaxis\": {\"gridcolor\": \"white\", \"linecolor\": \"white\", \"ticks\": \"\"}}, \"scene\": {\"xaxis\": {\"backgroundcolor\": \"#E5ECF6\", \"gridcolor\": \"white\", \"gridwidth\": 2, \"linecolor\": \"white\", \"showbackground\": true, \"ticks\": \"\", \"zerolinecolor\": \"white\"}, \"yaxis\": {\"backgroundcolor\": \"#E5ECF6\", \"gridcolor\": \"white\", \"gridwidth\": 2, \"linecolor\": \"white\", \"showbackground\": true, \"ticks\": \"\", \"zerolinecolor\": \"white\"}, \"zaxis\": {\"backgroundcolor\": \"#E5ECF6\", \"gridcolor\": \"white\", \"gridwidth\": 2, \"linecolor\": \"white\", \"showbackground\": true, \"ticks\": \"\", \"zerolinecolor\": \"white\"}}, \"shapedefaults\": {\"line\": {\"color\": \"#2a3f5f\"}}, \"ternary\": {\"aaxis\": {\"gridcolor\": \"white\", \"linecolor\": \"white\", \"ticks\": \"\"}, \"baxis\": {\"gridcolor\": \"white\", \"linecolor\": \"white\", \"ticks\": \"\"}, \"bgcolor\": \"#E5ECF6\", \"caxis\": {\"gridcolor\": \"white\", \"linecolor\": \"white\", \"ticks\": \"\"}}, \"title\": {\"x\": 0.05}, \"xaxis\": {\"automargin\": true, \"gridcolor\": \"white\", \"linecolor\": \"white\", \"ticks\": \"\", \"title\": {\"standoff\": 15}, \"zerolinecolor\": \"white\", \"zerolinewidth\": 2}, \"yaxis\": {\"automargin\": true, \"gridcolor\": \"white\", \"linecolor\": \"white\", \"ticks\": \"\", \"title\": {\"standoff\": 15}, \"zerolinecolor\": \"white\", \"zerolinewidth\": 2}}}, \"title\": {\"text\": \"Progess\\u00e3o de Ocorr\\u00eancias BR 381 - MG\"}, \"xaxis\": {\"title\": {\"text\": \"Ano\"}}, \"yaxis\": {\"title\": {\"text\": \"Quantidade\"}}},\n",
              "                        {\"responsive\": true}\n",
              "                    ).then(function(){\n",
              "                            \n",
              "var gd = document.getElementById('c8497b58-1fc9-4e0f-addc-b22ee1086819');\n",
              "var x = new MutationObserver(function (mutations, observer) {{\n",
              "        var display = window.getComputedStyle(gd).display;\n",
              "        if (!display || display === 'none') {{\n",
              "            console.log([gd, 'removed!']);\n",
              "            Plotly.purge(gd);\n",
              "            observer.disconnect();\n",
              "        }}\n",
              "}});\n",
              "\n",
              "// Listen for the removal of the full notebook cells\n",
              "var notebookContainer = gd.closest('#notebook-container');\n",
              "if (notebookContainer) {{\n",
              "    x.observe(notebookContainer, {childList: true});\n",
              "}}\n",
              "\n",
              "// Listen for the clearing of the current output cell\n",
              "var outputEl = gd.closest('.output');\n",
              "if (outputEl) {{\n",
              "    x.observe(outputEl, {childList: true});\n",
              "}}\n",
              "\n",
              "                        })\n",
              "                };\n",
              "                \n",
              "            </script>\n",
              "        </div>\n",
              "</body>\n",
              "</html>"
            ]
          },
          "metadata": {}
        }
      ]
    },
    {
      "cell_type": "markdown",
      "metadata": {
        "id": "DtHunTcK060J"
      },
      "source": [
        "#### Código gráfico 2"
      ]
    },
    {
      "cell_type": "code",
      "metadata": {
        "id": "5OVJcnXfWv7E"
      },
      "source": [
        "#Limpando o data/layout para gerar novo gráfico\n",
        "fig.data = []\n",
        "fig.layout = {}"
      ],
      "execution_count": null,
      "outputs": []
    },
    {
      "cell_type": "code",
      "metadata": {
        "id": "aFkC4NFKWl3W"
      },
      "source": [
        "df2 = datatran_262.groupby(['causa_acidente', 'ano'], as_index=False)[['mortos', 'CONTAGEM']].sum()\n",
        "df2 = df2.groupby(['ano'], as_index=False)[['mortos', 'CONTAGEM']].apply(sum)\n",
        "\n",
        "ano = df2['ano'].tolist()\n",
        "contagem = df2['CONTAGEM'].tolist()\n",
        "mortos = df2['mortos'].tolist()\n",
        "\n",
        "fig = go.Figure(data=[\n",
        "                    go.Bar(name='Ocorrências', x=ano, y=contagem),\n",
        "                    go.Bar(name='Vítimas Fatais', x=ano, y=mortos)\n",
        "])\n",
        "fig.update_layout(yaxis={'title': 'Quantidade'})\n",
        "fig.update_layout(xaxis={'title': 'Ano'})\n",
        "fig.update_layout(title={'text': 'Progessão de Ocorrências BR 262 - MG'})\n",
        "fig.show()"
      ],
      "execution_count": null,
      "outputs": []
    },
    {
      "cell_type": "markdown",
      "metadata": {
        "id": "uSFFvSUd0pL8"
      },
      "source": [
        "#### Gráfico 2 BR 262 MG"
      ]
    },
    {
      "cell_type": "code",
      "metadata": {
        "colab": {
          "base_uri": "https://localhost:8080/",
          "height": 542
        },
        "id": "7Qjsh24h0n0h",
        "outputId": "77a23dcb-c008-4446-f31a-88e5f8bd2710"
      },
      "source": [
        "fig.show()"
      ],
      "execution_count": null,
      "outputs": [
        {
          "output_type": "display_data",
          "data": {
            "text/html": [
              "<html>\n",
              "<head><meta charset=\"utf-8\" /></head>\n",
              "<body>\n",
              "    <div>\n",
              "            <script src=\"https://cdnjs.cloudflare.com/ajax/libs/mathjax/2.7.5/MathJax.js?config=TeX-AMS-MML_SVG\"></script><script type=\"text/javascript\">if (window.MathJax) {MathJax.Hub.Config({SVG: {font: \"STIX-Web\"}});}</script>\n",
              "                <script type=\"text/javascript\">window.PlotlyConfig = {MathJaxConfig: 'local'};</script>\n",
              "        <script src=\"https://cdn.plot.ly/plotly-latest.min.js\"></script>    \n",
              "            <div id=\"5d03ea50-e0da-4a5b-ab78-d9f9a2920ab2\" class=\"plotly-graph-div\" style=\"height:525px; width:100%;\"></div>\n",
              "            <script type=\"text/javascript\">\n",
              "                \n",
              "                    window.PLOTLYENV=window.PLOTLYENV || {};\n",
              "                    \n",
              "                if (document.getElementById(\"5d03ea50-e0da-4a5b-ab78-d9f9a2920ab2\")) {\n",
              "                    Plotly.newPlot(\n",
              "                        '5d03ea50-e0da-4a5b-ab78-d9f9a2920ab2',\n",
              "                        [{\"name\": \"Ocorr\\u00eancias\", \"type\": \"bar\", \"x\": [2016, 2017, 2018, 2019, 2020], \"y\": [1537, 1381, 1013, 956, 965]}, {\"name\": \"V\\u00edtimas Fatais\", \"type\": \"bar\", \"x\": [2016, 2017, 2018, 2019, 2020], \"y\": [102, 97, 89, 86, 84]}],\n",
              "                        {\"template\": {\"data\": {\"bar\": [{\"error_x\": {\"color\": \"#2a3f5f\"}, \"error_y\": {\"color\": \"#2a3f5f\"}, \"marker\": {\"line\": {\"color\": \"#E5ECF6\", \"width\": 0.5}}, \"type\": \"bar\"}], \"barpolar\": [{\"marker\": {\"line\": {\"color\": \"#E5ECF6\", \"width\": 0.5}}, \"type\": \"barpolar\"}], \"carpet\": [{\"aaxis\": {\"endlinecolor\": \"#2a3f5f\", \"gridcolor\": \"white\", \"linecolor\": \"white\", \"minorgridcolor\": \"white\", \"startlinecolor\": \"#2a3f5f\"}, \"baxis\": {\"endlinecolor\": \"#2a3f5f\", \"gridcolor\": \"white\", \"linecolor\": \"white\", \"minorgridcolor\": \"white\", \"startlinecolor\": \"#2a3f5f\"}, \"type\": \"carpet\"}], \"choropleth\": [{\"colorbar\": {\"outlinewidth\": 0, \"ticks\": \"\"}, \"type\": \"choropleth\"}], \"contour\": [{\"colorbar\": {\"outlinewidth\": 0, \"ticks\": \"\"}, \"colorscale\": [[0.0, \"#0d0887\"], [0.1111111111111111, \"#46039f\"], [0.2222222222222222, \"#7201a8\"], [0.3333333333333333, \"#9c179e\"], [0.4444444444444444, \"#bd3786\"], [0.5555555555555556, \"#d8576b\"], [0.6666666666666666, \"#ed7953\"], [0.7777777777777778, \"#fb9f3a\"], [0.8888888888888888, \"#fdca26\"], [1.0, \"#f0f921\"]], \"type\": \"contour\"}], \"contourcarpet\": [{\"colorbar\": {\"outlinewidth\": 0, \"ticks\": \"\"}, \"type\": \"contourcarpet\"}], \"heatmap\": [{\"colorbar\": {\"outlinewidth\": 0, \"ticks\": \"\"}, \"colorscale\": [[0.0, \"#0d0887\"], [0.1111111111111111, \"#46039f\"], [0.2222222222222222, \"#7201a8\"], [0.3333333333333333, \"#9c179e\"], [0.4444444444444444, \"#bd3786\"], [0.5555555555555556, \"#d8576b\"], [0.6666666666666666, \"#ed7953\"], [0.7777777777777778, \"#fb9f3a\"], [0.8888888888888888, \"#fdca26\"], [1.0, \"#f0f921\"]], \"type\": \"heatmap\"}], \"heatmapgl\": [{\"colorbar\": {\"outlinewidth\": 0, \"ticks\": \"\"}, \"colorscale\": [[0.0, \"#0d0887\"], [0.1111111111111111, \"#46039f\"], [0.2222222222222222, \"#7201a8\"], [0.3333333333333333, \"#9c179e\"], [0.4444444444444444, \"#bd3786\"], [0.5555555555555556, \"#d8576b\"], [0.6666666666666666, \"#ed7953\"], [0.7777777777777778, \"#fb9f3a\"], [0.8888888888888888, \"#fdca26\"], [1.0, \"#f0f921\"]], \"type\": \"heatmapgl\"}], \"histogram\": [{\"marker\": {\"colorbar\": {\"outlinewidth\": 0, \"ticks\": \"\"}}, \"type\": \"histogram\"}], \"histogram2d\": [{\"colorbar\": {\"outlinewidth\": 0, \"ticks\": \"\"}, \"colorscale\": [[0.0, \"#0d0887\"], [0.1111111111111111, \"#46039f\"], [0.2222222222222222, \"#7201a8\"], [0.3333333333333333, \"#9c179e\"], [0.4444444444444444, \"#bd3786\"], [0.5555555555555556, \"#d8576b\"], [0.6666666666666666, \"#ed7953\"], [0.7777777777777778, \"#fb9f3a\"], [0.8888888888888888, \"#fdca26\"], [1.0, \"#f0f921\"]], \"type\": \"histogram2d\"}], \"histogram2dcontour\": [{\"colorbar\": {\"outlinewidth\": 0, \"ticks\": \"\"}, \"colorscale\": [[0.0, \"#0d0887\"], [0.1111111111111111, \"#46039f\"], [0.2222222222222222, \"#7201a8\"], [0.3333333333333333, \"#9c179e\"], [0.4444444444444444, \"#bd3786\"], [0.5555555555555556, \"#d8576b\"], [0.6666666666666666, \"#ed7953\"], [0.7777777777777778, \"#fb9f3a\"], [0.8888888888888888, \"#fdca26\"], [1.0, \"#f0f921\"]], \"type\": \"histogram2dcontour\"}], \"mesh3d\": [{\"colorbar\": {\"outlinewidth\": 0, \"ticks\": \"\"}, \"type\": \"mesh3d\"}], \"parcoords\": [{\"line\": {\"colorbar\": {\"outlinewidth\": 0, \"ticks\": \"\"}}, \"type\": \"parcoords\"}], \"pie\": [{\"automargin\": true, \"type\": \"pie\"}], \"scatter\": [{\"marker\": {\"colorbar\": {\"outlinewidth\": 0, \"ticks\": \"\"}}, \"type\": \"scatter\"}], \"scatter3d\": [{\"line\": {\"colorbar\": {\"outlinewidth\": 0, \"ticks\": \"\"}}, \"marker\": {\"colorbar\": {\"outlinewidth\": 0, \"ticks\": \"\"}}, \"type\": \"scatter3d\"}], \"scattercarpet\": [{\"marker\": {\"colorbar\": {\"outlinewidth\": 0, \"ticks\": \"\"}}, \"type\": \"scattercarpet\"}], \"scattergeo\": [{\"marker\": {\"colorbar\": {\"outlinewidth\": 0, \"ticks\": \"\"}}, \"type\": \"scattergeo\"}], \"scattergl\": [{\"marker\": {\"colorbar\": {\"outlinewidth\": 0, \"ticks\": \"\"}}, \"type\": \"scattergl\"}], \"scattermapbox\": [{\"marker\": {\"colorbar\": {\"outlinewidth\": 0, \"ticks\": \"\"}}, \"type\": \"scattermapbox\"}], \"scatterpolar\": [{\"marker\": {\"colorbar\": {\"outlinewidth\": 0, \"ticks\": \"\"}}, \"type\": \"scatterpolar\"}], \"scatterpolargl\": [{\"marker\": {\"colorbar\": {\"outlinewidth\": 0, \"ticks\": \"\"}}, \"type\": \"scatterpolargl\"}], \"scatterternary\": [{\"marker\": {\"colorbar\": {\"outlinewidth\": 0, \"ticks\": \"\"}}, \"type\": \"scatterternary\"}], \"surface\": [{\"colorbar\": {\"outlinewidth\": 0, \"ticks\": \"\"}, \"colorscale\": [[0.0, \"#0d0887\"], [0.1111111111111111, \"#46039f\"], [0.2222222222222222, \"#7201a8\"], [0.3333333333333333, \"#9c179e\"], [0.4444444444444444, \"#bd3786\"], [0.5555555555555556, \"#d8576b\"], [0.6666666666666666, \"#ed7953\"], [0.7777777777777778, \"#fb9f3a\"], [0.8888888888888888, \"#fdca26\"], [1.0, \"#f0f921\"]], \"type\": \"surface\"}], \"table\": [{\"cells\": {\"fill\": {\"color\": \"#EBF0F8\"}, \"line\": {\"color\": \"white\"}}, \"header\": {\"fill\": {\"color\": \"#C8D4E3\"}, \"line\": {\"color\": \"white\"}}, \"type\": \"table\"}]}, \"layout\": {\"annotationdefaults\": {\"arrowcolor\": \"#2a3f5f\", \"arrowhead\": 0, \"arrowwidth\": 1}, \"coloraxis\": {\"colorbar\": {\"outlinewidth\": 0, \"ticks\": \"\"}}, \"colorscale\": {\"diverging\": [[0, \"#8e0152\"], [0.1, \"#c51b7d\"], [0.2, \"#de77ae\"], [0.3, \"#f1b6da\"], [0.4, \"#fde0ef\"], [0.5, \"#f7f7f7\"], [0.6, \"#e6f5d0\"], [0.7, \"#b8e186\"], [0.8, \"#7fbc41\"], [0.9, \"#4d9221\"], [1, \"#276419\"]], \"sequential\": [[0.0, \"#0d0887\"], [0.1111111111111111, \"#46039f\"], [0.2222222222222222, \"#7201a8\"], [0.3333333333333333, \"#9c179e\"], [0.4444444444444444, \"#bd3786\"], [0.5555555555555556, \"#d8576b\"], [0.6666666666666666, \"#ed7953\"], [0.7777777777777778, \"#fb9f3a\"], [0.8888888888888888, \"#fdca26\"], [1.0, \"#f0f921\"]], \"sequentialminus\": [[0.0, \"#0d0887\"], [0.1111111111111111, \"#46039f\"], [0.2222222222222222, \"#7201a8\"], [0.3333333333333333, \"#9c179e\"], [0.4444444444444444, \"#bd3786\"], [0.5555555555555556, \"#d8576b\"], [0.6666666666666666, \"#ed7953\"], [0.7777777777777778, \"#fb9f3a\"], [0.8888888888888888, \"#fdca26\"], [1.0, \"#f0f921\"]]}, \"colorway\": [\"#636efa\", \"#EF553B\", \"#00cc96\", \"#ab63fa\", \"#FFA15A\", \"#19d3f3\", \"#FF6692\", \"#B6E880\", \"#FF97FF\", \"#FECB52\"], \"font\": {\"color\": \"#2a3f5f\"}, \"geo\": {\"bgcolor\": \"white\", \"lakecolor\": \"white\", \"landcolor\": \"#E5ECF6\", \"showlakes\": true, \"showland\": true, \"subunitcolor\": \"white\"}, \"hoverlabel\": {\"align\": \"left\"}, \"hovermode\": \"closest\", \"mapbox\": {\"style\": \"light\"}, \"paper_bgcolor\": \"white\", \"plot_bgcolor\": \"#E5ECF6\", \"polar\": {\"angularaxis\": {\"gridcolor\": \"white\", \"linecolor\": \"white\", \"ticks\": \"\"}, \"bgcolor\": \"#E5ECF6\", \"radialaxis\": {\"gridcolor\": \"white\", \"linecolor\": \"white\", \"ticks\": \"\"}}, \"scene\": {\"xaxis\": {\"backgroundcolor\": \"#E5ECF6\", \"gridcolor\": \"white\", \"gridwidth\": 2, \"linecolor\": \"white\", \"showbackground\": true, \"ticks\": \"\", \"zerolinecolor\": \"white\"}, \"yaxis\": {\"backgroundcolor\": \"#E5ECF6\", \"gridcolor\": \"white\", \"gridwidth\": 2, \"linecolor\": \"white\", \"showbackground\": true, \"ticks\": \"\", \"zerolinecolor\": \"white\"}, \"zaxis\": {\"backgroundcolor\": \"#E5ECF6\", \"gridcolor\": \"white\", \"gridwidth\": 2, \"linecolor\": \"white\", \"showbackground\": true, \"ticks\": \"\", \"zerolinecolor\": \"white\"}}, \"shapedefaults\": {\"line\": {\"color\": \"#2a3f5f\"}}, \"ternary\": {\"aaxis\": {\"gridcolor\": \"white\", \"linecolor\": \"white\", \"ticks\": \"\"}, \"baxis\": {\"gridcolor\": \"white\", \"linecolor\": \"white\", \"ticks\": \"\"}, \"bgcolor\": \"#E5ECF6\", \"caxis\": {\"gridcolor\": \"white\", \"linecolor\": \"white\", \"ticks\": \"\"}}, \"title\": {\"x\": 0.05}, \"xaxis\": {\"automargin\": true, \"gridcolor\": \"white\", \"linecolor\": \"white\", \"ticks\": \"\", \"title\": {\"standoff\": 15}, \"zerolinecolor\": \"white\", \"zerolinewidth\": 2}, \"yaxis\": {\"automargin\": true, \"gridcolor\": \"white\", \"linecolor\": \"white\", \"ticks\": \"\", \"title\": {\"standoff\": 15}, \"zerolinecolor\": \"white\", \"zerolinewidth\": 2}}}, \"title\": {\"text\": \"Progess\\u00e3o de Ocorr\\u00eancias BR 262 - MG\"}, \"xaxis\": {\"title\": {\"text\": \"Ano\"}}, \"yaxis\": {\"title\": {\"text\": \"Quantidade\"}}},\n",
              "                        {\"responsive\": true}\n",
              "                    ).then(function(){\n",
              "                            \n",
              "var gd = document.getElementById('5d03ea50-e0da-4a5b-ab78-d9f9a2920ab2');\n",
              "var x = new MutationObserver(function (mutations, observer) {{\n",
              "        var display = window.getComputedStyle(gd).display;\n",
              "        if (!display || display === 'none') {{\n",
              "            console.log([gd, 'removed!']);\n",
              "            Plotly.purge(gd);\n",
              "            observer.disconnect();\n",
              "        }}\n",
              "}});\n",
              "\n",
              "// Listen for the removal of the full notebook cells\n",
              "var notebookContainer = gd.closest('#notebook-container');\n",
              "if (notebookContainer) {{\n",
              "    x.observe(notebookContainer, {childList: true});\n",
              "}}\n",
              "\n",
              "// Listen for the clearing of the current output cell\n",
              "var outputEl = gd.closest('.output');\n",
              "if (outputEl) {{\n",
              "    x.observe(outputEl, {childList: true});\n",
              "}}\n",
              "\n",
              "                        })\n",
              "                };\n",
              "                \n",
              "            </script>\n",
              "        </div>\n",
              "</body>\n",
              "</html>"
            ]
          },
          "metadata": {}
        }
      ]
    },
    {
      "cell_type": "markdown",
      "metadata": {
        "id": "q9i34huyg_yE"
      },
      "source": [
        "### **Questão 3 - Quais os tipos de veículos mais envolvidos?**"
      ]
    },
    {
      "cell_type": "markdown",
      "metadata": {
        "id": "_8A4Qud72F8G"
      },
      "source": [
        "#### Código"
      ]
    },
    {
      "cell_type": "code",
      "metadata": {
        "id": "xQ5LsUP7IP1r"
      },
      "source": [
        "df = apessoa_381_262['tipo_veiculo'].value_counts().rename_axis('Tipos Veiculo').reset_index(name='Quantidade')"
      ],
      "execution_count": null,
      "outputs": []
    },
    {
      "cell_type": "code",
      "metadata": {
        "id": "vYx0u6qiKi3f",
        "colab": {
          "base_uri": "https://localhost:8080/",
          "height": 855
        },
        "outputId": "3cf0eb8b-9000-4f7c-bbdb-3ccb5ab45922"
      },
      "source": [
        "df"
      ],
      "execution_count": null,
      "outputs": [
        {
          "output_type": "execute_result",
          "data": {
            "text/html": [
              "<div>\n",
              "<style scoped>\n",
              "    .dataframe tbody tr th:only-of-type {\n",
              "        vertical-align: middle;\n",
              "    }\n",
              "\n",
              "    .dataframe tbody tr th {\n",
              "        vertical-align: top;\n",
              "    }\n",
              "\n",
              "    .dataframe thead th {\n",
              "        text-align: right;\n",
              "    }\n",
              "</style>\n",
              "<table border=\"1\" class=\"dataframe\">\n",
              "  <thead>\n",
              "    <tr style=\"text-align: right;\">\n",
              "      <th></th>\n",
              "      <th>Tipos Veiculo</th>\n",
              "      <th>Quantidade</th>\n",
              "    </tr>\n",
              "  </thead>\n",
              "  <tbody>\n",
              "    <tr>\n",
              "      <th>0</th>\n",
              "      <td>Automóvel</td>\n",
              "      <td>25000</td>\n",
              "    </tr>\n",
              "    <tr>\n",
              "      <th>1</th>\n",
              "      <td>Caminhão-trator</td>\n",
              "      <td>5470</td>\n",
              "    </tr>\n",
              "    <tr>\n",
              "      <th>2</th>\n",
              "      <td>Motocicleta</td>\n",
              "      <td>5179</td>\n",
              "    </tr>\n",
              "    <tr>\n",
              "      <th>3</th>\n",
              "      <td>Caminhão</td>\n",
              "      <td>4612</td>\n",
              "    </tr>\n",
              "    <tr>\n",
              "      <th>4</th>\n",
              "      <td>Caminhonete</td>\n",
              "      <td>4299</td>\n",
              "    </tr>\n",
              "    <tr>\n",
              "      <th>5</th>\n",
              "      <td>Ônibus</td>\n",
              "      <td>2391</td>\n",
              "    </tr>\n",
              "    <tr>\n",
              "      <th>6</th>\n",
              "      <td>Camioneta</td>\n",
              "      <td>1322</td>\n",
              "    </tr>\n",
              "    <tr>\n",
              "      <th>7</th>\n",
              "      <td>Motocicletas</td>\n",
              "      <td>1278</td>\n",
              "    </tr>\n",
              "    <tr>\n",
              "      <th>8</th>\n",
              "      <td>Micro-ônibus</td>\n",
              "      <td>473</td>\n",
              "    </tr>\n",
              "    <tr>\n",
              "      <th>9</th>\n",
              "      <td>Utilitário</td>\n",
              "      <td>469</td>\n",
              "    </tr>\n",
              "    <tr>\n",
              "      <th>10</th>\n",
              "      <td>Bicicleta</td>\n",
              "      <td>287</td>\n",
              "    </tr>\n",
              "    <tr>\n",
              "      <th>11</th>\n",
              "      <td>Motoneta</td>\n",
              "      <td>170</td>\n",
              "    </tr>\n",
              "    <tr>\n",
              "      <th>12</th>\n",
              "      <td>Outros</td>\n",
              "      <td>91</td>\n",
              "    </tr>\n",
              "    <tr>\n",
              "      <th>13</th>\n",
              "      <td>Semireboque</td>\n",
              "      <td>81</td>\n",
              "    </tr>\n",
              "    <tr>\n",
              "      <th>14</th>\n",
              "      <td>Não identificado</td>\n",
              "      <td>41</td>\n",
              "    </tr>\n",
              "    <tr>\n",
              "      <th>15</th>\n",
              "      <td>Ciclomotor</td>\n",
              "      <td>24</td>\n",
              "    </tr>\n",
              "    <tr>\n",
              "      <th>16</th>\n",
              "      <td>Trator de rodas</td>\n",
              "      <td>11</td>\n",
              "    </tr>\n",
              "    <tr>\n",
              "      <th>17</th>\n",
              "      <td>Reboque</td>\n",
              "      <td>11</td>\n",
              "    </tr>\n",
              "    <tr>\n",
              "      <th>18</th>\n",
              "      <td>Triciclo</td>\n",
              "      <td>8</td>\n",
              "    </tr>\n",
              "    <tr>\n",
              "      <th>19</th>\n",
              "      <td>Não Informado</td>\n",
              "      <td>2</td>\n",
              "    </tr>\n",
              "    <tr>\n",
              "      <th>20</th>\n",
              "      <td>Carroça</td>\n",
              "      <td>2</td>\n",
              "    </tr>\n",
              "    <tr>\n",
              "      <th>21</th>\n",
              "      <td>Caminhão-Tanque</td>\n",
              "      <td>2</td>\n",
              "    </tr>\n",
              "    <tr>\n",
              "      <th>22</th>\n",
              "      <td>Carroça-charrete</td>\n",
              "      <td>2</td>\n",
              "    </tr>\n",
              "    <tr>\n",
              "      <th>23</th>\n",
              "      <td>Motor-Casa</td>\n",
              "      <td>1</td>\n",
              "    </tr>\n",
              "    <tr>\n",
              "      <th>24</th>\n",
              "      <td>Chassi-plataforma</td>\n",
              "      <td>1</td>\n",
              "    </tr>\n",
              "    <tr>\n",
              "      <th>25</th>\n",
              "      <td>Trator de esteira</td>\n",
              "      <td>1</td>\n",
              "    </tr>\n",
              "  </tbody>\n",
              "</table>\n",
              "</div>"
            ],
            "text/plain": [
              "        Tipos Veiculo  Quantidade\n",
              "0           Automóvel       25000\n",
              "1     Caminhão-trator        5470\n",
              "2         Motocicleta        5179\n",
              "3            Caminhão        4612\n",
              "4         Caminhonete        4299\n",
              "5              Ônibus        2391\n",
              "6           Camioneta        1322\n",
              "7        Motocicletas        1278\n",
              "8        Micro-ônibus         473\n",
              "9          Utilitário         469\n",
              "10          Bicicleta         287\n",
              "11           Motoneta         170\n",
              "12             Outros          91\n",
              "13        Semireboque          81\n",
              "14   Não identificado          41\n",
              "15         Ciclomotor          24\n",
              "16    Trator de rodas          11\n",
              "17            Reboque          11\n",
              "18           Triciclo           8\n",
              "19      Não Informado           2\n",
              "20            Carroça           2\n",
              "21    Caminhão-Tanque           2\n",
              "22   Carroça-charrete           2\n",
              "23         Motor-Casa           1\n",
              "24  Chassi-plataforma           1\n",
              "25  Trator de esteira           1"
            ]
          },
          "metadata": {},
          "execution_count": 36
        }
      ]
    },
    {
      "cell_type": "code",
      "metadata": {
        "id": "crNdYEBUSErh"
      },
      "source": [
        "fig = px.bar(df, x='Tipos Veiculo', y='Quantidade')"
      ],
      "execution_count": null,
      "outputs": []
    },
    {
      "cell_type": "code",
      "metadata": {
        "id": "t7N4A4UiT90J"
      },
      "source": [
        "fig.update_layout(title={'text': 'Tipos de Veículos mais envolvivos em ocorrências na BR 381 e BR 262 - MG'})"
      ],
      "execution_count": null,
      "outputs": []
    },
    {
      "cell_type": "markdown",
      "metadata": {
        "id": "krtaxeN_2M6p"
      },
      "source": [
        "#### Gráfico"
      ]
    },
    {
      "cell_type": "code",
      "metadata": {
        "colab": {
          "base_uri": "https://localhost:8080/",
          "height": 165
        },
        "id": "MLgr_rPI2PcM",
        "outputId": "4745a25f-09c0-4d30-a69f-089dd6c19234"
      },
      "source": [
        "fig.show()"
      ],
      "execution_count": null,
      "outputs": [
        {
          "output_type": "error",
          "ename": "NameError",
          "evalue": "ignored",
          "traceback": [
            "\u001b[0;31m---------------------------------------------------------------------------\u001b[0m",
            "\u001b[0;31mNameError\u001b[0m                                 Traceback (most recent call last)",
            "\u001b[0;32m<ipython-input-1-6ebedab27258>\u001b[0m in \u001b[0;36m<module>\u001b[0;34m()\u001b[0m\n\u001b[0;32m----> 1\u001b[0;31m \u001b[0mfig\u001b[0m\u001b[0;34m.\u001b[0m\u001b[0mshow\u001b[0m\u001b[0;34m(\u001b[0m\u001b[0;34m)\u001b[0m\u001b[0;34m\u001b[0m\u001b[0;34m\u001b[0m\u001b[0m\n\u001b[0m",
            "\u001b[0;31mNameError\u001b[0m: name 'fig' is not defined"
          ]
        }
      ]
    },
    {
      "cell_type": "markdown",
      "metadata": {
        "id": "GFRFB2cUhNvi"
      },
      "source": [
        "### **Questão 4 - Qual a extensão das lesões (estado físico)?**"
      ]
    },
    {
      "cell_type": "markdown",
      "metadata": {
        "id": "9bBWlPvGUmFw"
      },
      "source": [
        "#### Código"
      ]
    },
    {
      "cell_type": "code",
      "metadata": {
        "id": "RK6f22LZUqff"
      },
      "source": [
        "df = apessoa_381_262['estado_fisico'].value_counts().rename_axis('Estado Físico').reset_index(name='Quantidade')\n",
        "fig = px.bar(df, x='Estado Físico', y='Quantidade')"
      ],
      "execution_count": null,
      "outputs": []
    },
    {
      "cell_type": "code",
      "metadata": {
        "colab": {
          "base_uri": "https://localhost:8080/",
          "height": 542
        },
        "id": "bUyf1PXGVUaq",
        "outputId": "e2e8a251-dfa9-4121-a68b-24b550e5b262"
      },
      "source": [
        "fig.update_layout(title={'text': 'Extensão das lesões BR 381 e BR 262 - MG'})"
      ],
      "execution_count": null,
      "outputs": [
        {
          "output_type": "display_data",
          "data": {
            "text/html": [
              "<html>\n",
              "<head><meta charset=\"utf-8\" /></head>\n",
              "<body>\n",
              "    <div>\n",
              "            <script src=\"https://cdnjs.cloudflare.com/ajax/libs/mathjax/2.7.5/MathJax.js?config=TeX-AMS-MML_SVG\"></script><script type=\"text/javascript\">if (window.MathJax) {MathJax.Hub.Config({SVG: {font: \"STIX-Web\"}});}</script>\n",
              "                <script type=\"text/javascript\">window.PlotlyConfig = {MathJaxConfig: 'local'};</script>\n",
              "        <script src=\"https://cdn.plot.ly/plotly-latest.min.js\"></script>    \n",
              "            <div id=\"49a89f6e-abd1-4248-b47b-b17142b3f78c\" class=\"plotly-graph-div\" style=\"height:525px; width:100%;\"></div>\n",
              "            <script type=\"text/javascript\">\n",
              "                \n",
              "                    window.PLOTLYENV=window.PLOTLYENV || {};\n",
              "                    \n",
              "                if (document.getElementById(\"49a89f6e-abd1-4248-b47b-b17142b3f78c\")) {\n",
              "                    Plotly.newPlot(\n",
              "                        '49a89f6e-abd1-4248-b47b-b17142b3f78c',\n",
              "                        [{\"alignmentgroup\": \"True\", \"hoverlabel\": {\"namelength\": 0}, \"hovertemplate\": \"Estado F\\u00edsico=%{x}<br>Quantidade=%{y}\", \"legendgroup\": \"\", \"marker\": {\"color\": \"#636efa\"}, \"name\": \"\", \"offsetgroup\": \"\", \"orientation\": \"v\", \"showlegend\": false, \"textposition\": \"auto\", \"type\": \"bar\", \"x\": [\"Ileso\", \"Les\\u00f5es Leves\", \"Ferido Leve\", \"Les\\u00f5es Graves\", \"N\\u00e3o Informado\", \"Ferido Grave\", \"\\u00d3bito\", \"Ignorado\", \"Morto\"], \"xaxis\": \"x\", \"y\": [23050, 15607, 4478, 3560, 1784, 1162, 1071, 388, 294], \"yaxis\": \"y\"}],\n",
              "                        {\"barmode\": \"relative\", \"legend\": {\"tracegroupgap\": 0}, \"margin\": {\"t\": 60}, \"template\": {\"data\": {\"bar\": [{\"error_x\": {\"color\": \"#2a3f5f\"}, \"error_y\": {\"color\": \"#2a3f5f\"}, \"marker\": {\"line\": {\"color\": \"#E5ECF6\", \"width\": 0.5}}, \"type\": \"bar\"}], \"barpolar\": [{\"marker\": {\"line\": {\"color\": \"#E5ECF6\", \"width\": 0.5}}, \"type\": \"barpolar\"}], \"carpet\": [{\"aaxis\": {\"endlinecolor\": \"#2a3f5f\", \"gridcolor\": \"white\", \"linecolor\": \"white\", \"minorgridcolor\": \"white\", \"startlinecolor\": \"#2a3f5f\"}, \"baxis\": {\"endlinecolor\": \"#2a3f5f\", \"gridcolor\": \"white\", \"linecolor\": \"white\", \"minorgridcolor\": \"white\", \"startlinecolor\": \"#2a3f5f\"}, \"type\": \"carpet\"}], \"choropleth\": [{\"colorbar\": {\"outlinewidth\": 0, \"ticks\": \"\"}, \"type\": \"choropleth\"}], \"contour\": [{\"colorbar\": {\"outlinewidth\": 0, \"ticks\": \"\"}, \"colorscale\": [[0.0, \"#0d0887\"], [0.1111111111111111, \"#46039f\"], [0.2222222222222222, \"#7201a8\"], [0.3333333333333333, \"#9c179e\"], [0.4444444444444444, \"#bd3786\"], [0.5555555555555556, \"#d8576b\"], [0.6666666666666666, \"#ed7953\"], [0.7777777777777778, \"#fb9f3a\"], [0.8888888888888888, \"#fdca26\"], [1.0, \"#f0f921\"]], \"type\": \"contour\"}], \"contourcarpet\": [{\"colorbar\": {\"outlinewidth\": 0, \"ticks\": \"\"}, \"type\": \"contourcarpet\"}], \"heatmap\": [{\"colorbar\": {\"outlinewidth\": 0, \"ticks\": \"\"}, \"colorscale\": [[0.0, \"#0d0887\"], [0.1111111111111111, \"#46039f\"], [0.2222222222222222, \"#7201a8\"], [0.3333333333333333, \"#9c179e\"], [0.4444444444444444, \"#bd3786\"], [0.5555555555555556, \"#d8576b\"], [0.6666666666666666, \"#ed7953\"], [0.7777777777777778, \"#fb9f3a\"], [0.8888888888888888, \"#fdca26\"], [1.0, \"#f0f921\"]], \"type\": \"heatmap\"}], \"heatmapgl\": [{\"colorbar\": {\"outlinewidth\": 0, \"ticks\": \"\"}, \"colorscale\": [[0.0, \"#0d0887\"], [0.1111111111111111, \"#46039f\"], [0.2222222222222222, \"#7201a8\"], [0.3333333333333333, \"#9c179e\"], [0.4444444444444444, \"#bd3786\"], [0.5555555555555556, \"#d8576b\"], [0.6666666666666666, \"#ed7953\"], [0.7777777777777778, \"#fb9f3a\"], [0.8888888888888888, \"#fdca26\"], [1.0, \"#f0f921\"]], \"type\": \"heatmapgl\"}], \"histogram\": [{\"marker\": {\"colorbar\": {\"outlinewidth\": 0, \"ticks\": \"\"}}, \"type\": \"histogram\"}], \"histogram2d\": [{\"colorbar\": {\"outlinewidth\": 0, \"ticks\": \"\"}, \"colorscale\": [[0.0, \"#0d0887\"], [0.1111111111111111, \"#46039f\"], [0.2222222222222222, \"#7201a8\"], [0.3333333333333333, \"#9c179e\"], [0.4444444444444444, \"#bd3786\"], [0.5555555555555556, \"#d8576b\"], [0.6666666666666666, \"#ed7953\"], [0.7777777777777778, \"#fb9f3a\"], [0.8888888888888888, \"#fdca26\"], [1.0, \"#f0f921\"]], \"type\": \"histogram2d\"}], \"histogram2dcontour\": [{\"colorbar\": {\"outlinewidth\": 0, \"ticks\": \"\"}, \"colorscale\": [[0.0, \"#0d0887\"], [0.1111111111111111, \"#46039f\"], [0.2222222222222222, \"#7201a8\"], [0.3333333333333333, \"#9c179e\"], [0.4444444444444444, \"#bd3786\"], [0.5555555555555556, \"#d8576b\"], [0.6666666666666666, \"#ed7953\"], [0.7777777777777778, \"#fb9f3a\"], [0.8888888888888888, \"#fdca26\"], [1.0, \"#f0f921\"]], \"type\": \"histogram2dcontour\"}], \"mesh3d\": [{\"colorbar\": {\"outlinewidth\": 0, \"ticks\": \"\"}, \"type\": \"mesh3d\"}], \"parcoords\": [{\"line\": {\"colorbar\": {\"outlinewidth\": 0, \"ticks\": \"\"}}, \"type\": \"parcoords\"}], \"pie\": [{\"automargin\": true, \"type\": \"pie\"}], \"scatter\": [{\"marker\": {\"colorbar\": {\"outlinewidth\": 0, \"ticks\": \"\"}}, \"type\": \"scatter\"}], \"scatter3d\": [{\"line\": {\"colorbar\": {\"outlinewidth\": 0, \"ticks\": \"\"}}, \"marker\": {\"colorbar\": {\"outlinewidth\": 0, \"ticks\": \"\"}}, \"type\": \"scatter3d\"}], \"scattercarpet\": [{\"marker\": {\"colorbar\": {\"outlinewidth\": 0, \"ticks\": \"\"}}, \"type\": \"scattercarpet\"}], \"scattergeo\": [{\"marker\": {\"colorbar\": {\"outlinewidth\": 0, \"ticks\": \"\"}}, \"type\": \"scattergeo\"}], \"scattergl\": [{\"marker\": {\"colorbar\": {\"outlinewidth\": 0, \"ticks\": \"\"}}, \"type\": \"scattergl\"}], \"scattermapbox\": [{\"marker\": {\"colorbar\": {\"outlinewidth\": 0, \"ticks\": \"\"}}, \"type\": \"scattermapbox\"}], \"scatterpolar\": [{\"marker\": {\"colorbar\": {\"outlinewidth\": 0, \"ticks\": \"\"}}, \"type\": \"scatterpolar\"}], \"scatterpolargl\": [{\"marker\": {\"colorbar\": {\"outlinewidth\": 0, \"ticks\": \"\"}}, \"type\": \"scatterpolargl\"}], \"scatterternary\": [{\"marker\": {\"colorbar\": {\"outlinewidth\": 0, \"ticks\": \"\"}}, \"type\": \"scatterternary\"}], \"surface\": [{\"colorbar\": {\"outlinewidth\": 0, \"ticks\": \"\"}, \"colorscale\": [[0.0, \"#0d0887\"], [0.1111111111111111, \"#46039f\"], [0.2222222222222222, \"#7201a8\"], [0.3333333333333333, \"#9c179e\"], [0.4444444444444444, \"#bd3786\"], [0.5555555555555556, \"#d8576b\"], [0.6666666666666666, \"#ed7953\"], [0.7777777777777778, \"#fb9f3a\"], [0.8888888888888888, \"#fdca26\"], [1.0, \"#f0f921\"]], \"type\": \"surface\"}], \"table\": [{\"cells\": {\"fill\": {\"color\": \"#EBF0F8\"}, \"line\": {\"color\": \"white\"}}, \"header\": {\"fill\": {\"color\": \"#C8D4E3\"}, \"line\": {\"color\": \"white\"}}, \"type\": \"table\"}]}, \"layout\": {\"annotationdefaults\": {\"arrowcolor\": \"#2a3f5f\", \"arrowhead\": 0, \"arrowwidth\": 1}, \"coloraxis\": {\"colorbar\": {\"outlinewidth\": 0, \"ticks\": \"\"}}, \"colorscale\": {\"diverging\": [[0, \"#8e0152\"], [0.1, \"#c51b7d\"], [0.2, \"#de77ae\"], [0.3, \"#f1b6da\"], [0.4, \"#fde0ef\"], [0.5, \"#f7f7f7\"], [0.6, \"#e6f5d0\"], [0.7, \"#b8e186\"], [0.8, \"#7fbc41\"], [0.9, \"#4d9221\"], [1, \"#276419\"]], \"sequential\": [[0.0, \"#0d0887\"], [0.1111111111111111, \"#46039f\"], [0.2222222222222222, \"#7201a8\"], [0.3333333333333333, \"#9c179e\"], [0.4444444444444444, \"#bd3786\"], [0.5555555555555556, \"#d8576b\"], [0.6666666666666666, \"#ed7953\"], [0.7777777777777778, \"#fb9f3a\"], [0.8888888888888888, \"#fdca26\"], [1.0, \"#f0f921\"]], \"sequentialminus\": [[0.0, \"#0d0887\"], [0.1111111111111111, \"#46039f\"], [0.2222222222222222, \"#7201a8\"], [0.3333333333333333, \"#9c179e\"], [0.4444444444444444, \"#bd3786\"], [0.5555555555555556, \"#d8576b\"], [0.6666666666666666, \"#ed7953\"], [0.7777777777777778, \"#fb9f3a\"], [0.8888888888888888, \"#fdca26\"], [1.0, \"#f0f921\"]]}, \"colorway\": [\"#636efa\", \"#EF553B\", \"#00cc96\", \"#ab63fa\", \"#FFA15A\", \"#19d3f3\", \"#FF6692\", \"#B6E880\", \"#FF97FF\", \"#FECB52\"], \"font\": {\"color\": \"#2a3f5f\"}, \"geo\": {\"bgcolor\": \"white\", \"lakecolor\": \"white\", \"landcolor\": \"#E5ECF6\", \"showlakes\": true, \"showland\": true, \"subunitcolor\": \"white\"}, \"hoverlabel\": {\"align\": \"left\"}, \"hovermode\": \"closest\", \"mapbox\": {\"style\": \"light\"}, \"paper_bgcolor\": \"white\", \"plot_bgcolor\": \"#E5ECF6\", \"polar\": {\"angularaxis\": {\"gridcolor\": \"white\", \"linecolor\": \"white\", \"ticks\": \"\"}, \"bgcolor\": \"#E5ECF6\", \"radialaxis\": {\"gridcolor\": \"white\", \"linecolor\": \"white\", \"ticks\": \"\"}}, \"scene\": {\"xaxis\": {\"backgroundcolor\": \"#E5ECF6\", \"gridcolor\": \"white\", \"gridwidth\": 2, \"linecolor\": \"white\", \"showbackground\": true, \"ticks\": \"\", \"zerolinecolor\": \"white\"}, \"yaxis\": {\"backgroundcolor\": \"#E5ECF6\", \"gridcolor\": \"white\", \"gridwidth\": 2, \"linecolor\": \"white\", \"showbackground\": true, \"ticks\": \"\", \"zerolinecolor\": \"white\"}, \"zaxis\": {\"backgroundcolor\": \"#E5ECF6\", \"gridcolor\": \"white\", \"gridwidth\": 2, \"linecolor\": \"white\", \"showbackground\": true, \"ticks\": \"\", \"zerolinecolor\": \"white\"}}, \"shapedefaults\": {\"line\": {\"color\": \"#2a3f5f\"}}, \"ternary\": {\"aaxis\": {\"gridcolor\": \"white\", \"linecolor\": \"white\", \"ticks\": \"\"}, \"baxis\": {\"gridcolor\": \"white\", \"linecolor\": \"white\", \"ticks\": \"\"}, \"bgcolor\": \"#E5ECF6\", \"caxis\": {\"gridcolor\": \"white\", \"linecolor\": \"white\", \"ticks\": \"\"}}, \"title\": {\"x\": 0.05}, \"xaxis\": {\"automargin\": true, \"gridcolor\": \"white\", \"linecolor\": \"white\", \"ticks\": \"\", \"title\": {\"standoff\": 15}, \"zerolinecolor\": \"white\", \"zerolinewidth\": 2}, \"yaxis\": {\"automargin\": true, \"gridcolor\": \"white\", \"linecolor\": \"white\", \"ticks\": \"\", \"title\": {\"standoff\": 15}, \"zerolinecolor\": \"white\", \"zerolinewidth\": 2}}}, \"title\": {\"text\": \"Extens\\u00e3o das les\\u00f5es BR 381 e BR 262 - MG\"}, \"xaxis\": {\"anchor\": \"y\", \"domain\": [0.0, 1.0], \"title\": {\"text\": \"Estado F\\u00edsico\"}}, \"yaxis\": {\"anchor\": \"x\", \"domain\": [0.0, 1.0], \"title\": {\"text\": \"Quantidade\"}}},\n",
              "                        {\"responsive\": true}\n",
              "                    ).then(function(){\n",
              "                            \n",
              "var gd = document.getElementById('49a89f6e-abd1-4248-b47b-b17142b3f78c');\n",
              "var x = new MutationObserver(function (mutations, observer) {{\n",
              "        var display = window.getComputedStyle(gd).display;\n",
              "        if (!display || display === 'none') {{\n",
              "            console.log([gd, 'removed!']);\n",
              "            Plotly.purge(gd);\n",
              "            observer.disconnect();\n",
              "        }}\n",
              "}});\n",
              "\n",
              "// Listen for the removal of the full notebook cells\n",
              "var notebookContainer = gd.closest('#notebook-container');\n",
              "if (notebookContainer) {{\n",
              "    x.observe(notebookContainer, {childList: true});\n",
              "}}\n",
              "\n",
              "// Listen for the clearing of the current output cell\n",
              "var outputEl = gd.closest('.output');\n",
              "if (outputEl) {{\n",
              "    x.observe(outputEl, {childList: true});\n",
              "}}\n",
              "\n",
              "                        })\n",
              "                };\n",
              "                \n",
              "            </script>\n",
              "        </div>\n",
              "</body>\n",
              "</html>"
            ]
          },
          "metadata": {}
        }
      ]
    },
    {
      "cell_type": "markdown",
      "metadata": {
        "id": "Bb_yOmMZUoLM"
      },
      "source": [
        "#### Gráfico"
      ]
    },
    {
      "cell_type": "code",
      "metadata": {
        "colab": {
          "base_uri": "https://localhost:8080/",
          "height": 542
        },
        "id": "4miL1BDCV96o",
        "outputId": "6094f09b-b9ba-4bd7-fd5a-36110c1e83cf"
      },
      "source": [
        "fig.show()"
      ],
      "execution_count": null,
      "outputs": [
        {
          "output_type": "display_data",
          "data": {
            "text/html": [
              "<html>\n",
              "<head><meta charset=\"utf-8\" /></head>\n",
              "<body>\n",
              "    <div>\n",
              "            <script src=\"https://cdnjs.cloudflare.com/ajax/libs/mathjax/2.7.5/MathJax.js?config=TeX-AMS-MML_SVG\"></script><script type=\"text/javascript\">if (window.MathJax) {MathJax.Hub.Config({SVG: {font: \"STIX-Web\"}});}</script>\n",
              "                <script type=\"text/javascript\">window.PlotlyConfig = {MathJaxConfig: 'local'};</script>\n",
              "        <script src=\"https://cdn.plot.ly/plotly-latest.min.js\"></script>    \n",
              "            <div id=\"2a544361-ba33-4a37-80fd-b15de427fddd\" class=\"plotly-graph-div\" style=\"height:525px; width:100%;\"></div>\n",
              "            <script type=\"text/javascript\">\n",
              "                \n",
              "                    window.PLOTLYENV=window.PLOTLYENV || {};\n",
              "                    \n",
              "                if (document.getElementById(\"2a544361-ba33-4a37-80fd-b15de427fddd\")) {\n",
              "                    Plotly.newPlot(\n",
              "                        '2a544361-ba33-4a37-80fd-b15de427fddd',\n",
              "                        [{\"alignmentgroup\": \"True\", \"hoverlabel\": {\"namelength\": 0}, \"hovertemplate\": \"Estado F\\u00edsico=%{x}<br>Quantidade=%{y}\", \"legendgroup\": \"\", \"marker\": {\"color\": \"#636efa\"}, \"name\": \"\", \"offsetgroup\": \"\", \"orientation\": \"v\", \"showlegend\": false, \"textposition\": \"auto\", \"type\": \"bar\", \"x\": [\"Ileso\", \"Les\\u00f5es Leves\", \"Ferido Leve\", \"Les\\u00f5es Graves\", \"N\\u00e3o Informado\", \"Ferido Grave\", \"\\u00d3bito\", \"Ignorado\", \"Morto\"], \"xaxis\": \"x\", \"y\": [23050, 15607, 4478, 3560, 1784, 1162, 1071, 388, 294], \"yaxis\": \"y\"}],\n",
              "                        {\"barmode\": \"relative\", \"legend\": {\"tracegroupgap\": 0}, \"margin\": {\"t\": 60}, \"template\": {\"data\": {\"bar\": [{\"error_x\": {\"color\": \"#2a3f5f\"}, \"error_y\": {\"color\": \"#2a3f5f\"}, \"marker\": {\"line\": {\"color\": \"#E5ECF6\", \"width\": 0.5}}, \"type\": \"bar\"}], \"barpolar\": [{\"marker\": {\"line\": {\"color\": \"#E5ECF6\", \"width\": 0.5}}, \"type\": \"barpolar\"}], \"carpet\": [{\"aaxis\": {\"endlinecolor\": \"#2a3f5f\", \"gridcolor\": \"white\", \"linecolor\": \"white\", \"minorgridcolor\": \"white\", \"startlinecolor\": \"#2a3f5f\"}, \"baxis\": {\"endlinecolor\": \"#2a3f5f\", \"gridcolor\": \"white\", \"linecolor\": \"white\", \"minorgridcolor\": \"white\", \"startlinecolor\": \"#2a3f5f\"}, \"type\": \"carpet\"}], \"choropleth\": [{\"colorbar\": {\"outlinewidth\": 0, \"ticks\": \"\"}, \"type\": \"choropleth\"}], \"contour\": [{\"colorbar\": {\"outlinewidth\": 0, \"ticks\": \"\"}, \"colorscale\": [[0.0, \"#0d0887\"], [0.1111111111111111, \"#46039f\"], [0.2222222222222222, \"#7201a8\"], [0.3333333333333333, \"#9c179e\"], [0.4444444444444444, \"#bd3786\"], [0.5555555555555556, \"#d8576b\"], [0.6666666666666666, \"#ed7953\"], [0.7777777777777778, \"#fb9f3a\"], [0.8888888888888888, \"#fdca26\"], [1.0, \"#f0f921\"]], \"type\": \"contour\"}], \"contourcarpet\": [{\"colorbar\": {\"outlinewidth\": 0, \"ticks\": \"\"}, \"type\": \"contourcarpet\"}], \"heatmap\": [{\"colorbar\": {\"outlinewidth\": 0, \"ticks\": \"\"}, \"colorscale\": [[0.0, \"#0d0887\"], [0.1111111111111111, \"#46039f\"], [0.2222222222222222, \"#7201a8\"], [0.3333333333333333, \"#9c179e\"], [0.4444444444444444, \"#bd3786\"], [0.5555555555555556, \"#d8576b\"], [0.6666666666666666, \"#ed7953\"], [0.7777777777777778, \"#fb9f3a\"], [0.8888888888888888, \"#fdca26\"], [1.0, \"#f0f921\"]], \"type\": \"heatmap\"}], \"heatmapgl\": [{\"colorbar\": {\"outlinewidth\": 0, \"ticks\": \"\"}, \"colorscale\": [[0.0, \"#0d0887\"], [0.1111111111111111, \"#46039f\"], [0.2222222222222222, \"#7201a8\"], [0.3333333333333333, \"#9c179e\"], [0.4444444444444444, \"#bd3786\"], [0.5555555555555556, \"#d8576b\"], [0.6666666666666666, \"#ed7953\"], [0.7777777777777778, \"#fb9f3a\"], [0.8888888888888888, \"#fdca26\"], [1.0, \"#f0f921\"]], \"type\": \"heatmapgl\"}], \"histogram\": [{\"marker\": {\"colorbar\": {\"outlinewidth\": 0, \"ticks\": \"\"}}, \"type\": \"histogram\"}], \"histogram2d\": [{\"colorbar\": {\"outlinewidth\": 0, \"ticks\": \"\"}, \"colorscale\": [[0.0, \"#0d0887\"], [0.1111111111111111, \"#46039f\"], [0.2222222222222222, \"#7201a8\"], [0.3333333333333333, \"#9c179e\"], [0.4444444444444444, \"#bd3786\"], [0.5555555555555556, \"#d8576b\"], [0.6666666666666666, \"#ed7953\"], [0.7777777777777778, \"#fb9f3a\"], [0.8888888888888888, \"#fdca26\"], [1.0, \"#f0f921\"]], \"type\": \"histogram2d\"}], \"histogram2dcontour\": [{\"colorbar\": {\"outlinewidth\": 0, \"ticks\": \"\"}, \"colorscale\": [[0.0, \"#0d0887\"], [0.1111111111111111, \"#46039f\"], [0.2222222222222222, \"#7201a8\"], [0.3333333333333333, \"#9c179e\"], [0.4444444444444444, \"#bd3786\"], [0.5555555555555556, \"#d8576b\"], [0.6666666666666666, \"#ed7953\"], [0.7777777777777778, \"#fb9f3a\"], [0.8888888888888888, \"#fdca26\"], [1.0, \"#f0f921\"]], \"type\": \"histogram2dcontour\"}], \"mesh3d\": [{\"colorbar\": {\"outlinewidth\": 0, \"ticks\": \"\"}, \"type\": \"mesh3d\"}], \"parcoords\": [{\"line\": {\"colorbar\": {\"outlinewidth\": 0, \"ticks\": \"\"}}, \"type\": \"parcoords\"}], \"pie\": [{\"automargin\": true, \"type\": \"pie\"}], \"scatter\": [{\"marker\": {\"colorbar\": {\"outlinewidth\": 0, \"ticks\": \"\"}}, \"type\": \"scatter\"}], \"scatter3d\": [{\"line\": {\"colorbar\": {\"outlinewidth\": 0, \"ticks\": \"\"}}, \"marker\": {\"colorbar\": {\"outlinewidth\": 0, \"ticks\": \"\"}}, \"type\": \"scatter3d\"}], \"scattercarpet\": [{\"marker\": {\"colorbar\": {\"outlinewidth\": 0, \"ticks\": \"\"}}, \"type\": \"scattercarpet\"}], \"scattergeo\": [{\"marker\": {\"colorbar\": {\"outlinewidth\": 0, \"ticks\": \"\"}}, \"type\": \"scattergeo\"}], \"scattergl\": [{\"marker\": {\"colorbar\": {\"outlinewidth\": 0, \"ticks\": \"\"}}, \"type\": \"scattergl\"}], \"scattermapbox\": [{\"marker\": {\"colorbar\": {\"outlinewidth\": 0, \"ticks\": \"\"}}, \"type\": \"scattermapbox\"}], \"scatterpolar\": [{\"marker\": {\"colorbar\": {\"outlinewidth\": 0, \"ticks\": \"\"}}, \"type\": \"scatterpolar\"}], \"scatterpolargl\": [{\"marker\": {\"colorbar\": {\"outlinewidth\": 0, \"ticks\": \"\"}}, \"type\": \"scatterpolargl\"}], \"scatterternary\": [{\"marker\": {\"colorbar\": {\"outlinewidth\": 0, \"ticks\": \"\"}}, \"type\": \"scatterternary\"}], \"surface\": [{\"colorbar\": {\"outlinewidth\": 0, \"ticks\": \"\"}, \"colorscale\": [[0.0, \"#0d0887\"], [0.1111111111111111, \"#46039f\"], [0.2222222222222222, \"#7201a8\"], [0.3333333333333333, \"#9c179e\"], [0.4444444444444444, \"#bd3786\"], [0.5555555555555556, \"#d8576b\"], [0.6666666666666666, \"#ed7953\"], [0.7777777777777778, \"#fb9f3a\"], [0.8888888888888888, \"#fdca26\"], [1.0, \"#f0f921\"]], \"type\": \"surface\"}], \"table\": [{\"cells\": {\"fill\": {\"color\": \"#EBF0F8\"}, \"line\": {\"color\": \"white\"}}, \"header\": {\"fill\": {\"color\": \"#C8D4E3\"}, \"line\": {\"color\": \"white\"}}, \"type\": \"table\"}]}, \"layout\": {\"annotationdefaults\": {\"arrowcolor\": \"#2a3f5f\", \"arrowhead\": 0, \"arrowwidth\": 1}, \"coloraxis\": {\"colorbar\": {\"outlinewidth\": 0, \"ticks\": \"\"}}, \"colorscale\": {\"diverging\": [[0, \"#8e0152\"], [0.1, \"#c51b7d\"], [0.2, \"#de77ae\"], [0.3, \"#f1b6da\"], [0.4, \"#fde0ef\"], [0.5, \"#f7f7f7\"], [0.6, \"#e6f5d0\"], [0.7, \"#b8e186\"], [0.8, \"#7fbc41\"], [0.9, \"#4d9221\"], [1, \"#276419\"]], \"sequential\": [[0.0, \"#0d0887\"], [0.1111111111111111, \"#46039f\"], [0.2222222222222222, \"#7201a8\"], [0.3333333333333333, \"#9c179e\"], [0.4444444444444444, \"#bd3786\"], [0.5555555555555556, \"#d8576b\"], [0.6666666666666666, \"#ed7953\"], [0.7777777777777778, \"#fb9f3a\"], [0.8888888888888888, \"#fdca26\"], [1.0, \"#f0f921\"]], \"sequentialminus\": [[0.0, \"#0d0887\"], [0.1111111111111111, \"#46039f\"], [0.2222222222222222, \"#7201a8\"], [0.3333333333333333, \"#9c179e\"], [0.4444444444444444, \"#bd3786\"], [0.5555555555555556, \"#d8576b\"], [0.6666666666666666, \"#ed7953\"], [0.7777777777777778, \"#fb9f3a\"], [0.8888888888888888, \"#fdca26\"], [1.0, \"#f0f921\"]]}, \"colorway\": [\"#636efa\", \"#EF553B\", \"#00cc96\", \"#ab63fa\", \"#FFA15A\", \"#19d3f3\", \"#FF6692\", \"#B6E880\", \"#FF97FF\", \"#FECB52\"], \"font\": {\"color\": \"#2a3f5f\"}, \"geo\": {\"bgcolor\": \"white\", \"lakecolor\": \"white\", \"landcolor\": \"#E5ECF6\", \"showlakes\": true, \"showland\": true, \"subunitcolor\": \"white\"}, \"hoverlabel\": {\"align\": \"left\"}, \"hovermode\": \"closest\", \"mapbox\": {\"style\": \"light\"}, \"paper_bgcolor\": \"white\", \"plot_bgcolor\": \"#E5ECF6\", \"polar\": {\"angularaxis\": {\"gridcolor\": \"white\", \"linecolor\": \"white\", \"ticks\": \"\"}, \"bgcolor\": \"#E5ECF6\", \"radialaxis\": {\"gridcolor\": \"white\", \"linecolor\": \"white\", \"ticks\": \"\"}}, \"scene\": {\"xaxis\": {\"backgroundcolor\": \"#E5ECF6\", \"gridcolor\": \"white\", \"gridwidth\": 2, \"linecolor\": \"white\", \"showbackground\": true, \"ticks\": \"\", \"zerolinecolor\": \"white\"}, \"yaxis\": {\"backgroundcolor\": \"#E5ECF6\", \"gridcolor\": \"white\", \"gridwidth\": 2, \"linecolor\": \"white\", \"showbackground\": true, \"ticks\": \"\", \"zerolinecolor\": \"white\"}, \"zaxis\": {\"backgroundcolor\": \"#E5ECF6\", \"gridcolor\": \"white\", \"gridwidth\": 2, \"linecolor\": \"white\", \"showbackground\": true, \"ticks\": \"\", \"zerolinecolor\": \"white\"}}, \"shapedefaults\": {\"line\": {\"color\": \"#2a3f5f\"}}, \"ternary\": {\"aaxis\": {\"gridcolor\": \"white\", \"linecolor\": \"white\", \"ticks\": \"\"}, \"baxis\": {\"gridcolor\": \"white\", \"linecolor\": \"white\", \"ticks\": \"\"}, \"bgcolor\": \"#E5ECF6\", \"caxis\": {\"gridcolor\": \"white\", \"linecolor\": \"white\", \"ticks\": \"\"}}, \"title\": {\"x\": 0.05}, \"xaxis\": {\"automargin\": true, \"gridcolor\": \"white\", \"linecolor\": \"white\", \"ticks\": \"\", \"title\": {\"standoff\": 15}, \"zerolinecolor\": \"white\", \"zerolinewidth\": 2}, \"yaxis\": {\"automargin\": true, \"gridcolor\": \"white\", \"linecolor\": \"white\", \"ticks\": \"\", \"title\": {\"standoff\": 15}, \"zerolinecolor\": \"white\", \"zerolinewidth\": 2}}}, \"title\": {\"text\": \"Extens\\u00e3o das les\\u00f5es BR 381 e BR 262 - MG\"}, \"xaxis\": {\"anchor\": \"y\", \"domain\": [0.0, 1.0], \"title\": {\"text\": \"Estado F\\u00edsico\"}}, \"yaxis\": {\"anchor\": \"x\", \"domain\": [0.0, 1.0], \"title\": {\"text\": \"Quantidade\"}}},\n",
              "                        {\"responsive\": true}\n",
              "                    ).then(function(){\n",
              "                            \n",
              "var gd = document.getElementById('2a544361-ba33-4a37-80fd-b15de427fddd');\n",
              "var x = new MutationObserver(function (mutations, observer) {{\n",
              "        var display = window.getComputedStyle(gd).display;\n",
              "        if (!display || display === 'none') {{\n",
              "            console.log([gd, 'removed!']);\n",
              "            Plotly.purge(gd);\n",
              "            observer.disconnect();\n",
              "        }}\n",
              "}});\n",
              "\n",
              "// Listen for the removal of the full notebook cells\n",
              "var notebookContainer = gd.closest('#notebook-container');\n",
              "if (notebookContainer) {{\n",
              "    x.observe(notebookContainer, {childList: true});\n",
              "}}\n",
              "\n",
              "// Listen for the clearing of the current output cell\n",
              "var outputEl = gd.closest('.output');\n",
              "if (outputEl) {{\n",
              "    x.observe(outputEl, {childList: true});\n",
              "}}\n",
              "\n",
              "                        })\n",
              "                };\n",
              "                \n",
              "            </script>\n",
              "        </div>\n",
              "</body>\n",
              "</html>"
            ]
          },
          "metadata": {}
        }
      ]
    },
    {
      "cell_type": "markdown",
      "metadata": {
        "id": "jWvU5mGthRjf"
      },
      "source": [
        "### **Questão 5 - Consegue “predizer” o sexo e o estado físico dos “Ignorados” e “Não Informados”?* FICOU SEM FAZER*"
      ]
    },
    {
      "cell_type": "markdown",
      "metadata": {
        "id": "n2UfffmPhUkk"
      },
      "source": [
        "### **Questão 6 - O aumento de acidentes tem relação à sazonalidade (períodos de festas, de férias)?**"
      ]
    },
    {
      "cell_type": "markdown",
      "metadata": {
        "id": "b-k-TyIghWxP"
      },
      "source": [
        "### **Questão 7 - Qual é a média móvel dos acidentes nos últimos 5 anos (acidentes, feridos, mortes)?**"
      ]
    },
    {
      "cell_type": "markdown",
      "metadata": {
        "id": "RSvg-KWehY68"
      },
      "source": [
        "### **Questão 8 - Como seria um forecast dos próximos 5 anos de acidentes e de vítimas?**"
      ]
    }
  ]
}